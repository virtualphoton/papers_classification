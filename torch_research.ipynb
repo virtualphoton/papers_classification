{
 "cells": [
  {
   "cell_type": "code",
   "execution_count": 1,
   "id": "847bd1a7-91f3-48e5-89f5-ccc673686bf6",
   "metadata": {},
   "outputs": [
    {
     "name": "stderr",
     "output_type": "stream",
     "text": [
      "2023-05-10 01:06:08.611215: I tensorflow/core/platform/cpu_feature_guard.cc:182] This TensorFlow binary is optimized to use available CPU instructions in performance-critical operations.\n",
      "To enable the following instructions: AVX2 FMA, in other operations, rebuild TensorFlow with the appropriate compiler flags.\n",
      "2023-05-10 01:06:09.113985: W tensorflow/compiler/tf2tensorrt/utils/py_utils.cc:38] TF-TRT Warning: Could not find TensorRT\n"
     ]
    }
   ],
   "source": [
    "import torch\n",
    "import torch.nn as nn\n",
    "from transformers import DistilBertForSequenceClassification, DistilBertTokenizer\n",
    "from transformers import get_linear_schedule_with_warmup\n",
    "from torch.utils.data import TensorDataset, random_split, DataLoader, RandomSampler, SequentialSampler\n",
    "import time, datetime, random, re\n",
    "import pandas as pd\n",
    "import numpy as np\n",
    "from sklearn.metrics import accuracy_score, f1_score, precision_score, recall_score\n",
    "import matplotlib.pyplot as plt\n",
    "import seaborn as sns\n",
    "import optuna\n",
    "from optuna.pruners import SuccessiveHalvingPruner\n",
    "from optuna.samplers import TPESampler\n",
    "from torch.cuda.amp import autocast, GradScaler\n",
    "from torch.optim import AdamW\n",
    "from tqdm.notebook import tqdm\n",
    "\n",
    "from transformers import pipeline\n",
    "\n",
    "import json\n",
    "import pandas as pd\n",
    "import numpy as np\n",
    "from scipy.stats import mode\n",
    "from sklearn.model_selection import train_test_split\n",
    "import pickle\n",
    "\n",
    "SEED = 15\n",
    "random.seed(SEED)\n",
    "np.random.seed(SEED)\n",
    "torch.manual_seed(SEED)\n",
    "torch.backends.cudnn.deterministic = True\n",
    "torch.cuda.amp.autocast(enabled=True)\n",
    "device = torch.device(\"cuda\")"
   ]
  },
  {
   "cell_type": "markdown",
   "id": "9441ced9-a969-4eed-8fe5-f6661ed91a6a",
   "metadata": {},
   "source": [
    "## Tokens prep"
   ]
  },
  {
   "cell_type": "code",
   "execution_count": 14,
   "id": "f7e33077-b068-46b2-823d-8cc493a58b7a",
   "metadata": {},
   "outputs": [
    {
     "data": {
      "text/plain": [
       "'cs.AI'"
      ]
     },
     "execution_count": 14,
     "metadata": {},
     "output_type": "execute_result"
    }
   ],
   "source": [
    "fetched_data[0].primary_category"
   ]
  },
  {
   "cell_type": "code",
   "execution_count": 2,
   "id": "aad34d15-d4bb-4967-a5fa-429b71b967a7",
   "metadata": {
    "tags": []
   },
   "outputs": [],
   "source": [
    "with open('papers_info.pickle', 'rb') as f:\n",
    "    fetched_data = pickle.load(f)\n",
    "\n",
    "tags_change = [\n",
    "    (set(['quant-ph', 'physics', 'nucl-th', 'nucl-ex', 'nlin', 'math-ph', 'hep-th', 'hep-ph', 'hep-lat', 'hep-ex', 'gr-qc', 'cond-mat', 'astro-ph', 'adap-org']),\n",
    "        'physics'),\n",
    "    (['cmp-lg'], 'cs'),\n",
    "]\n",
    "\n",
    "tags_names = {\n",
    "    'cs': 'Computer Science',\n",
    "    'econ': 'Economics',\n",
    "    'eess': 'Electrical Engineering and Systems Science',\n",
    "    'math': 'Mathematics',\n",
    "    'q-bio': 'Quantitative Biology',\n",
    "    'q-fin': 'Quantitative Finance',\n",
    "    'stat': 'Statistics',\n",
    "    'physics': 'Physics'\n",
    "}\n",
    "\n",
    "tag_to_y = dict(zip(tags_names, range(len(tags_names))))\n",
    "\n",
    "def tag_grouping(tag):\n",
    "    # returns tag category as number / -1 if unkown\n",
    "    tag = tag.split('.')[0]\n",
    "    for tags, new_name in tags_change:\n",
    "        if tag in tags:\n",
    "            tag = new_name\n",
    "            break\n",
    "    return tag\n",
    "\n",
    "MIN_PAPERS_NUM = 100\n",
    "\n",
    "data = pd.DataFrame([{'title': paper.title,\n",
    "                      'summary': paper.summary,\n",
    "                      'category': tag_grouping(paper.primary_category)} for paper in fetched_data])\n",
    "\n",
    "\n",
    "\n",
    "counts = data.category.value_counts()\n",
    "too_few = counts[counts < MIN_PAPERS_NUM].index\n",
    "data_trunc = data.query(f'category != -1 and category not in {list(too_few)}')\n",
    "cat = pd.Categorical(data_trunc.category)\n",
    "data_trunc = data_trunc.drop(columns=['category'])\\\n",
    "    .assign(category=cat.codes)"
   ]
  },
  {
   "cell_type": "code",
   "execution_count": 3,
   "id": "997f098e-d001-44d1-8f78-97cb1006c03c",
   "metadata": {},
   "outputs": [
    {
     "data": {
      "text/plain": [
       "Index(['cs', 'math', 'physics', 'q-bio', 'stat'], dtype='object')"
      ]
     },
     "execution_count": 3,
     "metadata": {},
     "output_type": "execute_result"
    }
   ],
   "source": [
    "cat.categories"
   ]
  },
  {
   "cell_type": "code",
   "execution_count": 4,
   "id": "6b86499f-1b04-4010-b1fc-91712a51e591",
   "metadata": {},
   "outputs": [],
   "source": [
    "from transformers import DistilBertTokenizerFast\n",
    "\n",
    "tokenizer = DistilBertTokenizerFast.from_pretrained('distilbert-base-uncased')\n",
    "\n",
    "from imblearn.over_sampling import RandomOverSampler\n",
    "\n",
    "train_data, val_data = train_test_split(data_trunc, test_size=.1, stratify=data_trunc.category)\n",
    "\n",
    "def oversample_and_shuffle(df):\n",
    "    counts = df.category.value_counts()\n",
    "    num_samples = counts.loc[0] // 2\n",
    "    sampling_strategy = dict(zip(range(1, len(counts)), [num_samples] * len(counts)))\n",
    "    balanced, _ = RandomOverSampler(sampling_strategy=sampling_strategy).fit_resample(df, df.category)\n",
    "    shuffled_indices = np.arange(len(balanced))\n",
    "    np.random.shuffle(shuffled_indices)\n",
    "    return balanced.iloc[shuffled_indices]\n",
    "\n",
    "balanced_train, balanced_test = map(oversample_and_shuffle, [train_data, val_data])\n",
    "\n",
    "from operator import itemgetter\n",
    "from tqdm.notebook import tqdm\n",
    "\n",
    "MAX_LENGTH_TITLE = 30\n",
    "MAX_LENGTH_SUMM = 290\n",
    "\n",
    "def batch_encode(tokenizer, df, return_tensors='pt', batch_size=256):\n",
    "    # return list of batches (input_ids, attention_mask) and list of batches of y\n",
    "    title, summ = df.title.to_list(), df.summary.to_list()\n",
    "    y = df.category.values\n",
    "    \n",
    "    encoded = []\n",
    "    ys = []\n",
    "    getter = itemgetter('input_ids', 'attention_mask')\n",
    "    \n",
    "    for i in tqdm(range(0, len(title), batch_size)):\n",
    "        batch_t = title[i:i+batch_size]\n",
    "        batch_s = summ[i:i+batch_size]\n",
    "        \n",
    "        inputs = []\n",
    "        for batch, max_length  in [(batch_t, MAX_LENGTH_TITLE), (batch_s, MAX_LENGTH_SUMM)]:\n",
    "            inputs.extend(getter(tokenizer.batch_encode_plus(\n",
    "                batch,\n",
    "                max_length=max_length,\n",
    "                padding='longest',\n",
    "                truncation=True,\n",
    "                return_attention_mask=True,\n",
    "                return_token_type_ids=False,\n",
    "                return_tensors=return_tensors\n",
    "            )))\n",
    "        \n",
    "        encoded.append(inputs)\n",
    "        ys.append(torch.nn.functional.one_hot(torch.tensor(y[i:i+batch_size]).to(int)).to(float))\n",
    "    \n",
    "    return encoded, ys"
   ]
  },
  {
   "cell_type": "code",
   "execution_count": 5,
   "id": "0cfb7115-db8e-4d45-9ff7-d9737bf11082",
   "metadata": {},
   "outputs": [
    {
     "data": {
      "application/vnd.jupyter.widget-view+json": {
       "model_id": "efb62061f744459fa1d26672f8182c9d",
       "version_major": 2,
       "version_minor": 0
      },
      "text/plain": [
       "  0%|          | 0/2929 [00:00<?, ?it/s]"
      ]
     },
     "metadata": {},
     "output_type": "display_data"
    },
    {
     "data": {
      "application/vnd.jupyter.widget-view+json": {
       "model_id": "7075de484e884c018aebabac02bae297",
       "version_major": 2,
       "version_minor": 0
      },
      "text/plain": [
       "  0%|          | 0/326 [00:00<?, ?it/s]"
      ]
     },
     "metadata": {},
     "output_type": "display_data"
    }
   ],
   "source": [
    "train_seq, val_seq = (batch_encode(tokenizer, df, batch_size=32) for df in [balanced_train, balanced_test])"
   ]
  },
  {
   "cell_type": "code",
   "execution_count": 6,
   "id": "a81a2d16-6a83-4295-bf04-8d492c12162e",
   "metadata": {},
   "outputs": [],
   "source": [
    "# import pickle\n",
    "\n",
    "# with open('encoded.pickle', 'wb+') as f:\n",
    "#     pickle.dump({'train': train_seq, 'val': val_seq}, f)"
   ]
  },
  {
   "cell_type": "code",
   "execution_count": 7,
   "id": "7fe92590-f1ec-4259-868b-97a3b23b19d7",
   "metadata": {},
   "outputs": [],
   "source": [
    "with open('encoded.pickle', 'rb') as f:\n",
    "    pickle_obj = pickle.load(f)\n",
    "train_seq, val_seq = pickle_obj['train'], pickle_obj['val']"
   ]
  },
  {
   "cell_type": "code",
   "execution_count": 8,
   "id": "7dc6faae-0c08-4927-82bc-c7c790a7a1bd",
   "metadata": {
    "tags": []
   },
   "outputs": [],
   "source": [
    "from torch.utils.data import Dataset, DataLoader\n",
    "import numpy as np\n",
    "\n",
    "class MyDataset(Dataset):\n",
    "    def __init__(self, seq):\n",
    "        super().__init__()\n",
    "        self.X, self.y = seq\n",
    "\n",
    "    def __len__(self):\n",
    "        return len(self.X)\n",
    "\n",
    "    def __getitem__(self, idx):\n",
    "        return self.X[idx], self.y[idx]\n",
    "\n",
    "def get_prediction(logits_on_gpu):\n",
    "    return logits_on_gpu.argmax(axis=1).flatten().detach().cpu().numpy()\n",
    "\n",
    "def train(model, dataloader, optimizer, scaler, scheduler, use_title=True):\n",
    "    train_total_loss = 0\n",
    "    total_train_f1 = 0\n",
    "\n",
    "    model.train()\n",
    "    \n",
    "    exp_mean_alpha = .8\n",
    "    pbar = tqdm(dataloader)\n",
    "    cur_acc = None\n",
    "    for X, y_true in pbar:\n",
    "        X = X[:2] if use_title else X[2:]\n",
    "        X = [x.to(device) for x in X]\n",
    "        y = y_true.to(device)\n",
    "        \n",
    "        optimizer.zero_grad()\n",
    "        with autocast():\n",
    "            ret = model(\n",
    "                input_ids=X[0],\n",
    "                attention_mask=X[1],\n",
    "                labels=y\n",
    "            )\n",
    "            loss = ret.loss\n",
    "            logits = ret.logits\n",
    "            train_total_loss += loss.item()\n",
    "            \n",
    "\n",
    "        scaler.scale(loss).backward()\n",
    "        scaler.step(optimizer)\n",
    "        scaler.update()\n",
    "        scheduler.step()\n",
    "\n",
    "        y_pred = get_prediction(logits)\n",
    "        y_true = get_prediction(y_true)\n",
    "        total_train_f1 += f1_score(y_pred, y_true,\n",
    "                                   average='weighted',\n",
    "                                   labels=np.arange(len(cat.categories)))\n",
    "        if cur_acc is None:\n",
    "            cur_acc = accuracy_score(y_pred, y_true)\n",
    "        else:\n",
    "            cur_acc = cur_acc * exp_mean_alpha + accuracy_score(y_pred, y_true) * (1 - exp_mean_alpha)\n",
    "        pbar.set_description(f\"Accuracy: {cur_acc:.4f}\")\n",
    "        \n",
    "\n",
    "    avg_train_loss = train_total_loss / len(dataloader)\n",
    "    avg_train_f1 = total_train_f1 / len(dataloader)\n",
    "    \n",
    "    torch.cuda.empty_cache()\n",
    "    \n",
    "    return {\n",
    "        'loss': avg_train_loss,\n",
    "        'f1': avg_train_f1,\n",
    "        'accuracy': cur_acc\n",
    "    }\n",
    "\n",
    "def validate(model, dataloader, use_title=True):\n",
    "    model.eval()\n",
    "\n",
    "    metrics = {\"f1\": 0, \"precision\": 0, \"recall\": 0, \"loss\": 0, \"accuracy\": 0}\n",
    "    \n",
    "    for X, y_true in tqdm(dataloader):\n",
    "        X = X[:2] if use_title else X[2:]\n",
    "        X = [x.to(device) for x in X]\n",
    "        y = y_true.to(device)\n",
    "                                        \n",
    "                                        \n",
    "        with torch.no_grad():\n",
    "            ret = model(\n",
    "                input_ids=X[0],\n",
    "                attention_mask=X[1],\n",
    "                labels=y\n",
    "            )\n",
    "            loss = ret.loss\n",
    "            logits = ret.logits\n",
    "\n",
    "        metrics[\"loss\"] += loss.item()\n",
    "        y_pred = get_prediction(logits)\n",
    "        y_true = get_prediction(y_true)\n",
    "        \n",
    "        for func, metric in ((f1_score, \"f1\"), (precision_score, \"precision\"), (recall_score, \"recall\")):\n",
    "            metrics[metric] += func(y_pred, y_true, average=\"weighted\", labels=np.arange(len(cat.categories)))\n",
    "        metrics[\"accuracy\"] += accuracy_score(y_pred, y_true)\n",
    "\n",
    "    for metric in metrics:\n",
    "        metrics[metric] /= len(dataloader)\n",
    "\n",
    "    return metrics"
   ]
  },
  {
   "cell_type": "code",
   "execution_count": 9,
   "id": "e0f70aa6-593c-4ed4-9640-4a6449972a1e",
   "metadata": {},
   "outputs": [
    {
     "name": "stderr",
     "output_type": "stream",
     "text": [
      "Some weights of the model checkpoint at distilbert-base-uncased were not used when initializing DistilBertForSequenceClassification: ['vocab_projector.weight', 'vocab_transform.weight', 'vocab_layer_norm.weight', 'vocab_transform.bias', 'vocab_layer_norm.bias', 'vocab_projector.bias']\n",
      "- This IS expected if you are initializing DistilBertForSequenceClassification from the checkpoint of a model trained on another task or with another architecture (e.g. initializing a BertForSequenceClassification model from a BertForPreTraining model).\n",
      "- This IS NOT expected if you are initializing DistilBertForSequenceClassification from the checkpoint of a model that you expect to be exactly identical (initializing a BertForSequenceClassification model from a BertForSequenceClassification model).\n",
      "Some weights of DistilBertForSequenceClassification were not initialized from the model checkpoint at distilbert-base-uncased and are newly initialized: ['classifier.weight', 'pre_classifier.weight', 'classifier.bias', 'pre_classifier.bias']\n",
      "You should probably TRAIN this model on a down-stream task to be able to use it for predictions and inference.\n"
     ]
    }
   ],
   "source": [
    "model = DistilBertForSequenceClassification.from_pretrained(\n",
    "    \"distilbert-base-uncased\",\n",
    "    num_labels=len(cat.categories)\n",
    ")\n",
    "model.cuda();\n",
    "\n",
    "train_set = MyDataset(train_seq)\n",
    "val_set = MyDataset(val_seq)\n",
    "\n",
    "epochs = 15\n",
    "total_steps = len(train_set) * epochs\n",
    "\n",
    "optimizer = AdamW(model.parameters(),\n",
    "                  lr=3.306430502342561e-06,\n",
    "                  weight_decay=0.65\n",
    "                )\n",
    "\n",
    "scheduler = get_linear_schedule_with_warmup(optimizer,\n",
    "                                            num_warmup_steps=0,\n",
    "                                            num_training_steps=total_steps)\n",
    "scaler = GradScaler()"
   ]
  },
  {
   "cell_type": "code",
   "execution_count": 10,
   "id": "c5105a7d-d984-4fea-b90e-0f63d93e105f",
   "metadata": {
    "tags": []
   },
   "outputs": [
    {
     "data": {
      "application/vnd.jupyter.widget-view+json": {
       "model_id": "b7b79b1711de4577b5ffbe6eeb898175",
       "version_major": 2,
       "version_minor": 0
      },
      "text/plain": [
       "  0%|          | 0/367 [00:00<?, ?it/s]"
      ]
     },
     "metadata": {},
     "output_type": "display_data"
    },
    {
     "name": "stdout",
     "output_type": "stream",
     "text": [
      "{'loss': 0.48100709549858073, 'f1': 0.4920431593445377, 'accuracy': 0.556507879791251}\n"
     ]
    },
    {
     "name": "stderr",
     "output_type": "stream",
     "text": [
      "/home/photon/anaconda3/envs/ML2/lib/python3.10/site-packages/sklearn/metrics/_classification.py:1609: UndefinedMetricWarning: F-score is ill-defined and being set to 0.0 in labels with no true nor predicted samples. Use `zero_division` parameter to control this behavior.\n",
      "  _warn_prf(average, \"true nor predicted\", \"F-score is\", len(true_sum))\n"
     ]
    },
    {
     "data": {
      "application/vnd.jupyter.widget-view+json": {
       "model_id": "5b157ee6ef9745659fc8e8a62cb427e5",
       "version_major": 2,
       "version_minor": 0
      },
      "text/plain": [
       "  0%|          | 0/41 [00:00<?, ?it/s]"
      ]
     },
     "metadata": {},
     "output_type": "display_data"
    },
    {
     "name": "stderr",
     "output_type": "stream",
     "text": [
      "/home/photon/anaconda3/envs/ML2/lib/python3.10/site-packages/sklearn/metrics/_classification.py:1344: UndefinedMetricWarning: Recall is ill-defined and being set to 0.0 in labels with no true samples. Use `zero_division` parameter to control this behavior.\n",
      "  _warn_prf(average, modifier, msg_start, len(result))\n"
     ]
    },
    {
     "name": "stdout",
     "output_type": "stream",
     "text": [
      "{'f1': 0.6074861778435929, 'precision': 0.6834523725509428, 'recall': 0.5647119259021537, 'loss': 0.3921090804902194, 'accuracy': 0.5647119259021537}\n"
     ]
    },
    {
     "data": {
      "application/vnd.jupyter.widget-view+json": {
       "model_id": "0051d3a33ba84d8ba6372c2a9b0cd48b",
       "version_major": 2,
       "version_minor": 0
      },
      "text/plain": [
       "  0%|          | 0/367 [00:00<?, ?it/s]"
      ]
     },
     "metadata": {},
     "output_type": "display_data"
    },
    {
     "name": "stdout",
     "output_type": "stream",
     "text": [
      "{'loss': 0.3218745007060749, 'f1': 0.6990466593784981, 'accuracy': 0.7470224746133077}\n"
     ]
    },
    {
     "name": "stderr",
     "output_type": "stream",
     "text": [
      "/home/photon/anaconda3/envs/ML2/lib/python3.10/site-packages/sklearn/metrics/_classification.py:1609: UndefinedMetricWarning: F-score is ill-defined and being set to 0.0 in labels with no true nor predicted samples. Use `zero_division` parameter to control this behavior.\n",
      "  _warn_prf(average, \"true nor predicted\", \"F-score is\", len(true_sum))\n"
     ]
    },
    {
     "data": {
      "application/vnd.jupyter.widget-view+json": {
       "model_id": "c74c104eb0094451a1dd64265534ab06",
       "version_major": 2,
       "version_minor": 0
      },
      "text/plain": [
       "  0%|          | 0/41 [00:00<?, ?it/s]"
      ]
     },
     "metadata": {},
     "output_type": "display_data"
    },
    {
     "name": "stdout",
     "output_type": "stream",
     "text": [
      "{'f1': 0.5942172991036576, 'precision': 0.6271263714882545, 'recall': 0.587195567679361, 'loss': 0.358150273103308, 'accuracy': 0.587195567679361}\n"
     ]
    },
    {
     "data": {
      "application/vnd.jupyter.widget-view+json": {
       "model_id": "903d6671ec90486190957a5fc25bed35",
       "version_major": 2,
       "version_minor": 0
      },
      "text/plain": [
       "  0%|          | 0/367 [00:00<?, ?it/s]"
      ]
     },
     "metadata": {},
     "output_type": "display_data"
    },
    {
     "name": "stdout",
     "output_type": "stream",
     "text": [
      "{'loss': 0.23489786594814352, 'f1': 0.7856764077523813, 'accuracy': 0.8023062110546897}\n"
     ]
    },
    {
     "name": "stderr",
     "output_type": "stream",
     "text": [
      "/home/photon/anaconda3/envs/ML2/lib/python3.10/site-packages/sklearn/metrics/_classification.py:1609: UndefinedMetricWarning: F-score is ill-defined and being set to 0.0 in labels with no true nor predicted samples. Use `zero_division` parameter to control this behavior.\n",
      "  _warn_prf(average, \"true nor predicted\", \"F-score is\", len(true_sum))\n"
     ]
    },
    {
     "data": {
      "application/vnd.jupyter.widget-view+json": {
       "model_id": "a1a6078956844112b9d14021f6199f8b",
       "version_major": 2,
       "version_minor": 0
      },
      "text/plain": [
       "  0%|          | 0/41 [00:00<?, ?it/s]"
      ]
     },
     "metadata": {},
     "output_type": "display_data"
    },
    {
     "name": "stdout",
     "output_type": "stream",
     "text": [
      "{'f1': 0.5693373504707115, 'precision': 0.6122736314566605, 'recall': 0.5615684281842819, 'loss': 0.4018565448321144, 'accuracy': 0.5615684281842819}\n"
     ]
    },
    {
     "data": {
      "application/vnd.jupyter.widget-view+json": {
       "model_id": "ebe0d294e94f4e5ebef5c8ef84317e3a",
       "version_major": 2,
       "version_minor": 0
      },
      "text/plain": [
       "  0%|          | 0/367 [00:00<?, ?it/s]"
      ]
     },
     "metadata": {},
     "output_type": "display_data"
    },
    {
     "ename": "KeyboardInterrupt",
     "evalue": "",
     "output_type": "error",
     "traceback": [
      "\u001b[0;31m---------------------------------------------------------------------------\u001b[0m",
      "\u001b[0;31mKeyboardInterrupt\u001b[0m                         Traceback (most recent call last)",
      "Cell \u001b[0;32mIn[10], line 2\u001b[0m\n\u001b[1;32m      1\u001b[0m \u001b[38;5;28;01mfor\u001b[39;00m _ \u001b[38;5;129;01min\u001b[39;00m \u001b[38;5;28mrange\u001b[39m(\u001b[38;5;241m15\u001b[39m):\n\u001b[0;32m----> 2\u001b[0m     \u001b[38;5;28mprint\u001b[39m(\u001b[43mtrain\u001b[49m\u001b[43m(\u001b[49m\u001b[43mmodel\u001b[49m\u001b[43m,\u001b[49m\u001b[43m \u001b[49m\u001b[43mtrain_set\u001b[49m\u001b[43m,\u001b[49m\u001b[43m \u001b[49m\u001b[43moptimizer\u001b[49m\u001b[43m,\u001b[49m\u001b[43m \u001b[49m\u001b[43mscaler\u001b[49m\u001b[43m,\u001b[49m\u001b[43m \u001b[49m\u001b[43mscheduler\u001b[49m\u001b[43m,\u001b[49m\u001b[43m \u001b[49m\u001b[38;5;28;43;01mTrue\u001b[39;49;00m\u001b[43m)\u001b[49m)\n\u001b[1;32m      3\u001b[0m     \u001b[38;5;28mprint\u001b[39m(validate(model, val_set, \u001b[38;5;28;01mTrue\u001b[39;00m))\n",
      "Cell \u001b[0;32mIn[8], line 44\u001b[0m, in \u001b[0;36mtrain\u001b[0;34m(model, dataloader, optimizer, scaler, scheduler, use_title)\u001b[0m\n\u001b[1;32m     40\u001b[0m     logits \u001b[38;5;241m=\u001b[39m ret\u001b[38;5;241m.\u001b[39mlogits\n\u001b[1;32m     41\u001b[0m     train_total_loss \u001b[38;5;241m+\u001b[39m\u001b[38;5;241m=\u001b[39m loss\u001b[38;5;241m.\u001b[39mitem()\n\u001b[0;32m---> 44\u001b[0m \u001b[43mscaler\u001b[49m\u001b[38;5;241;43m.\u001b[39;49m\u001b[43mscale\u001b[49m\u001b[43m(\u001b[49m\u001b[43mloss\u001b[49m\u001b[43m)\u001b[49m\u001b[38;5;241;43m.\u001b[39;49m\u001b[43mbackward\u001b[49m\u001b[43m(\u001b[49m\u001b[43m)\u001b[49m\n\u001b[1;32m     45\u001b[0m scaler\u001b[38;5;241m.\u001b[39mstep(optimizer)\n\u001b[1;32m     46\u001b[0m scaler\u001b[38;5;241m.\u001b[39mupdate()\n",
      "File \u001b[0;32m~/anaconda3/envs/ML2/lib/python3.10/site-packages/torch/_tensor.py:487\u001b[0m, in \u001b[0;36mTensor.backward\u001b[0;34m(self, gradient, retain_graph, create_graph, inputs)\u001b[0m\n\u001b[1;32m    477\u001b[0m \u001b[38;5;28;01mif\u001b[39;00m has_torch_function_unary(\u001b[38;5;28mself\u001b[39m):\n\u001b[1;32m    478\u001b[0m     \u001b[38;5;28;01mreturn\u001b[39;00m handle_torch_function(\n\u001b[1;32m    479\u001b[0m         Tensor\u001b[38;5;241m.\u001b[39mbackward,\n\u001b[1;32m    480\u001b[0m         (\u001b[38;5;28mself\u001b[39m,),\n\u001b[0;32m   (...)\u001b[0m\n\u001b[1;32m    485\u001b[0m         inputs\u001b[38;5;241m=\u001b[39minputs,\n\u001b[1;32m    486\u001b[0m     )\n\u001b[0;32m--> 487\u001b[0m \u001b[43mtorch\u001b[49m\u001b[38;5;241;43m.\u001b[39;49m\u001b[43mautograd\u001b[49m\u001b[38;5;241;43m.\u001b[39;49m\u001b[43mbackward\u001b[49m\u001b[43m(\u001b[49m\n\u001b[1;32m    488\u001b[0m \u001b[43m    \u001b[49m\u001b[38;5;28;43mself\u001b[39;49m\u001b[43m,\u001b[49m\u001b[43m \u001b[49m\u001b[43mgradient\u001b[49m\u001b[43m,\u001b[49m\u001b[43m \u001b[49m\u001b[43mretain_graph\u001b[49m\u001b[43m,\u001b[49m\u001b[43m \u001b[49m\u001b[43mcreate_graph\u001b[49m\u001b[43m,\u001b[49m\u001b[43m \u001b[49m\u001b[43minputs\u001b[49m\u001b[38;5;241;43m=\u001b[39;49m\u001b[43minputs\u001b[49m\n\u001b[1;32m    489\u001b[0m \u001b[43m\u001b[49m\u001b[43m)\u001b[49m\n",
      "File \u001b[0;32m~/anaconda3/envs/ML2/lib/python3.10/site-packages/torch/autograd/__init__.py:200\u001b[0m, in \u001b[0;36mbackward\u001b[0;34m(tensors, grad_tensors, retain_graph, create_graph, grad_variables, inputs)\u001b[0m\n\u001b[1;32m    195\u001b[0m     retain_graph \u001b[38;5;241m=\u001b[39m create_graph\n\u001b[1;32m    197\u001b[0m \u001b[38;5;66;03m# The reason we repeat same the comment below is that\u001b[39;00m\n\u001b[1;32m    198\u001b[0m \u001b[38;5;66;03m# some Python versions print out the first line of a multi-line function\u001b[39;00m\n\u001b[1;32m    199\u001b[0m \u001b[38;5;66;03m# calls in the traceback and some print out the last line\u001b[39;00m\n\u001b[0;32m--> 200\u001b[0m \u001b[43mVariable\u001b[49m\u001b[38;5;241;43m.\u001b[39;49m\u001b[43m_execution_engine\u001b[49m\u001b[38;5;241;43m.\u001b[39;49m\u001b[43mrun_backward\u001b[49m\u001b[43m(\u001b[49m\u001b[43m  \u001b[49m\u001b[38;5;66;43;03m# Calls into the C++ engine to run the backward pass\u001b[39;49;00m\n\u001b[1;32m    201\u001b[0m \u001b[43m    \u001b[49m\u001b[43mtensors\u001b[49m\u001b[43m,\u001b[49m\u001b[43m \u001b[49m\u001b[43mgrad_tensors_\u001b[49m\u001b[43m,\u001b[49m\u001b[43m \u001b[49m\u001b[43mretain_graph\u001b[49m\u001b[43m,\u001b[49m\u001b[43m \u001b[49m\u001b[43mcreate_graph\u001b[49m\u001b[43m,\u001b[49m\u001b[43m \u001b[49m\u001b[43minputs\u001b[49m\u001b[43m,\u001b[49m\n\u001b[1;32m    202\u001b[0m \u001b[43m    \u001b[49m\u001b[43mallow_unreachable\u001b[49m\u001b[38;5;241;43m=\u001b[39;49m\u001b[38;5;28;43;01mTrue\u001b[39;49;00m\u001b[43m,\u001b[49m\u001b[43m \u001b[49m\u001b[43maccumulate_grad\u001b[49m\u001b[38;5;241;43m=\u001b[39;49m\u001b[38;5;28;43;01mTrue\u001b[39;49;00m\u001b[43m)\u001b[49m\n",
      "\u001b[0;31mKeyboardInterrupt\u001b[0m: "
     ]
    }
   ],
   "source": [
    "for _ in range(15):\n",
    "    print(train(model, train_set, optimizer, scaler, scheduler, True))\n",
    "    print(validate(model, val_set, True))"
   ]
  },
  {
   "cell_type": "code",
   "execution_count": 28,
   "id": "a2734836-3569-4d2b-b616-e4cb3a2eb563",
   "metadata": {},
   "outputs": [
    {
     "data": {
      "application/vnd.jupyter.widget-view+json": {
       "model_id": "7b22b20080b648fe9d2719e1ca36fe34",
       "version_major": 2,
       "version_minor": 0
      },
      "text/plain": [
       "  0%|          | 0/92 [00:00<?, ?it/s]"
      ]
     },
     "metadata": {},
     "output_type": "display_data"
    },
    {
     "data": {
      "application/vnd.jupyter.widget-view+json": {
       "model_id": "02dbe9a692614b44a826dd396f695008",
       "version_major": 2,
       "version_minor": 0
      },
      "text/plain": [
       "  0%|          | 0/11 [00:00<?, ?it/s]"
      ]
     },
     "metadata": {},
     "output_type": "display_data"
    },
    {
     "data": {
      "text/plain": [
       "{'f1': 0.6501755142749056,\n",
       " 'precision': 0.6787277013744901,\n",
       " 'recall': 0.644060880183413,\n",
       " 'loss': 0.3369613107804131,\n",
       " 'accuracy': 0.644060880183413}"
      ]
     },
     "execution_count": 28,
     "metadata": {},
     "output_type": "execute_result"
    }
   ],
   "source": [
    "train(model, train_set, optimizer, scaler, scheduler)\n",
    "\n",
    "validate(model, val_set)"
   ]
  }
 ],
 "metadata": {
  "kernelspec": {
   "display_name": "Python 3 (ipykernel)",
   "language": "python",
   "name": "python3"
  },
  "language_info": {
   "codemirror_mode": {
    "name": "ipython",
    "version": 3
   },
   "file_extension": ".py",
   "mimetype": "text/x-python",
   "name": "python",
   "nbconvert_exporter": "python",
   "pygments_lexer": "ipython3",
   "version": "3.10.11"
  }
 },
 "nbformat": 4,
 "nbformat_minor": 5
}
