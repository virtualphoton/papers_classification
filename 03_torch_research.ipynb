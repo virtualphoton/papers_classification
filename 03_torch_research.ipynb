{
 "cells": [
  {
   "cell_type": "code",
   "execution_count": 1,
   "id": "847bd1a7-91f3-48e5-89f5-ccc673686bf6",
   "metadata": {},
   "outputs": [
    {
     "name": "stderr",
     "output_type": "stream",
     "text": [
      "2023-05-17 03:15:45.392827: I tensorflow/core/platform/cpu_feature_guard.cc:182] This TensorFlow binary is optimized to use available CPU instructions in performance-critical operations.\n",
      "To enable the following instructions: AVX2 FMA, in other operations, rebuild TensorFlow with the appropriate compiler flags.\n",
      "2023-05-17 03:15:45.893067: W tensorflow/compiler/tf2tensorrt/utils/py_utils.cc:38] TF-TRT Warning: Could not find TensorRT\n"
     ]
    }
   ],
   "source": [
    "import torch\n",
    "import torch.nn as nn\n",
    "from transformers import DistilBertForSequenceClassification, DistilBertTokenizerFast, DistilBertModel\n",
    "from transformers import get_linear_schedule_with_warmup\n",
    "from torch.utils.data import TensorDataset, random_split, DataLoader, RandomSampler, SequentialSampler\n",
    "import time, datetime, random, re\n",
    "from sklearn.metrics import accuracy_score, f1_score, precision_score, recall_score\n",
    "import matplotlib.pyplot as plt\n",
    "import seaborn as sns\n",
    "from torch.cuda.amp import autocast, GradScaler\n",
    "from torch.optim import AdamW\n",
    "from tqdm.notebook import tqdm\n",
    "import warnings\n",
    "from IPython.display import clear_output\n",
    "from plotly.subplots import make_subplots\n",
    "import plotly.express as px\n",
    "from math import ceil\n",
    "\n",
    "from imblearn.over_sampling import RandomOverSampler\n",
    "from imblearn.under_sampling import RandomUnderSampler\n",
    "\n",
    "from operator import itemgetter\n",
    "from tqdm.notebook import tqdm\n",
    "\n",
    "import json\n",
    "import pandas as pd\n",
    "import numpy as np\n",
    "from sklearn.model_selection import train_test_split\n",
    "import pickle\n",
    "\n",
    "SEED = 15\n",
    "random.seed(SEED)\n",
    "np.random.seed(SEED)\n",
    "torch.manual_seed(SEED)\n",
    "torch.backends.cudnn.deterministic = True\n",
    "torch.cuda.amp.autocast(enabled=True)\n",
    "device = torch.device(\"cuda\")"
   ]
  },
  {
   "cell_type": "markdown",
   "id": "9441ced9-a969-4eed-8fe5-f6661ed91a6a",
   "metadata": {},
   "source": [
    "## Tokens prep"
   ]
  },
  {
   "cell_type": "code",
   "execution_count": 2,
   "id": "8dfcc931-9956-42e2-8c7e-629c8702c5f3",
   "metadata": {
    "tags": []
   },
   "outputs": [],
   "source": [
    "physics = {'quant-ph', 'physics', 'nucl-th', 'nucl-ex', 'nlin', \n",
    "           'math-ph', 'hep-th', 'hep-ph', 'hep-lat', 'hep-ex', \n",
    "           'gr-qc', 'cond-mat', 'astro-ph', 'adap-org', 'physics'}\n",
    "\n",
    "tags_names = {\n",
    "    'cs': 'Computer Science',\n",
    "    'econ': 'Economics',\n",
    "    'eess': 'Electrical Engineering and Systems Science',\n",
    "    'math': 'Mathematics',\n",
    "    'physics': 'Physics',\n",
    "    'q-bio': 'Quantitative Biology',\n",
    "    'q-fin': 'Quantitative Finance',\n",
    "    'stat': 'Statistics',\n",
    "}\n",
    "\n",
    "def get_cat(tag):\n",
    "    # returns tag category as number / -1 if unkown\n",
    "    tag = tag.split('.')[0]\n",
    "    if tag in physics:\n",
    "        return \"physics\"\n",
    "    return tag\n",
    "\n",
    "def remove_mul_spaces(text):\n",
    "    return re.sub(r\"\\s+\", \" \", text)"
   ]
  },
  {
   "cell_type": "code",
   "execution_count": 3,
   "id": "0247eac0-4abf-4310-bb7c-e0a152254726",
   "metadata": {},
   "outputs": [],
   "source": [
    "with open('./data/papers_merged.pickle', 'rb') as f:\n",
    "    fetched_data = pickle.load(f)\n",
    "\n",
    "data = pd.DataFrame([{'title': remove_mul_spaces(paper['title']),\n",
    "                      'summary': remove_mul_spaces(paper['summary']),\n",
    "                      'category': get_cat(paper['arxiv_primary_category']['term'])} for paper in fetched_data])\n",
    "\n",
    "cat = pd.Categorical(data.category)\n",
    "data = data\\\n",
    "    .drop(columns=['category'])\\\n",
    "    .assign(category=cat.codes)\n",
    "\n",
    "goal_num = 7_000\n",
    "num_samples = {cat : min(num, goal_num) for cat, num in data.category.value_counts().reset_index().values}\n",
    "data1, _ = RandomUnderSampler(sampling_strategy=num_samples)\\\n",
    "    .fit_resample(data, data.category)\n",
    "\n",
    "train_data, val_data = train_test_split(data1, test_size=.1, stratify=data1.category)\n",
    "\n",
    "shuffled = np.arange(len(train_data))\n",
    "np.random.shuffle(shuffled)\n",
    "train_data = train_data.iloc[shuffled]\n",
    "\n",
    "# with open('./data/cat_data.pickle', 'wb') as f:\n",
    "#     pickle.dump({\"cat\" : cat.categories, \"subcat\" : sub_cat.categories}, f)"
   ]
  },
  {
   "cell_type": "code",
   "execution_count": 4,
   "id": "6b86499f-1b04-4010-b1fc-91712a51e591",
   "metadata": {},
   "outputs": [],
   "source": [
    "tokenizer = DistilBertTokenizerFast.from_pretrained('distilbert-base-uncased-finetuned-sst-2-english')\n",
    "MAX_LENGTH = 290\n",
    "MAX_LENGTH_FIELD = 260\n",
    "\n",
    "def batch_encode(tokenizer, df, return_tensors='pt', batch_size=256, main_cat_weight=5):\n",
    "    # return list of batches (input_ids, attention_mask) and list of batches of y\n",
    "    title, summ = df.title.to_list(), df.summary.to_list()\n",
    "    total = df.title.str.cat([pd.Series(tokenizer.sep_token, index=df.index), df.summary]).to_list()\n",
    "    y = df.category.values\n",
    "    \n",
    "    encoded = []\n",
    "    ys = []\n",
    "    getter = itemgetter('input_ids', 'attention_mask')\n",
    "    \n",
    "    for i in tqdm(range(0, len(title), batch_size)):\n",
    "        slice_ = slice(i, i + batch_size)\n",
    "        batch_t = title[slice_]\n",
    "        batch_s = summ[slice_]\n",
    "        batch_total = total[slice_]\n",
    "        \n",
    "        inputs = []\n",
    "        for batch, max_length  in [(batch_t, MAX_LENGTH_FIELD),\n",
    "                                   (batch_s, MAX_LENGTH_FIELD),\n",
    "                                   (batch_total, MAX_LENGTH)]:\n",
    "            inputs.append(getter(tokenizer.batch_encode_plus(\n",
    "                batch,\n",
    "                max_length=max_length,\n",
    "                padding='longest',\n",
    "                truncation=True,\n",
    "                return_attention_mask=True,\n",
    "                return_token_type_ids=False,\n",
    "                return_tensors=return_tensors\n",
    "            )))\n",
    "        \n",
    "        encoded.append(inputs)\n",
    "        ys.append(torch.tensor(y[slice_]).to(int))\n",
    "    \n",
    "    return encoded, ys"
   ]
  },
  {
   "cell_type": "code",
   "execution_count": 5,
   "id": "0cfb7115-db8e-4d45-9ff7-d9737bf11082",
   "metadata": {},
   "outputs": [],
   "source": [
    "# train_seq, val_seq = (batch_encode(tokenizer, df, batch_size=32) for df in [train_data, val_data])"
   ]
  },
  {
   "cell_type": "code",
   "execution_count": 6,
   "id": "a81a2d16-6a83-4295-bf04-8d492c12162e",
   "metadata": {},
   "outputs": [],
   "source": [
    "# import pickle\n",
    "\n",
    "# with open('./data/encoded.pickle', 'wb+') as f:\n",
    "#     pickle.dump({'train': train_seq, 'val': val_seq}, f)"
   ]
  },
  {
   "cell_type": "code",
   "execution_count": 7,
   "id": "7fe92590-f1ec-4259-868b-97a3b23b19d7",
   "metadata": {},
   "outputs": [],
   "source": [
    "with open('./data/encoded.pickle', 'rb') as f:\n",
    "    pickle_obj = pickle.load(f)\n",
    "train_seq, val_seq = pickle_obj['train'], pickle_obj['val']"
   ]
  },
  {
   "cell_type": "code",
   "execution_count": 8,
   "id": "e1496a8d-ea6e-4b6b-b42b-04ddc15f40b5",
   "metadata": {},
   "outputs": [],
   "source": [
    "from pathlib import Path\n",
    "\n",
    "with open('./data/cat_data.pickle', 'rb') as f:\n",
    "    CATEGORIES_NUM = len(pickle.load(f)[\"cat\"])\n",
    "\n",
    "class MyModel(nn.Module):\n",
    "    def __init__(self, path=None, n_labels=CATEGORIES_NUM):\n",
    "        super().__init__()\n",
    "        self.transformer = None\n",
    "        if path is None:\n",
    "            self.transformer = DistilBertModel.from_pretrained('distilbert-base-uncased')\n",
    "        self.clf = nn.Sequential(\n",
    "            nn.Linear(in_features=768, out_features=2048),\n",
    "            nn.ReLU(),\n",
    "            torch.nn.BatchNorm1d(num_features=2048),\n",
    "            nn.Dropout(.2),\n",
    "            nn.Linear(in_features=2048, out_features=2048),\n",
    "            nn.ReLU(),\n",
    "            torch.nn.BatchNorm1d(num_features=2048),\n",
    "            nn.Dropout(.2),\n",
    "            nn.Linear(in_features=2048, out_features=n_labels),\n",
    "        )\n",
    "        \n",
    "        if path is not None:\n",
    "            self.load(path)\n",
    "    \n",
    "    def forward(self, input_ids, attention_mask):\n",
    "        X = self.transformer(input_ids=input_ids, attention_mask=attention_mask)[0][:, 0]\n",
    "        return self.clf(X)\n",
    "    \n",
    "    def save(self, path):\n",
    "        path = Path(path)\n",
    "        if not path.exists():\n",
    "            path.mkdir()\n",
    "        for i, layer in enumerate([self.clf]):\n",
    "            torch.save(layer.state_dict(), path / f\"layer_{i}.pt\")\n",
    "        self.transformer.save_pretrained(path / \"transformer-chkp\")\n",
    "        \n",
    "    def load(self, path):\n",
    "        path = Path(path)\n",
    "        self.transformer = DistilBertModel.from_pretrained(\n",
    "            path / \"transformer-chkp\",\n",
    "            local_files_only=True\n",
    "        )\n",
    "        for i, layer in enumerate([self.clf]):\n",
    "            layer.load_state_dict(torch.load(path / f\"layer_{i}.pt\"))"
   ]
  },
  {
   "cell_type": "code",
   "execution_count": 9,
   "id": "7dc6faae-0c08-4927-82bc-c7c790a7a1bd",
   "metadata": {
    "tags": []
   },
   "outputs": [],
   "source": [
    "from torch.utils.data import Dataset, DataLoader\n",
    "import numpy as np\n",
    "from random import shuffle\n",
    "from collections import defaultdict\n",
    "\n",
    "class MyDataset(Dataset):\n",
    "    def __init__(self, seq, epoch_size=None):\n",
    "        super().__init__()\n",
    "        self.X, self.y = seq\n",
    "        self.epoch_size = epoch_size or len(self.X)\n",
    "\n",
    "    def __len__(self):\n",
    "        return self.epoch_size\n",
    "\n",
    "    def __getitem__(self, idx):\n",
    "        if idx >= self.epoch_size:\n",
    "            raise IndexError\n",
    "        return self.X[idx], self.y[idx]\n",
    "    \n",
    "    def reshuffle(self):\n",
    "        zipped = list(zip(self.X, self.y))\n",
    "        shuffle(zipped)\n",
    "        self.X, self.y = zip(*zipped)\n",
    "\n",
    "def get_prediction(logits_on_gpu):\n",
    "    return logits_on_gpu.argmax(axis=-1).flatten().detach().cpu().numpy()\n",
    "\n",
    "class ExpMean:\n",
    "    def __init__(self, alpha=.95):\n",
    "        # the greater alpha, the lesser influence for new\n",
    "        self.val = None\n",
    "        self.alpha = alpha\n",
    "    \n",
    "    def upd(self, new_val):\n",
    "        if self.val is None:\n",
    "            self.val = new_val\n",
    "        else:\n",
    "            self.val = self.val * self.alpha + new_val * (1 - self.alpha)\n",
    "    \n",
    "    def __repr__(self):\n",
    "        return str(self.val)\n",
    "\n",
    "def calc_metrics(logits, y_true_cpu, name, metrics, counter, metrics_exp=None):\n",
    "    y_pred = get_prediction(logits)\n",
    "    new_acc = accuracy_score(y_true_cpu, y_pred)\n",
    "    metrics[f'accuracy_{name}'] += new_acc\n",
    "    counter[f'accuracy_{name}'] += 1\n",
    "    \n",
    "    if metrics_exp is not None:\n",
    "        metrics_exp[f'accuracy_{name}'].upd(new_acc)\n",
    "    \n",
    "def train(model, dataloader, optimizer, scaler, loss_fn, scheduler, exp_mean_alpha = .8, proba=None):\n",
    "    # param proba: list of length 2 - probabilities to select only title, only summary.\n",
    "    #    probability to select both is 1 - sum(proba)\n",
    "    # the greater exp_mean_alpha, the lesser influence of new means\n",
    "    if proba is None:\n",
    "        proba = [0.2, 0.2]\n",
    "    proba.append(1 - sum(proba))\n",
    "    proba = np.array(proba)\n",
    "    \n",
    "    metrics = defaultdict(float)\n",
    "    counter = defaultdict(int)\n",
    "    metrics_exp = defaultdict(lambda: ExpMean(exp_mean_alpha))\n",
    "\n",
    "    model.train()\n",
    "    \n",
    "    dataloader.reshuffle()\n",
    "    pbar = tqdm(dataloader)\n",
    "    cur_acc = None\n",
    "    \n",
    "    for X_, y_true in pbar:\n",
    "        # idx = np.random.choice(3, p=proba)\n",
    "        for name, X in zip(['title_only', 'summ_only', 'both'], X_):\n",
    "            X = [x.to(device) for x in X]\n",
    "            y_true = y_true.to(device)\n",
    "\n",
    "            optimizer.zero_grad()\n",
    "            with autocast():\n",
    "                logits = model(*X)\n",
    "        \n",
    "            loss = loss_fn(logits, y_true)\n",
    "            scaler.scale(loss).backward()\n",
    "            scaler.step(optimizer)\n",
    "            scaler.update()\n",
    "            metrics[f'loss_{name}'] += loss.item()\n",
    "            counter[f'loss_{name}'] += 1\n",
    "            with torch.no_grad():\n",
    "                calc_metrics(logits, y_true.to('cpu'), name, metrics, counter, metrics_exp)\n",
    "        scheduler.step()\n",
    "        \n",
    "            \n",
    "        pbar.set_description(\" \".join(f'{metric}: {acc.val:.4f}' for metric, acc in metrics_exp.items()))\n",
    "        \n",
    "    for metric in metrics:\n",
    "        try:\n",
    "            metrics[metric] /= counter[metric]\n",
    "        except ZeroDivisionError:\n",
    "            pass\n",
    "    \n",
    "    torch.cuda.empty_cache()\n",
    "    \n",
    "    return dict(metrics)\n",
    "\n",
    "def validate(model, dataloader, loss_fn, **kwargs):\n",
    "    model.eval()\n",
    "\n",
    "    metrics = defaultdict(float)\n",
    "    counter = defaultdict(int)\n",
    "    \n",
    "    dataloader.reshuffle()\n",
    "    pbar = tqdm(dataloader)\n",
    "    for X_, y_true in pbar:\n",
    "        y_true = y_true.to(device)\n",
    "                                        \n",
    "        with torch.no_grad():\n",
    "            for name, X in zip(['title_only', 'summ_only', 'both'], X_):\n",
    "                X = [x.to(device) for x in X]\n",
    "                logits = model(*X)\n",
    "                loss = loss_fn(logits, y_true)\n",
    "                metrics[f'loss_{name}'] += loss.item()\n",
    "                counter[f'loss_{name}'] += 1\n",
    "                calc_metrics(logits, y_true.to('cpu'), name, metrics, counter)\n",
    "                if name == 'both':\n",
    "                    pbar.set_description(f\"acc on both: {metrics['accuracy_both'] / counter['accuracy_both']:.3f}\")\n",
    "                \n",
    "    for metric in metrics:\n",
    "        metrics[metric] /= counter[metric]\n",
    "\n",
    "    torch.cuda.empty_cache()\n",
    "    return dict(metrics)"
   ]
  },
  {
   "cell_type": "code",
   "execution_count": 10,
   "id": "7c1fda46-2b0a-405e-8285-3d3a2caae7b2",
   "metadata": {
    "tags": []
   },
   "outputs": [],
   "source": [
    "warnings.filterwarnings('ignore')\n",
    "\n",
    "def plot_series(dfs_arr, titles, height=600, width=1000, plot_cols=3, path=None):\n",
    "    plot_rows = ceil(len(dfs_arr) / plot_cols)\n",
    "    fig = make_subplots(rows=plot_rows, cols=plot_cols, subplot_titles=titles)\n",
    "\n",
    "    # add traces\n",
    "    i, j = 1, 1\n",
    "    for df in dfs_arr:\n",
    "        for trace in px.line(df, x=\"epoch\", y=\"value\", color=\"stage\")[\"data\"]:\n",
    "            fig.append_trace(\n",
    "                trace,\n",
    "                row=i, col=j\n",
    "            )\n",
    "        j += 1\n",
    "        if j > plot_cols:\n",
    "            j = 1\n",
    "            i += 1\n",
    "    fig.update_layout(height=height, width=width, showlegend=True)\n",
    "    fig.show()\n",
    "    if path is not None:\n",
    "        fig.write_image(path)\n",
    "\n",
    "def plot(acc_history, metrics, path=None):\n",
    "    if len(acc_history['train']) > 1:\n",
    "        dfs = []\n",
    "        for metric in metrics:\n",
    "            acc_history = {stage : pd.DataFrame(df) for stage, df in acc_history.items()}\n",
    "            dfs.append(pd.concat(\n",
    "                pd.DataFrame({'value': df[metric], 'epoch': list(df.index + 1), 'stage': stage})\n",
    "                for stage, df in acc_history.items()\n",
    "            ))\n",
    "        plot_series(dfs, metrics, path=path)\n",
    "    else:\n",
    "        print(acc_history)\n",
    "        "
   ]
  },
  {
   "cell_type": "code",
   "execution_count": 11,
   "id": "0373aead-d266-47a6-a773-0f10a84f5dd1",
   "metadata": {},
   "outputs": [
    {
     "name": "stderr",
     "output_type": "stream",
     "text": [
      "Some weights of the model checkpoint at distilbert-base-uncased were not used when initializing DistilBertModel: ['vocab_projector.bias', 'vocab_projector.weight', 'vocab_layer_norm.weight', 'vocab_transform.bias', 'vocab_layer_norm.bias', 'vocab_transform.weight']\n",
      "- This IS expected if you are initializing DistilBertModel from the checkpoint of a model trained on another task or with another architecture (e.g. initializing a BertForSequenceClassification model from a BertForPreTraining model).\n",
      "- This IS NOT expected if you are initializing DistilBertModel from the checkpoint of a model that you expect to be exactly identical (initializing a BertForSequenceClassification model from a BertForSequenceClassification model).\n"
     ]
    }
   ],
   "source": [
    "samples_per_epoch = 400\n",
    "val_samples = len(val_seq[0]) // 2\n",
    "\n",
    "epochs = 20\n",
    "train_set = MyDataset(train_seq, samples_per_epoch)\n",
    "val_set = MyDataset(val_seq, val_samples)\n",
    "model = MyModel()\n",
    "loss_fn = torch.nn.CrossEntropyLoss()\n",
    "model.cuda()\n",
    "\n",
    "optimizer = AdamW(model.parameters(),\n",
    "                  lr=2e-6,\n",
    "                  weight_decay=0.65\n",
    "                )\n",
    "\n",
    "scheduler = get_linear_schedule_with_warmup(optimizer,\n",
    "                                            num_warmup_steps=0,\n",
    "                                            num_training_steps=len(train_set) * epochs)\n",
    "\n",
    "acc_history = {'train': [], 'val': []}\n",
    "params = dict(\n",
    "    optimizer=optimizer,\n",
    "    scaler=GradScaler(),\n",
    "    scheduler=scheduler,\n",
    "    loss_fn=loss_fn,\n",
    "    exp_mean_alpha=0.95\n",
    ")\n",
    "max_acc = 0."
   ]
  },
  {
   "cell_type": "code",
   "execution_count": 12,
   "id": "ef084492-b159-4b14-b26d-3140ae1cf909",
   "metadata": {},
   "outputs": [
    {
     "name": "stdout",
     "output_type": "stream",
     "text": [
      "2\n"
     ]
    },
    {
     "data": {
      "application/vnd.plotly.v1+json": {
       "config": {
        "plotlyServerURL": "https://plot.ly"
       },
       "data": [
        {
         "hovertemplate": "stage=train<br>epoch=%{x}<br>value=%{y}<extra></extra>",
         "legendgroup": "train",
         "line": {
          "color": "#636efa",
          "dash": "solid"
         },
         "marker": {
          "symbol": "circle"
         },
         "mode": "lines",
         "name": "train",
         "orientation": "v",
         "showlegend": true,
         "type": "scatter",
         "x": [
          1,
          2,
          3,
          4,
          5,
          6,
          7,
          8,
          9,
          10,
          11,
          12,
          13,
          14,
          15,
          16,
          17,
          18,
          19
         ],
         "xaxis": "x",
         "y": [
          0.5890625,
          0.699609375,
          0.720078125,
          0.73046875,
          0.74421875,
          0.74171875,
          0.754375,
          0.757734375,
          0.763984375,
          0.764296875,
          0.763125,
          0.770703125,
          0.772890625,
          0.779296875,
          0.7784375,
          0.78078125,
          0.78359375,
          0.77984375,
          0.78203125
         ],
         "yaxis": "y"
        },
        {
         "hovertemplate": "stage=val<br>epoch=%{x}<br>value=%{y}<extra></extra>",
         "legendgroup": "val",
         "line": {
          "color": "#EF553B",
          "dash": "solid"
         },
         "marker": {
          "symbol": "circle"
         },
         "mode": "lines",
         "name": "val",
         "orientation": "v",
         "showlegend": true,
         "type": "scatter",
         "x": [
          1,
          2,
          3,
          4,
          5,
          6,
          7,
          8,
          9,
          10,
          11,
          12,
          13,
          14,
          15,
          16,
          17,
          18,
          19
         ],
         "xaxis": "x",
         "y": [
          0.7135416666666666,
          0.7239583333333334,
          0.7504006410256411,
          0.7537838319088319,
          0.7652243589743589,
          0.7477742165242165,
          0.7629985754985754,
          0.7670049857549858,
          0.7589921652421652,
          0.764823717948718,
          0.7690081908831908,
          0.7742165242165242,
          0.7706107549857549,
          0.7609953703703703,
          0.7712339743589743,
          0.7706107549857549,
          0.7748397435897436,
          0.7629985754985754,
          0.7770210113960113
         ],
         "yaxis": "y"
        },
        {
         "hovertemplate": "stage=train<br>epoch=%{x}<br>value=%{y}<extra></extra>",
         "legendgroup": "train",
         "line": {
          "color": "#636efa",
          "dash": "solid"
         },
         "marker": {
          "symbol": "circle"
         },
         "mode": "lines",
         "name": "train",
         "orientation": "v",
         "showlegend": true,
         "type": "scatter",
         "x": [
          1,
          2,
          3,
          4,
          5,
          6,
          7,
          8,
          9,
          10,
          11,
          12,
          13,
          14,
          15,
          16,
          17,
          18,
          19
         ],
         "xaxis": "x2",
         "y": [
          0.487109375,
          0.59046875,
          0.61625,
          0.621484375,
          0.63515625,
          0.640703125,
          0.645859375,
          0.653828125,
          0.655,
          0.657734375,
          0.658046875,
          0.666796875,
          0.67640625,
          0.674296875,
          0.67046875,
          0.671171875,
          0.679296875,
          0.6721875,
          0.678828125
         ],
         "yaxis": "y2"
        },
        {
         "hovertemplate": "stage=val<br>epoch=%{x}<br>value=%{y}<extra></extra>",
         "legendgroup": "val",
         "line": {
          "color": "#EF553B",
          "dash": "solid"
         },
         "marker": {
          "symbol": "circle"
         },
         "mode": "lines",
         "name": "val",
         "orientation": "v",
         "showlegend": true,
         "type": "scatter",
         "x": [
          1,
          2,
          3,
          4,
          5,
          6,
          7,
          8,
          9,
          10,
          11,
          12,
          13,
          14,
          15,
          16,
          17,
          18,
          19
         ],
         "xaxis": "x2",
         "y": [
          0.6105769230769231,
          0.6129807692307693,
          0.6278044871794872,
          0.6495726495726496,
          0.6614583333333334,
          0.628917378917379,
          0.6491274928774928,
          0.6693821225071225,
          0.6467236467236467,
          0.6614583333333334,
          0.6537571225071225,
          0.66056801994302,
          0.6585648148148149,
          0.6581641737891738,
          0.6702724358974359,
          0.6689814814814815,
          0.6730769230769231,
          0.6581641737891738,
          0.6806000712250713
         ],
         "yaxis": "y2"
        },
        {
         "hovertemplate": "stage=train<br>epoch=%{x}<br>value=%{y}<extra></extra>",
         "legendgroup": "train",
         "line": {
          "color": "#636efa",
          "dash": "solid"
         },
         "marker": {
          "symbol": "circle"
         },
         "mode": "lines",
         "name": "train",
         "orientation": "v",
         "showlegend": true,
         "type": "scatter",
         "x": [
          1,
          2,
          3,
          4,
          5,
          6,
          7,
          8,
          9,
          10,
          11,
          12,
          13,
          14,
          15,
          16,
          17,
          18,
          19
         ],
         "xaxis": "x3",
         "y": [
          0.5825,
          0.697734375,
          0.7159375,
          0.723828125,
          0.738046875,
          0.735078125,
          0.745625,
          0.7509375,
          0.751328125,
          0.761171875,
          0.75921875,
          0.759921875,
          0.769296875,
          0.772734375,
          0.77125,
          0.770390625,
          0.77890625,
          0.7778125,
          0.77828125
         ],
         "yaxis": "y3"
        },
        {
         "hovertemplate": "stage=val<br>epoch=%{x}<br>value=%{y}<extra></extra>",
         "legendgroup": "val",
         "line": {
          "color": "#EF553B",
          "dash": "solid"
         },
         "marker": {
          "symbol": "circle"
         },
         "mode": "lines",
         "name": "val",
         "orientation": "v",
         "showlegend": true,
         "type": "scatter",
         "x": [
          1,
          2,
          3,
          4,
          5,
          6,
          7,
          8,
          9,
          10,
          11,
          12,
          13,
          14,
          15,
          16,
          17,
          18,
          19
         ],
         "xaxis": "x3",
         "y": [
          0.7051282051282052,
          0.7223557692307693,
          0.7419871794871795,
          0.7485754985754985,
          0.7536057692307693,
          0.7497774216524216,
          0.7521812678062678,
          0.7581908831908831,
          0.755787037037037,
          0.7600160256410257,
          0.7589921652421652,
          0.771412037037037,
          0.7613960113960113,
          0.7589921652421652,
          0.7660256410256411,
          0.756588319088319,
          0.7676282051282052,
          0.7654024216524216,
          0.7778222934472934
         ],
         "yaxis": "y3"
        }
       ],
       "layout": {
        "annotations": [
         {
          "font": {
           "size": 16
          },
          "showarrow": false,
          "text": "accuracy_both",
          "x": 0.14444444444444446,
          "xanchor": "center",
          "xref": "paper",
          "y": 1,
          "yanchor": "bottom",
          "yref": "paper"
         },
         {
          "font": {
           "size": 16
          },
          "showarrow": false,
          "text": "accuracy_title_only",
          "x": 0.5,
          "xanchor": "center",
          "xref": "paper",
          "y": 1,
          "yanchor": "bottom",
          "yref": "paper"
         },
         {
          "font": {
           "size": 16
          },
          "showarrow": false,
          "text": "accuracy_summ_only",
          "x": 0.8555555555555556,
          "xanchor": "center",
          "xref": "paper",
          "y": 1,
          "yanchor": "bottom",
          "yref": "paper"
         }
        ],
        "height": 600,
        "showlegend": true,
        "template": {
         "data": {
          "bar": [
           {
            "error_x": {
             "color": "#2a3f5f"
            },
            "error_y": {
             "color": "#2a3f5f"
            },
            "marker": {
             "line": {
              "color": "#E5ECF6",
              "width": 0.5
             },
             "pattern": {
              "fillmode": "overlay",
              "size": 10,
              "solidity": 0.2
             }
            },
            "type": "bar"
           }
          ],
          "barpolar": [
           {
            "marker": {
             "line": {
              "color": "#E5ECF6",
              "width": 0.5
             },
             "pattern": {
              "fillmode": "overlay",
              "size": 10,
              "solidity": 0.2
             }
            },
            "type": "barpolar"
           }
          ],
          "carpet": [
           {
            "aaxis": {
             "endlinecolor": "#2a3f5f",
             "gridcolor": "white",
             "linecolor": "white",
             "minorgridcolor": "white",
             "startlinecolor": "#2a3f5f"
            },
            "baxis": {
             "endlinecolor": "#2a3f5f",
             "gridcolor": "white",
             "linecolor": "white",
             "minorgridcolor": "white",
             "startlinecolor": "#2a3f5f"
            },
            "type": "carpet"
           }
          ],
          "choropleth": [
           {
            "colorbar": {
             "outlinewidth": 0,
             "ticks": ""
            },
            "type": "choropleth"
           }
          ],
          "contour": [
           {
            "colorbar": {
             "outlinewidth": 0,
             "ticks": ""
            },
            "colorscale": [
             [
              0,
              "#0d0887"
             ],
             [
              0.1111111111111111,
              "#46039f"
             ],
             [
              0.2222222222222222,
              "#7201a8"
             ],
             [
              0.3333333333333333,
              "#9c179e"
             ],
             [
              0.4444444444444444,
              "#bd3786"
             ],
             [
              0.5555555555555556,
              "#d8576b"
             ],
             [
              0.6666666666666666,
              "#ed7953"
             ],
             [
              0.7777777777777778,
              "#fb9f3a"
             ],
             [
              0.8888888888888888,
              "#fdca26"
             ],
             [
              1,
              "#f0f921"
             ]
            ],
            "type": "contour"
           }
          ],
          "contourcarpet": [
           {
            "colorbar": {
             "outlinewidth": 0,
             "ticks": ""
            },
            "type": "contourcarpet"
           }
          ],
          "heatmap": [
           {
            "colorbar": {
             "outlinewidth": 0,
             "ticks": ""
            },
            "colorscale": [
             [
              0,
              "#0d0887"
             ],
             [
              0.1111111111111111,
              "#46039f"
             ],
             [
              0.2222222222222222,
              "#7201a8"
             ],
             [
              0.3333333333333333,
              "#9c179e"
             ],
             [
              0.4444444444444444,
              "#bd3786"
             ],
             [
              0.5555555555555556,
              "#d8576b"
             ],
             [
              0.6666666666666666,
              "#ed7953"
             ],
             [
              0.7777777777777778,
              "#fb9f3a"
             ],
             [
              0.8888888888888888,
              "#fdca26"
             ],
             [
              1,
              "#f0f921"
             ]
            ],
            "type": "heatmap"
           }
          ],
          "heatmapgl": [
           {
            "colorbar": {
             "outlinewidth": 0,
             "ticks": ""
            },
            "colorscale": [
             [
              0,
              "#0d0887"
             ],
             [
              0.1111111111111111,
              "#46039f"
             ],
             [
              0.2222222222222222,
              "#7201a8"
             ],
             [
              0.3333333333333333,
              "#9c179e"
             ],
             [
              0.4444444444444444,
              "#bd3786"
             ],
             [
              0.5555555555555556,
              "#d8576b"
             ],
             [
              0.6666666666666666,
              "#ed7953"
             ],
             [
              0.7777777777777778,
              "#fb9f3a"
             ],
             [
              0.8888888888888888,
              "#fdca26"
             ],
             [
              1,
              "#f0f921"
             ]
            ],
            "type": "heatmapgl"
           }
          ],
          "histogram": [
           {
            "marker": {
             "pattern": {
              "fillmode": "overlay",
              "size": 10,
              "solidity": 0.2
             }
            },
            "type": "histogram"
           }
          ],
          "histogram2d": [
           {
            "colorbar": {
             "outlinewidth": 0,
             "ticks": ""
            },
            "colorscale": [
             [
              0,
              "#0d0887"
             ],
             [
              0.1111111111111111,
              "#46039f"
             ],
             [
              0.2222222222222222,
              "#7201a8"
             ],
             [
              0.3333333333333333,
              "#9c179e"
             ],
             [
              0.4444444444444444,
              "#bd3786"
             ],
             [
              0.5555555555555556,
              "#d8576b"
             ],
             [
              0.6666666666666666,
              "#ed7953"
             ],
             [
              0.7777777777777778,
              "#fb9f3a"
             ],
             [
              0.8888888888888888,
              "#fdca26"
             ],
             [
              1,
              "#f0f921"
             ]
            ],
            "type": "histogram2d"
           }
          ],
          "histogram2dcontour": [
           {
            "colorbar": {
             "outlinewidth": 0,
             "ticks": ""
            },
            "colorscale": [
             [
              0,
              "#0d0887"
             ],
             [
              0.1111111111111111,
              "#46039f"
             ],
             [
              0.2222222222222222,
              "#7201a8"
             ],
             [
              0.3333333333333333,
              "#9c179e"
             ],
             [
              0.4444444444444444,
              "#bd3786"
             ],
             [
              0.5555555555555556,
              "#d8576b"
             ],
             [
              0.6666666666666666,
              "#ed7953"
             ],
             [
              0.7777777777777778,
              "#fb9f3a"
             ],
             [
              0.8888888888888888,
              "#fdca26"
             ],
             [
              1,
              "#f0f921"
             ]
            ],
            "type": "histogram2dcontour"
           }
          ],
          "mesh3d": [
           {
            "colorbar": {
             "outlinewidth": 0,
             "ticks": ""
            },
            "type": "mesh3d"
           }
          ],
          "parcoords": [
           {
            "line": {
             "colorbar": {
              "outlinewidth": 0,
              "ticks": ""
             }
            },
            "type": "parcoords"
           }
          ],
          "pie": [
           {
            "automargin": true,
            "type": "pie"
           }
          ],
          "scatter": [
           {
            "fillpattern": {
             "fillmode": "overlay",
             "size": 10,
             "solidity": 0.2
            },
            "type": "scatter"
           }
          ],
          "scatter3d": [
           {
            "line": {
             "colorbar": {
              "outlinewidth": 0,
              "ticks": ""
             }
            },
            "marker": {
             "colorbar": {
              "outlinewidth": 0,
              "ticks": ""
             }
            },
            "type": "scatter3d"
           }
          ],
          "scattercarpet": [
           {
            "marker": {
             "colorbar": {
              "outlinewidth": 0,
              "ticks": ""
             }
            },
            "type": "scattercarpet"
           }
          ],
          "scattergeo": [
           {
            "marker": {
             "colorbar": {
              "outlinewidth": 0,
              "ticks": ""
             }
            },
            "type": "scattergeo"
           }
          ],
          "scattergl": [
           {
            "marker": {
             "colorbar": {
              "outlinewidth": 0,
              "ticks": ""
             }
            },
            "type": "scattergl"
           }
          ],
          "scattermapbox": [
           {
            "marker": {
             "colorbar": {
              "outlinewidth": 0,
              "ticks": ""
             }
            },
            "type": "scattermapbox"
           }
          ],
          "scatterpolar": [
           {
            "marker": {
             "colorbar": {
              "outlinewidth": 0,
              "ticks": ""
             }
            },
            "type": "scatterpolar"
           }
          ],
          "scatterpolargl": [
           {
            "marker": {
             "colorbar": {
              "outlinewidth": 0,
              "ticks": ""
             }
            },
            "type": "scatterpolargl"
           }
          ],
          "scatterternary": [
           {
            "marker": {
             "colorbar": {
              "outlinewidth": 0,
              "ticks": ""
             }
            },
            "type": "scatterternary"
           }
          ],
          "surface": [
           {
            "colorbar": {
             "outlinewidth": 0,
             "ticks": ""
            },
            "colorscale": [
             [
              0,
              "#0d0887"
             ],
             [
              0.1111111111111111,
              "#46039f"
             ],
             [
              0.2222222222222222,
              "#7201a8"
             ],
             [
              0.3333333333333333,
              "#9c179e"
             ],
             [
              0.4444444444444444,
              "#bd3786"
             ],
             [
              0.5555555555555556,
              "#d8576b"
             ],
             [
              0.6666666666666666,
              "#ed7953"
             ],
             [
              0.7777777777777778,
              "#fb9f3a"
             ],
             [
              0.8888888888888888,
              "#fdca26"
             ],
             [
              1,
              "#f0f921"
             ]
            ],
            "type": "surface"
           }
          ],
          "table": [
           {
            "cells": {
             "fill": {
              "color": "#EBF0F8"
             },
             "line": {
              "color": "white"
             }
            },
            "header": {
             "fill": {
              "color": "#C8D4E3"
             },
             "line": {
              "color": "white"
             }
            },
            "type": "table"
           }
          ]
         },
         "layout": {
          "annotationdefaults": {
           "arrowcolor": "#2a3f5f",
           "arrowhead": 0,
           "arrowwidth": 1
          },
          "autotypenumbers": "strict",
          "coloraxis": {
           "colorbar": {
            "outlinewidth": 0,
            "ticks": ""
           }
          },
          "colorscale": {
           "diverging": [
            [
             0,
             "#8e0152"
            ],
            [
             0.1,
             "#c51b7d"
            ],
            [
             0.2,
             "#de77ae"
            ],
            [
             0.3,
             "#f1b6da"
            ],
            [
             0.4,
             "#fde0ef"
            ],
            [
             0.5,
             "#f7f7f7"
            ],
            [
             0.6,
             "#e6f5d0"
            ],
            [
             0.7,
             "#b8e186"
            ],
            [
             0.8,
             "#7fbc41"
            ],
            [
             0.9,
             "#4d9221"
            ],
            [
             1,
             "#276419"
            ]
           ],
           "sequential": [
            [
             0,
             "#0d0887"
            ],
            [
             0.1111111111111111,
             "#46039f"
            ],
            [
             0.2222222222222222,
             "#7201a8"
            ],
            [
             0.3333333333333333,
             "#9c179e"
            ],
            [
             0.4444444444444444,
             "#bd3786"
            ],
            [
             0.5555555555555556,
             "#d8576b"
            ],
            [
             0.6666666666666666,
             "#ed7953"
            ],
            [
             0.7777777777777778,
             "#fb9f3a"
            ],
            [
             0.8888888888888888,
             "#fdca26"
            ],
            [
             1,
             "#f0f921"
            ]
           ],
           "sequentialminus": [
            [
             0,
             "#0d0887"
            ],
            [
             0.1111111111111111,
             "#46039f"
            ],
            [
             0.2222222222222222,
             "#7201a8"
            ],
            [
             0.3333333333333333,
             "#9c179e"
            ],
            [
             0.4444444444444444,
             "#bd3786"
            ],
            [
             0.5555555555555556,
             "#d8576b"
            ],
            [
             0.6666666666666666,
             "#ed7953"
            ],
            [
             0.7777777777777778,
             "#fb9f3a"
            ],
            [
             0.8888888888888888,
             "#fdca26"
            ],
            [
             1,
             "#f0f921"
            ]
           ]
          },
          "colorway": [
           "#636efa",
           "#EF553B",
           "#00cc96",
           "#ab63fa",
           "#FFA15A",
           "#19d3f3",
           "#FF6692",
           "#B6E880",
           "#FF97FF",
           "#FECB52"
          ],
          "font": {
           "color": "#2a3f5f"
          },
          "geo": {
           "bgcolor": "white",
           "lakecolor": "white",
           "landcolor": "#E5ECF6",
           "showlakes": true,
           "showland": true,
           "subunitcolor": "white"
          },
          "hoverlabel": {
           "align": "left"
          },
          "hovermode": "closest",
          "mapbox": {
           "style": "light"
          },
          "paper_bgcolor": "white",
          "plot_bgcolor": "#E5ECF6",
          "polar": {
           "angularaxis": {
            "gridcolor": "white",
            "linecolor": "white",
            "ticks": ""
           },
           "bgcolor": "#E5ECF6",
           "radialaxis": {
            "gridcolor": "white",
            "linecolor": "white",
            "ticks": ""
           }
          },
          "scene": {
           "xaxis": {
            "backgroundcolor": "#E5ECF6",
            "gridcolor": "white",
            "gridwidth": 2,
            "linecolor": "white",
            "showbackground": true,
            "ticks": "",
            "zerolinecolor": "white"
           },
           "yaxis": {
            "backgroundcolor": "#E5ECF6",
            "gridcolor": "white",
            "gridwidth": 2,
            "linecolor": "white",
            "showbackground": true,
            "ticks": "",
            "zerolinecolor": "white"
           },
           "zaxis": {
            "backgroundcolor": "#E5ECF6",
            "gridcolor": "white",
            "gridwidth": 2,
            "linecolor": "white",
            "showbackground": true,
            "ticks": "",
            "zerolinecolor": "white"
           }
          },
          "shapedefaults": {
           "line": {
            "color": "#2a3f5f"
           }
          },
          "ternary": {
           "aaxis": {
            "gridcolor": "white",
            "linecolor": "white",
            "ticks": ""
           },
           "baxis": {
            "gridcolor": "white",
            "linecolor": "white",
            "ticks": ""
           },
           "bgcolor": "#E5ECF6",
           "caxis": {
            "gridcolor": "white",
            "linecolor": "white",
            "ticks": ""
           }
          },
          "title": {
           "x": 0.05
          },
          "xaxis": {
           "automargin": true,
           "gridcolor": "white",
           "linecolor": "white",
           "ticks": "",
           "title": {
            "standoff": 15
           },
           "zerolinecolor": "white",
           "zerolinewidth": 2
          },
          "yaxis": {
           "automargin": true,
           "gridcolor": "white",
           "linecolor": "white",
           "ticks": "",
           "title": {
            "standoff": 15
           },
           "zerolinecolor": "white",
           "zerolinewidth": 2
          }
         }
        },
        "width": 1000,
        "xaxis": {
         "anchor": "y",
         "autorange": true,
         "domain": [
          0,
          0.2888888888888889
         ],
         "range": [
          1,
          19
         ],
         "type": "linear"
        },
        "xaxis2": {
         "anchor": "y2",
         "autorange": true,
         "domain": [
          0.35555555555555557,
          0.6444444444444445
         ],
         "range": [
          1,
          19
         ],
         "type": "linear"
        },
        "xaxis3": {
         "anchor": "y3",
         "autorange": true,
         "domain": [
          0.7111111111111111,
          1
         ],
         "range": [
          1,
          19
         ],
         "type": "linear"
        },
        "yaxis": {
         "anchor": "x",
         "autorange": true,
         "domain": [
          0,
          1
         ],
         "range": [
          0.5782552083333334,
          0.7944010416666667
         ],
         "type": "linear"
        },
        "yaxis2": {
         "anchor": "x2",
         "autorange": true,
         "domain": [
          0,
          1
         ],
         "range": [
          0.47635989187638494,
          0.6913495543486864
         ],
         "type": "linear"
        },
        "yaxis3": {
         "anchor": "x3",
         "autorange": true,
         "domain": [
          0,
          1
         ],
         "range": [
          0.5715885416666667,
          0.7898177083333333
         ],
         "type": "linear"
        }
       }
      },
      "text/html": [
       "<div>                            <div id=\"d16b1825-f47f-4dcd-88ca-ece8825a81f9\" class=\"plotly-graph-div\" style=\"height:600px; width:1000px;\"></div>            <script type=\"text/javascript\">                require([\"plotly\"], function(Plotly) {                    window.PLOTLYENV=window.PLOTLYENV || {};                                    if (document.getElementById(\"d16b1825-f47f-4dcd-88ca-ece8825a81f9\")) {                    Plotly.newPlot(                        \"d16b1825-f47f-4dcd-88ca-ece8825a81f9\",                        [{\"hovertemplate\":\"stage=train<br>epoch=%{x}<br>value=%{y}<extra></extra>\",\"legendgroup\":\"train\",\"line\":{\"color\":\"#636efa\",\"dash\":\"solid\"},\"marker\":{\"symbol\":\"circle\"},\"mode\":\"lines\",\"name\":\"train\",\"orientation\":\"v\",\"showlegend\":true,\"x\":[1,2,3,4,5,6,7,8,9,10,11,12,13,14,15,16,17,18,19],\"xaxis\":\"x\",\"y\":[0.5890625,0.699609375,0.720078125,0.73046875,0.74421875,0.74171875,0.754375,0.757734375,0.763984375,0.764296875,0.763125,0.770703125,0.772890625,0.779296875,0.7784375,0.78078125,0.78359375,0.77984375,0.78203125],\"yaxis\":\"y\",\"type\":\"scatter\"},{\"hovertemplate\":\"stage=val<br>epoch=%{x}<br>value=%{y}<extra></extra>\",\"legendgroup\":\"val\",\"line\":{\"color\":\"#EF553B\",\"dash\":\"solid\"},\"marker\":{\"symbol\":\"circle\"},\"mode\":\"lines\",\"name\":\"val\",\"orientation\":\"v\",\"showlegend\":true,\"x\":[1,2,3,4,5,6,7,8,9,10,11,12,13,14,15,16,17,18,19],\"xaxis\":\"x\",\"y\":[0.7135416666666666,0.7239583333333334,0.7504006410256411,0.7537838319088319,0.7652243589743589,0.7477742165242165,0.7629985754985754,0.7670049857549858,0.7589921652421652,0.764823717948718,0.7690081908831908,0.7742165242165242,0.7706107549857549,0.7609953703703703,0.7712339743589743,0.7706107549857549,0.7748397435897436,0.7629985754985754,0.7770210113960113],\"yaxis\":\"y\",\"type\":\"scatter\"},{\"hovertemplate\":\"stage=train<br>epoch=%{x}<br>value=%{y}<extra></extra>\",\"legendgroup\":\"train\",\"line\":{\"color\":\"#636efa\",\"dash\":\"solid\"},\"marker\":{\"symbol\":\"circle\"},\"mode\":\"lines\",\"name\":\"train\",\"orientation\":\"v\",\"showlegend\":true,\"x\":[1,2,3,4,5,6,7,8,9,10,11,12,13,14,15,16,17,18,19],\"xaxis\":\"x2\",\"y\":[0.487109375,0.59046875,0.61625,0.621484375,0.63515625,0.640703125,0.645859375,0.653828125,0.655,0.657734375,0.658046875,0.666796875,0.67640625,0.674296875,0.67046875,0.671171875,0.679296875,0.6721875,0.678828125],\"yaxis\":\"y2\",\"type\":\"scatter\"},{\"hovertemplate\":\"stage=val<br>epoch=%{x}<br>value=%{y}<extra></extra>\",\"legendgroup\":\"val\",\"line\":{\"color\":\"#EF553B\",\"dash\":\"solid\"},\"marker\":{\"symbol\":\"circle\"},\"mode\":\"lines\",\"name\":\"val\",\"orientation\":\"v\",\"showlegend\":true,\"x\":[1,2,3,4,5,6,7,8,9,10,11,12,13,14,15,16,17,18,19],\"xaxis\":\"x2\",\"y\":[0.6105769230769231,0.6129807692307693,0.6278044871794872,0.6495726495726496,0.6614583333333334,0.628917378917379,0.6491274928774928,0.6693821225071225,0.6467236467236467,0.6614583333333334,0.6537571225071225,0.66056801994302,0.6585648148148149,0.6581641737891738,0.6702724358974359,0.6689814814814815,0.6730769230769231,0.6581641737891738,0.6806000712250713],\"yaxis\":\"y2\",\"type\":\"scatter\"},{\"hovertemplate\":\"stage=train<br>epoch=%{x}<br>value=%{y}<extra></extra>\",\"legendgroup\":\"train\",\"line\":{\"color\":\"#636efa\",\"dash\":\"solid\"},\"marker\":{\"symbol\":\"circle\"},\"mode\":\"lines\",\"name\":\"train\",\"orientation\":\"v\",\"showlegend\":true,\"x\":[1,2,3,4,5,6,7,8,9,10,11,12,13,14,15,16,17,18,19],\"xaxis\":\"x3\",\"y\":[0.5825,0.697734375,0.7159375,0.723828125,0.738046875,0.735078125,0.745625,0.7509375,0.751328125,0.761171875,0.75921875,0.759921875,0.769296875,0.772734375,0.77125,0.770390625,0.77890625,0.7778125,0.77828125],\"yaxis\":\"y3\",\"type\":\"scatter\"},{\"hovertemplate\":\"stage=val<br>epoch=%{x}<br>value=%{y}<extra></extra>\",\"legendgroup\":\"val\",\"line\":{\"color\":\"#EF553B\",\"dash\":\"solid\"},\"marker\":{\"symbol\":\"circle\"},\"mode\":\"lines\",\"name\":\"val\",\"orientation\":\"v\",\"showlegend\":true,\"x\":[1,2,3,4,5,6,7,8,9,10,11,12,13,14,15,16,17,18,19],\"xaxis\":\"x3\",\"y\":[0.7051282051282052,0.7223557692307693,0.7419871794871795,0.7485754985754985,0.7536057692307693,0.7497774216524216,0.7521812678062678,0.7581908831908831,0.755787037037037,0.7600160256410257,0.7589921652421652,0.771412037037037,0.7613960113960113,0.7589921652421652,0.7660256410256411,0.756588319088319,0.7676282051282052,0.7654024216524216,0.7778222934472934],\"yaxis\":\"y3\",\"type\":\"scatter\"}],                        {\"template\":{\"data\":{\"histogram2dcontour\":[{\"type\":\"histogram2dcontour\",\"colorbar\":{\"outlinewidth\":0,\"ticks\":\"\"},\"colorscale\":[[0.0,\"#0d0887\"],[0.1111111111111111,\"#46039f\"],[0.2222222222222222,\"#7201a8\"],[0.3333333333333333,\"#9c179e\"],[0.4444444444444444,\"#bd3786\"],[0.5555555555555556,\"#d8576b\"],[0.6666666666666666,\"#ed7953\"],[0.7777777777777778,\"#fb9f3a\"],[0.8888888888888888,\"#fdca26\"],[1.0,\"#f0f921\"]]}],\"choropleth\":[{\"type\":\"choropleth\",\"colorbar\":{\"outlinewidth\":0,\"ticks\":\"\"}}],\"histogram2d\":[{\"type\":\"histogram2d\",\"colorbar\":{\"outlinewidth\":0,\"ticks\":\"\"},\"colorscale\":[[0.0,\"#0d0887\"],[0.1111111111111111,\"#46039f\"],[0.2222222222222222,\"#7201a8\"],[0.3333333333333333,\"#9c179e\"],[0.4444444444444444,\"#bd3786\"],[0.5555555555555556,\"#d8576b\"],[0.6666666666666666,\"#ed7953\"],[0.7777777777777778,\"#fb9f3a\"],[0.8888888888888888,\"#fdca26\"],[1.0,\"#f0f921\"]]}],\"heatmap\":[{\"type\":\"heatmap\",\"colorbar\":{\"outlinewidth\":0,\"ticks\":\"\"},\"colorscale\":[[0.0,\"#0d0887\"],[0.1111111111111111,\"#46039f\"],[0.2222222222222222,\"#7201a8\"],[0.3333333333333333,\"#9c179e\"],[0.4444444444444444,\"#bd3786\"],[0.5555555555555556,\"#d8576b\"],[0.6666666666666666,\"#ed7953\"],[0.7777777777777778,\"#fb9f3a\"],[0.8888888888888888,\"#fdca26\"],[1.0,\"#f0f921\"]]}],\"heatmapgl\":[{\"type\":\"heatmapgl\",\"colorbar\":{\"outlinewidth\":0,\"ticks\":\"\"},\"colorscale\":[[0.0,\"#0d0887\"],[0.1111111111111111,\"#46039f\"],[0.2222222222222222,\"#7201a8\"],[0.3333333333333333,\"#9c179e\"],[0.4444444444444444,\"#bd3786\"],[0.5555555555555556,\"#d8576b\"],[0.6666666666666666,\"#ed7953\"],[0.7777777777777778,\"#fb9f3a\"],[0.8888888888888888,\"#fdca26\"],[1.0,\"#f0f921\"]]}],\"contourcarpet\":[{\"type\":\"contourcarpet\",\"colorbar\":{\"outlinewidth\":0,\"ticks\":\"\"}}],\"contour\":[{\"type\":\"contour\",\"colorbar\":{\"outlinewidth\":0,\"ticks\":\"\"},\"colorscale\":[[0.0,\"#0d0887\"],[0.1111111111111111,\"#46039f\"],[0.2222222222222222,\"#7201a8\"],[0.3333333333333333,\"#9c179e\"],[0.4444444444444444,\"#bd3786\"],[0.5555555555555556,\"#d8576b\"],[0.6666666666666666,\"#ed7953\"],[0.7777777777777778,\"#fb9f3a\"],[0.8888888888888888,\"#fdca26\"],[1.0,\"#f0f921\"]]}],\"surface\":[{\"type\":\"surface\",\"colorbar\":{\"outlinewidth\":0,\"ticks\":\"\"},\"colorscale\":[[0.0,\"#0d0887\"],[0.1111111111111111,\"#46039f\"],[0.2222222222222222,\"#7201a8\"],[0.3333333333333333,\"#9c179e\"],[0.4444444444444444,\"#bd3786\"],[0.5555555555555556,\"#d8576b\"],[0.6666666666666666,\"#ed7953\"],[0.7777777777777778,\"#fb9f3a\"],[0.8888888888888888,\"#fdca26\"],[1.0,\"#f0f921\"]]}],\"mesh3d\":[{\"type\":\"mesh3d\",\"colorbar\":{\"outlinewidth\":0,\"ticks\":\"\"}}],\"scatter\":[{\"fillpattern\":{\"fillmode\":\"overlay\",\"size\":10,\"solidity\":0.2},\"type\":\"scatter\"}],\"parcoords\":[{\"type\":\"parcoords\",\"line\":{\"colorbar\":{\"outlinewidth\":0,\"ticks\":\"\"}}}],\"scatterpolargl\":[{\"type\":\"scatterpolargl\",\"marker\":{\"colorbar\":{\"outlinewidth\":0,\"ticks\":\"\"}}}],\"bar\":[{\"error_x\":{\"color\":\"#2a3f5f\"},\"error_y\":{\"color\":\"#2a3f5f\"},\"marker\":{\"line\":{\"color\":\"#E5ECF6\",\"width\":0.5},\"pattern\":{\"fillmode\":\"overlay\",\"size\":10,\"solidity\":0.2}},\"type\":\"bar\"}],\"scattergeo\":[{\"type\":\"scattergeo\",\"marker\":{\"colorbar\":{\"outlinewidth\":0,\"ticks\":\"\"}}}],\"scatterpolar\":[{\"type\":\"scatterpolar\",\"marker\":{\"colorbar\":{\"outlinewidth\":0,\"ticks\":\"\"}}}],\"histogram\":[{\"marker\":{\"pattern\":{\"fillmode\":\"overlay\",\"size\":10,\"solidity\":0.2}},\"type\":\"histogram\"}],\"scattergl\":[{\"type\":\"scattergl\",\"marker\":{\"colorbar\":{\"outlinewidth\":0,\"ticks\":\"\"}}}],\"scatter3d\":[{\"type\":\"scatter3d\",\"line\":{\"colorbar\":{\"outlinewidth\":0,\"ticks\":\"\"}},\"marker\":{\"colorbar\":{\"outlinewidth\":0,\"ticks\":\"\"}}}],\"scattermapbox\":[{\"type\":\"scattermapbox\",\"marker\":{\"colorbar\":{\"outlinewidth\":0,\"ticks\":\"\"}}}],\"scatterternary\":[{\"type\":\"scatterternary\",\"marker\":{\"colorbar\":{\"outlinewidth\":0,\"ticks\":\"\"}}}],\"scattercarpet\":[{\"type\":\"scattercarpet\",\"marker\":{\"colorbar\":{\"outlinewidth\":0,\"ticks\":\"\"}}}],\"carpet\":[{\"aaxis\":{\"endlinecolor\":\"#2a3f5f\",\"gridcolor\":\"white\",\"linecolor\":\"white\",\"minorgridcolor\":\"white\",\"startlinecolor\":\"#2a3f5f\"},\"baxis\":{\"endlinecolor\":\"#2a3f5f\",\"gridcolor\":\"white\",\"linecolor\":\"white\",\"minorgridcolor\":\"white\",\"startlinecolor\":\"#2a3f5f\"},\"type\":\"carpet\"}],\"table\":[{\"cells\":{\"fill\":{\"color\":\"#EBF0F8\"},\"line\":{\"color\":\"white\"}},\"header\":{\"fill\":{\"color\":\"#C8D4E3\"},\"line\":{\"color\":\"white\"}},\"type\":\"table\"}],\"barpolar\":[{\"marker\":{\"line\":{\"color\":\"#E5ECF6\",\"width\":0.5},\"pattern\":{\"fillmode\":\"overlay\",\"size\":10,\"solidity\":0.2}},\"type\":\"barpolar\"}],\"pie\":[{\"automargin\":true,\"type\":\"pie\"}]},\"layout\":{\"autotypenumbers\":\"strict\",\"colorway\":[\"#636efa\",\"#EF553B\",\"#00cc96\",\"#ab63fa\",\"#FFA15A\",\"#19d3f3\",\"#FF6692\",\"#B6E880\",\"#FF97FF\",\"#FECB52\"],\"font\":{\"color\":\"#2a3f5f\"},\"hovermode\":\"closest\",\"hoverlabel\":{\"align\":\"left\"},\"paper_bgcolor\":\"white\",\"plot_bgcolor\":\"#E5ECF6\",\"polar\":{\"bgcolor\":\"#E5ECF6\",\"angularaxis\":{\"gridcolor\":\"white\",\"linecolor\":\"white\",\"ticks\":\"\"},\"radialaxis\":{\"gridcolor\":\"white\",\"linecolor\":\"white\",\"ticks\":\"\"}},\"ternary\":{\"bgcolor\":\"#E5ECF6\",\"aaxis\":{\"gridcolor\":\"white\",\"linecolor\":\"white\",\"ticks\":\"\"},\"baxis\":{\"gridcolor\":\"white\",\"linecolor\":\"white\",\"ticks\":\"\"},\"caxis\":{\"gridcolor\":\"white\",\"linecolor\":\"white\",\"ticks\":\"\"}},\"coloraxis\":{\"colorbar\":{\"outlinewidth\":0,\"ticks\":\"\"}},\"colorscale\":{\"sequential\":[[0.0,\"#0d0887\"],[0.1111111111111111,\"#46039f\"],[0.2222222222222222,\"#7201a8\"],[0.3333333333333333,\"#9c179e\"],[0.4444444444444444,\"#bd3786\"],[0.5555555555555556,\"#d8576b\"],[0.6666666666666666,\"#ed7953\"],[0.7777777777777778,\"#fb9f3a\"],[0.8888888888888888,\"#fdca26\"],[1.0,\"#f0f921\"]],\"sequentialminus\":[[0.0,\"#0d0887\"],[0.1111111111111111,\"#46039f\"],[0.2222222222222222,\"#7201a8\"],[0.3333333333333333,\"#9c179e\"],[0.4444444444444444,\"#bd3786\"],[0.5555555555555556,\"#d8576b\"],[0.6666666666666666,\"#ed7953\"],[0.7777777777777778,\"#fb9f3a\"],[0.8888888888888888,\"#fdca26\"],[1.0,\"#f0f921\"]],\"diverging\":[[0,\"#8e0152\"],[0.1,\"#c51b7d\"],[0.2,\"#de77ae\"],[0.3,\"#f1b6da\"],[0.4,\"#fde0ef\"],[0.5,\"#f7f7f7\"],[0.6,\"#e6f5d0\"],[0.7,\"#b8e186\"],[0.8,\"#7fbc41\"],[0.9,\"#4d9221\"],[1,\"#276419\"]]},\"xaxis\":{\"gridcolor\":\"white\",\"linecolor\":\"white\",\"ticks\":\"\",\"title\":{\"standoff\":15},\"zerolinecolor\":\"white\",\"automargin\":true,\"zerolinewidth\":2},\"yaxis\":{\"gridcolor\":\"white\",\"linecolor\":\"white\",\"ticks\":\"\",\"title\":{\"standoff\":15},\"zerolinecolor\":\"white\",\"automargin\":true,\"zerolinewidth\":2},\"scene\":{\"xaxis\":{\"backgroundcolor\":\"#E5ECF6\",\"gridcolor\":\"white\",\"linecolor\":\"white\",\"showbackground\":true,\"ticks\":\"\",\"zerolinecolor\":\"white\",\"gridwidth\":2},\"yaxis\":{\"backgroundcolor\":\"#E5ECF6\",\"gridcolor\":\"white\",\"linecolor\":\"white\",\"showbackground\":true,\"ticks\":\"\",\"zerolinecolor\":\"white\",\"gridwidth\":2},\"zaxis\":{\"backgroundcolor\":\"#E5ECF6\",\"gridcolor\":\"white\",\"linecolor\":\"white\",\"showbackground\":true,\"ticks\":\"\",\"zerolinecolor\":\"white\",\"gridwidth\":2}},\"shapedefaults\":{\"line\":{\"color\":\"#2a3f5f\"}},\"annotationdefaults\":{\"arrowcolor\":\"#2a3f5f\",\"arrowhead\":0,\"arrowwidth\":1},\"geo\":{\"bgcolor\":\"white\",\"landcolor\":\"#E5ECF6\",\"subunitcolor\":\"white\",\"showland\":true,\"showlakes\":true,\"lakecolor\":\"white\"},\"title\":{\"x\":0.05},\"mapbox\":{\"style\":\"light\"}}},\"xaxis\":{\"anchor\":\"y\",\"domain\":[0.0,0.2888888888888889]},\"yaxis\":{\"anchor\":\"x\",\"domain\":[0.0,1.0]},\"xaxis2\":{\"anchor\":\"y2\",\"domain\":[0.35555555555555557,0.6444444444444445]},\"yaxis2\":{\"anchor\":\"x2\",\"domain\":[0.0,1.0]},\"xaxis3\":{\"anchor\":\"y3\",\"domain\":[0.7111111111111111,1.0]},\"yaxis3\":{\"anchor\":\"x3\",\"domain\":[0.0,1.0]},\"annotations\":[{\"font\":{\"size\":16},\"showarrow\":false,\"text\":\"accuracy_both\",\"x\":0.14444444444444446,\"xanchor\":\"center\",\"xref\":\"paper\",\"y\":1.0,\"yanchor\":\"bottom\",\"yref\":\"paper\"},{\"font\":{\"size\":16},\"showarrow\":false,\"text\":\"accuracy_title_only\",\"x\":0.5,\"xanchor\":\"center\",\"xref\":\"paper\",\"y\":1.0,\"yanchor\":\"bottom\",\"yref\":\"paper\"},{\"font\":{\"size\":16},\"showarrow\":false,\"text\":\"accuracy_summ_only\",\"x\":0.8555555555555556,\"xanchor\":\"center\",\"xref\":\"paper\",\"y\":1.0,\"yanchor\":\"bottom\",\"yref\":\"paper\"}],\"height\":600,\"width\":1000,\"showlegend\":true},                        {\"responsive\": true}                    ).then(function(){\n",
       "                            \n",
       "var gd = document.getElementById('d16b1825-f47f-4dcd-88ca-ece8825a81f9');\n",
       "var x = new MutationObserver(function (mutations, observer) {{\n",
       "        var display = window.getComputedStyle(gd).display;\n",
       "        if (!display || display === 'none') {{\n",
       "            console.log([gd, 'removed!']);\n",
       "            Plotly.purge(gd);\n",
       "            observer.disconnect();\n",
       "        }}\n",
       "}});\n",
       "\n",
       "// Listen for the removal of the full notebook cells\n",
       "var notebookContainer = gd.closest('#notebook-container');\n",
       "if (notebookContainer) {{\n",
       "    x.observe(notebookContainer, {childList: true});\n",
       "}}\n",
       "\n",
       "// Listen for the clearing of the current output cell\n",
       "var outputEl = gd.closest('.output');\n",
       "if (outputEl) {{\n",
       "    x.observe(outputEl, {childList: true});\n",
       "}}\n",
       "\n",
       "                        })                };                });            </script>        </div>"
      ]
     },
     "metadata": {},
     "output_type": "display_data"
    },
    {
     "data": {
      "application/vnd.jupyter.widget-view+json": {
       "model_id": "3c1709f45311400caf5ec88ebfa70eed",
       "version_major": 2,
       "version_minor": 0
      },
      "text/plain": [
       "  0%|          | 0/400 [00:00<?, ?it/s]"
      ]
     },
     "metadata": {},
     "output_type": "display_data"
    },
    {
     "data": {
      "application/vnd.jupyter.widget-view+json": {
       "model_id": "4c93de731f064ab9b5265e1c4c7d3ded",
       "version_major": 2,
       "version_minor": 0
      },
      "text/plain": [
       "  0%|          | 0/78 [00:00<?, ?it/s]"
      ]
     },
     "metadata": {},
     "output_type": "display_data"
    }
   ],
   "source": [
    "last_saved_epoch = None\n",
    "for _ in range(epochs):\n",
    "    clear_output(True)\n",
    "    print(last_saved_epoch)\n",
    "    plot(acc_history, [\"accuracy_both\", \"accuracy_title_only\", \"accuracy_summ_only\"], f\"plots/model_08.1.png\")\n",
    "\n",
    "    acc_history['train'].append(train(model, train_set, **params))\n",
    "    acc_history['val'].append(validate(model, val_set, **params))\n",
    "    if acc_history['val'][-1]['accuracy_both'] > max_acc:\n",
    "        max_acc = acc_history['val'][-1]['accuracy_both']\n",
    "        last_saved_epoch = len(acc_history)\n",
    "        model.save(f'./models/08.1')"
   ]
  },
  {
   "cell_type": "code",
   "execution_count": 50,
   "id": "53009761-4074-4688-ad8a-e67c0a93e20d",
   "metadata": {},
   "outputs": [],
   "source": [
    "def validate(model, dataloader):\n",
    "    model.eval()\n",
    "\n",
    "    acc = 0\n",
    "    pbar = tqdm(dataloader)\n",
    "    y_pred = []\n",
    "    y_true_list = []\n",
    "    for X_, y_true in pbar:\n",
    "        y_true_cpu = y_true\n",
    "        y_true = y_true.to(device)\n",
    "                                        \n",
    "        with torch.no_grad():\n",
    "            X = X_[-1]\n",
    "            X = [x.to(device) for x in X]\n",
    "            logits = model(*X)\n",
    "            proba_ = logits.softmax(dim=-1)\n",
    "            \n",
    "            for proba in proba_:\n",
    "                prob_sum = defaultdict(float)\n",
    "                for i, prob in enumerate(proba):\n",
    "                    prob_sum[get_cat(num_to_sub_cat[i])] += prob.item()\n",
    "                y_pred.append(cat_to_num[max(prob_sum, key=prob_sum.get)])\n",
    "            y_true_list.append(\n",
    "                np.array([cat_to_num[get_cat(num_to_sub_cat[t])] for t in get_prediction(y_true)]))\n",
    "    return y_pred, y_true_list"
   ]
  },
  {
   "cell_type": "code",
   "execution_count": 15,
   "id": "5dca5268-3997-4fe1-87a2-2d8f5b72ff4a",
   "metadata": {},
   "outputs": [],
   "source": [
    "import pickle\n",
    "from collections import defaultdict\n",
    "\n",
    "with open('./data/cat_data.pickle', 'rb') as f:\n",
    "    cat_data = pickle.load(f)\n",
    "    cats, sub_cats = cat_data[\"cat\"], cat_data[\"subcat\"]\n",
    "    \n",
    "cats = list(cats)\n",
    "subcat_to_cat = {}\n",
    "cat_nums = defaultdict(list)\n",
    "for cat_num, sub_cat in enumerate(sub_cats):\n",
    "    cat_idx = cats.index(get_cat(sub_cat))\n",
    "    cat_nums[cat_idx].append(cat_num)\n",
    "    subcat_to_cat[cat_num] = cat_idx"
   ]
  },
  {
   "cell_type": "code",
   "execution_count": null,
   "id": "e50b0406-678e-469e-869c-a4c3c1593db1",
   "metadata": {},
   "outputs": [],
   "source": [
    "def validate(model, dataloader, loss_fn, **kwargs):\n",
    "    model.eval()\n",
    "\n",
    "    metrics = defaultdict(float)\n",
    "    counter = defaultdict(int)\n",
    "    \n",
    "    dataloader.reshuffle()\n",
    "    pbar = tqdm(dataloader)\n",
    "    for X_, y_true in pbar:\n",
    "        y_true_cpu = y_true\n",
    "        y_true = y_true.to(device)  \n",
    "                                        \n",
    "        with torch.no_grad():\n",
    "            for name, X in zip(['title_only', 'summ_only', 'both'], X_):\n",
    "                X = [x.to(device) for x in X]\n",
    "                logits = model(*X)\n",
    "                loss = loss_fn(logits, y_true)\n",
    "                metrics[f'loss_{name}'] += loss.item()\n",
    "                counter[f'loss_{name}'] += 1\n",
    "                calc_metrics(logits, y_true_cpu, name, metrics, counter)\n",
    "                if name == 'both':\n",
    "                    pbar.set_description(f\"acc on both: {metrics['accuracy_both'] / counter['accuracy_both']:.3f}\")\n",
    "                    logits = logtits.detach().cpu()\n",
    "                    cat_pred = torch.vstack(logits[:, val].sum(dim=-1) for val in cat_nums.values()).T.argmax(dim=-1)\n",
    "                    metrics['cat_acc'] += accuracy_score(\n",
    "                        list(map(subcat_to_cat.get, get_prediction(y_true_cpu))),\n",
    "                        cat_pred\n",
    "                    )\n",
    "                    counter['cat_acc'] += 1\n",
    "                \n",
    "    for metric in metrics:\n",
    "        metrics[metric] /= counter[metric]\n",
    "\n",
    "    torch.cuda.empty_cache()\n",
    "    return metrics"
   ]
  },
  {
   "cell_type": "code",
   "execution_count": null,
   "id": "dde12def-e70e-42cd-a1c2-f1dc904339de",
   "metadata": {},
   "outputs": [],
   "source": []
  },
  {
   "cell_type": "code",
   "execution_count": 26,
   "id": "39367814-d4e8-48a0-9d57-49df7a76efef",
   "metadata": {},
   "outputs": [],
   "source": []
  },
  {
   "cell_type": "code",
   "execution_count": 51,
   "id": "6d1e74ab-36b8-4766-afbc-5959b34a613b",
   "metadata": {},
   "outputs": [],
   "source": [
    "val_set = MyDataset(val_seq)"
   ]
  },
  {
   "cell_type": "code",
   "execution_count": 52,
   "id": "8501176a-3d6f-40f1-9c02-68318ce35711",
   "metadata": {},
   "outputs": [
    {
     "data": {
      "application/vnd.jupyter.widget-view+json": {
       "model_id": "",
       "version_major": 2,
       "version_minor": 0
      },
      "text/plain": [
       "  0%|          | 0/157 [00:00<?, ?it/s]"
      ]
     },
     "metadata": {},
     "output_type": "display_data"
    }
   ],
   "source": [
    "t, tt = validate(model, val_set)"
   ]
  },
  {
   "cell_type": "code",
   "execution_count": 57,
   "id": "f55e5377-754e-4adf-9872-6dd9429f18b5",
   "metadata": {},
   "outputs": [
    {
     "data": {
      "text/plain": [
       "0.7334533093381324"
      ]
     },
     "execution_count": 57,
     "metadata": {},
     "output_type": "execute_result"
    }
   ],
   "source": [
    "accuracy_score(t, np.concatenate(tt))"
   ]
  }
 ],
 "metadata": {
  "kernelspec": {
   "display_name": "Python 3 (ipykernel)",
   "language": "python",
   "name": "python3"
  },
  "language_info": {
   "codemirror_mode": {
    "name": "ipython",
    "version": 3
   },
   "file_extension": ".py",
   "mimetype": "text/x-python",
   "name": "python",
   "nbconvert_exporter": "python",
   "pygments_lexer": "ipython3",
   "version": "3.10.11"
  }
 },
 "nbformat": 4,
 "nbformat_minor": 5
}
