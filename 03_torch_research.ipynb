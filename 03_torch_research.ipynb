{
 "cells": [
  {
   "cell_type": "code",
   "execution_count": 2,
   "id": "847bd1a7-91f3-48e5-89f5-ccc673686bf6",
   "metadata": {},
   "outputs": [
    {
     "name": "stderr",
     "output_type": "stream",
     "text": [
      "2023-05-16 15:03:14.728213: I tensorflow/core/platform/cpu_feature_guard.cc:182] This TensorFlow binary is optimized to use available CPU instructions in performance-critical operations.\n",
      "To enable the following instructions: AVX2 FMA, in other operations, rebuild TensorFlow with the appropriate compiler flags.\n",
      "2023-05-16 15:03:15.226352: W tensorflow/compiler/tf2tensorrt/utils/py_utils.cc:38] TF-TRT Warning: Could not find TensorRT\n"
     ]
    }
   ],
   "source": [
    "import torch\n",
    "import torch.nn as nn\n",
    "from transformers import DistilBertForSequenceClassification, DistilBertTokenizerFast, DistilBertModel\n",
    "from transformers import get_linear_schedule_with_warmup\n",
    "from torch.utils.data import TensorDataset, random_split, DataLoader, RandomSampler, SequentialSampler\n",
    "import time, datetime, random, re\n",
    "from sklearn.metrics import accuracy_score, f1_score, precision_score, recall_score\n",
    "import matplotlib.pyplot as plt\n",
    "import seaborn as sns\n",
    "from torch.cuda.amp import autocast, GradScaler\n",
    "from torch.optim import AdamW\n",
    "from tqdm.notebook import tqdm\n",
    "\n",
    "from imblearn.over_sampling import RandomOverSampler\n",
    "from imblearn.under_sampling import RandomUnderSampler\n",
    "\n",
    "from operator import itemgetter\n",
    "from tqdm.notebook import tqdm\n",
    "\n",
    "import json\n",
    "import pandas as pd\n",
    "import numpy as np\n",
    "from sklearn.model_selection import train_test_split\n",
    "import pickle\n",
    "\n",
    "SEED = 15\n",
    "random.seed(SEED)\n",
    "np.random.seed(SEED)\n",
    "torch.manual_seed(SEED)\n",
    "torch.backends.cudnn.deterministic = True\n",
    "torch.cuda.amp.autocast(enabled=True)\n",
    "device = torch.device(\"cuda\")"
   ]
  },
  {
   "cell_type": "markdown",
   "id": "9441ced9-a969-4eed-8fe5-f6661ed91a6a",
   "metadata": {},
   "source": [
    "## Tokens prep"
   ]
  },
  {
   "cell_type": "code",
   "execution_count": 3,
   "id": "8dfcc931-9956-42e2-8c7e-629c8702c5f3",
   "metadata": {
    "tags": []
   },
   "outputs": [],
   "source": [
    "physics = {'quant-ph', 'physics', 'nucl-th', 'nucl-ex', 'nlin', \n",
    "           'math-ph', 'hep-th', 'hep-ph', 'hep-lat', 'hep-ex', \n",
    "           'gr-qc', 'cond-mat', 'astro-ph', 'adap-org', 'physics'}\n",
    "\n",
    "tags_names = {\n",
    "    'cs': 'Computer Science',\n",
    "    'econ': 'Economics',\n",
    "    'eess': 'Electrical Engineering and Systems Science',\n",
    "    'math': 'Mathematics',\n",
    "    'physics': 'Physics',\n",
    "    'q-bio': 'Quantitative Biology',\n",
    "    'q-fin': 'Quantitative Finance',\n",
    "    'stat': 'Statistics',\n",
    "}\n",
    "\n",
    "def get_cat(tag):\n",
    "    # returns tag category as number / -1 if unkown\n",
    "    tag = tag.split('.')[0]\n",
    "    if tag in physics:\n",
    "        return \"physics\"\n",
    "    return tag\n",
    "\n",
    "def remove_mul_spaces(text):\n",
    "    return re.sub(r\"\\s+\", \" \", text)\n",
    "\n",
    "def try_remove(lst, val):\n",
    "    try:\n",
    "        lst.remove(val)\n",
    "    except ValueError:\n",
    "        pass\n",
    "    return lst"
   ]
  },
  {
   "cell_type": "code",
   "execution_count": 4,
   "id": "0247eac0-4abf-4310-bb7c-e0a152254726",
   "metadata": {},
   "outputs": [],
   "source": [
    "# with open('./data/papers_merged.pickle', 'rb') as f:\n",
    "#     fetched_data = pickle.load(f)\n",
    "\n",
    "# data = pd.DataFrame([{'title': remove_mul_spaces(paper['title']),\n",
    "#                       'summary': remove_mul_spaces(paper['summary']),\n",
    "#                       'category': get_cat(paper['arxiv_primary_category']['term']),\n",
    "#                       'sub_cat_main': paper['arxiv_primary_category']['term'],\n",
    "#                       'sub_cat_other': [tag['term'] for tag in paper['tags'] if get_cat(tag['term']) in tags_names]\n",
    "#                     } for paper in fetched_data])\n",
    "\n",
    "# cat = pd.Categorical(data.category)\n",
    "# data = data\\\n",
    "#     .drop(columns=['category'])\\\n",
    "#     .assign(category=cat.codes)\n",
    "\n",
    "# goal_num = 7_000\n",
    "# num_samples = {cat : min(num, goal_num) for cat, num in data.category.value_counts().reset_index().values}\n",
    "# data1, _ = RandomUnderSampler(sampling_strategy=num_samples)\\\n",
    "#     .fit_resample(data, data.category)\n",
    "\n",
    "\n",
    "# sub_cats_count = data1.sub_cat_main.value_counts()\n",
    "# used_subcats = sub_cats_count[sub_cats_count > 100].index\n",
    "\n",
    "# sub_cat_ = data1.sub_cat_main\n",
    "# data1.sub_cat_main = sub_cat_.where(sub_cat_.isin(used_subcats), sub_cat_.apply(get_cat))\n",
    "\n",
    "# sub_cat = pd.Categorical(data1.sub_cat_main)\n",
    "\n",
    "# data2 = data1\\\n",
    "#     .drop(columns=['sub_cat_main'])\\\n",
    "#     .assign(sub_cat_main=sub_cat.codes)\n",
    "\n",
    "# sub_cat_to_num = {category: i for i, category in enumerate(sub_cat.categories)}\n",
    "# data2.sub_cat_other = data2.sub_cat_other.apply(\n",
    "#     lambda cats: [sub_cat_to_num[cat] for cat in cats if cat in sub_cat_to_num]\n",
    "# )\n",
    "\n",
    "# list(map(try_remove, data2.sub_cat_other, data2.sub_cat_main));\n",
    "\n",
    "# train_data, val_data = train_test_split(data2, test_size=.1, stratify=data1.category)\n",
    "\n",
    "# shuffled = np.arange(len(train_data))\n",
    "# np.random.shuffle(shuffled)\n",
    "# train_data = train_data.iloc[shuffled]\n",
    "\n",
    "# with open('./data/cat_data.pickle', 'wb') as f:\n",
    "#     pickle.dump({\"cat\" : cat.categories, \"subcat\" : sub_cat.categories}, f)"
   ]
  },
  {
   "cell_type": "code",
   "execution_count": 5,
   "id": "6b86499f-1b04-4010-b1fc-91712a51e591",
   "metadata": {},
   "outputs": [],
   "source": [
    "tokenizer = DistilBertTokenizerFast.from_pretrained('distilbert-base-uncased-finetuned-sst-2-english')\n",
    "MAX_LENGTH = 290\n",
    "MAX_LENGTH_FIELD = 260\n",
    "\n",
    "def batch_encode(tokenizer, df, return_tensors='pt', batch_size=256, main_cat_weight=5):\n",
    "    # return list of batches (input_ids, attention_mask) and list of batches of y\n",
    "    title, summ = df.title.to_list(), df.summary.to_list()\n",
    "    total = df.title.str.cat([pd.Series(tokenizer.sep_token, index=df.index), df.summary]).to_list()\n",
    "    \n",
    "    y = np.zeros((len(df), len(sub_cat.categories)))\n",
    "    subs = [np.array(sub_cats, dtype=int) for sub_cats in df.sub_cat_other]\n",
    "    y[np.repeat(np.arange(len(y)), list(map(len, subs))), np.concatenate(subs)] = 1\n",
    "    y[np.arange(len(y)), df.sub_cat_main] = np.array(list(map(len, subs)))*2 + 1\n",
    "    y /= y.sum(axis=1, keepdims=True)\n",
    "    \n",
    "    encoded = []\n",
    "    ys = []\n",
    "    getter = itemgetter('input_ids', 'attention_mask')\n",
    "    \n",
    "    for i in tqdm(range(0, len(title), batch_size)):\n",
    "        slice_ = slice(i, i + batch_size)\n",
    "        batch_t = title[slice_]\n",
    "        batch_s = summ[slice_]\n",
    "        batch_total = total[slice_]\n",
    "        \n",
    "        inputs = []\n",
    "        for batch, max_length  in [(batch_t, MAX_LENGTH_FIELD),\n",
    "                                   (batch_s, MAX_LENGTH_FIELD),\n",
    "                                   (batch_total, MAX_LENGTH)]:\n",
    "            inputs.append(getter(tokenizer.batch_encode_plus(\n",
    "                batch,\n",
    "                max_length=max_length,\n",
    "                padding='longest',\n",
    "                truncation=True,\n",
    "                return_attention_mask=True,\n",
    "                return_token_type_ids=False,\n",
    "                return_tensors=return_tensors\n",
    "            )))\n",
    "        \n",
    "        encoded.append(inputs)\n",
    "        ys.append(torch.tensor(y[slice_]))\n",
    "    \n",
    "    return encoded, ys"
   ]
  },
  {
   "cell_type": "code",
   "execution_count": 6,
   "id": "0cfb7115-db8e-4d45-9ff7-d9737bf11082",
   "metadata": {},
   "outputs": [],
   "source": [
    "# train_seq, val_seq = (batch_encode(tokenizer, df, batch_size=32) for df in [train_data, val_data])"
   ]
  },
  {
   "cell_type": "code",
   "execution_count": 7,
   "id": "a81a2d16-6a83-4295-bf04-8d492c12162e",
   "metadata": {},
   "outputs": [],
   "source": [
    "# import pickle\n",
    "\n",
    "# with open('./data/encoded.pickle', 'wb+') as f:\n",
    "#     pickle.dump({'train': train_seq, 'val': val_seq}, f)"
   ]
  },
  {
   "cell_type": "code",
   "execution_count": 8,
   "id": "7fe92590-f1ec-4259-868b-97a3b23b19d7",
   "metadata": {},
   "outputs": [],
   "source": [
    "with open('./data/encoded.pickle', 'rb') as f:\n",
    "    pickle_obj = pickle.load(f)\n",
    "train_seq, val_seq = pickle_obj['train'], pickle_obj['val']"
   ]
  },
  {
   "cell_type": "code",
   "execution_count": 9,
   "id": "e1496a8d-ea6e-4b6b-b42b-04ddc15f40b5",
   "metadata": {},
   "outputs": [],
   "source": [
    "from pathlib import Path\n",
    "\n",
    "with open('./data/cat_data.pickle', 'rb') as f:\n",
    "    SUB_CATEGORIES_NUM = len(pickle.load(f)[\"subcat\"])\n",
    "\n",
    "class MyModel(nn.Module):\n",
    "    def __init__(self, path=None, n_labels=SUB_CATEGORIES_NUM):\n",
    "        super().__init__()\n",
    "        self.transformer = None\n",
    "        if path is None:\n",
    "            self.transformer = DistilBertModel.from_pretrained('distilbert-base-uncased')\n",
    "        self.clf = nn.Sequential(\n",
    "            nn.Linear(in_features=768, out_features=2048),\n",
    "            nn.ReLU(),\n",
    "            torch.nn.BatchNorm1d(num_features=2048),\n",
    "            nn.Dropout(.2),\n",
    "            nn.Linear(in_features=2048, out_features=2048),\n",
    "            nn.ReLU(),\n",
    "            torch.nn.BatchNorm1d(num_features=2048),\n",
    "            nn.Dropout(.2),\n",
    "            nn.ReLU(),\n",
    "            nn.Linear(in_features=2048, out_features=2048),\n",
    "            nn.ReLU(),\n",
    "            torch.nn.BatchNorm1d(num_features=2048),\n",
    "            nn.Dropout(.2),\n",
    "            nn.ReLU(),\n",
    "            nn.Linear(in_features=2048, out_features=1024),\n",
    "            torch.nn.BatchNorm1d(num_features=1024),\n",
    "            nn.Dropout(.2),\n",
    "            nn.ReLU(),\n",
    "            nn.Linear(in_features=1024, out_features=n_labels),\n",
    "        )\n",
    "        \n",
    "        if path is not None:\n",
    "            self.load(path)\n",
    "    \n",
    "    def forward(self, input_ids, attention_mask):\n",
    "        X = self.transformer(input_ids=input_ids, attention_mask=attention_mask)[0][:, 0]\n",
    "        return self.clf(X)\n",
    "    \n",
    "    def save(self, path):\n",
    "        path = Path(path)\n",
    "        if not path.exists():\n",
    "            path.mkdir()\n",
    "        for i, layer in enumerate([self.clf]):\n",
    "            torch.save(layer.state_dict(), path / f\"layer_{i}.pt\")\n",
    "        self.transformer.save_pretrained(path / \"transformer-chkp\")\n",
    "        \n",
    "    def load(self, path):\n",
    "        path = Path(path)\n",
    "        self.transformer = DistilBertModel.from_pretrained(\n",
    "            path / \"transformer-chkp\",\n",
    "            local_files_only=True\n",
    "        )\n",
    "        for i, layer in enumerate([self.clf]):\n",
    "            layer.load_state_dict(torch.load(path / f\"layer_{i}.pt\"))"
   ]
  },
  {
   "cell_type": "code",
   "execution_count": 66,
   "id": "7dc6faae-0c08-4927-82bc-c7c790a7a1bd",
   "metadata": {
    "tags": []
   },
   "outputs": [],
   "source": [
    "from torch.utils.data import Dataset, DataLoader\n",
    "import numpy as np\n",
    "from random import shuffle\n",
    "from collections import defaultdict\n",
    "\n",
    "class MyDataset(Dataset):\n",
    "    def __init__(self, seq, epoch_size=None):\n",
    "        super().__init__()\n",
    "        self.X, self.y = seq\n",
    "        self.epoch_size = epoch_size or len(self.X)\n",
    "\n",
    "    def __len__(self):\n",
    "        return self.epoch_size\n",
    "\n",
    "    def __getitem__(self, idx):\n",
    "        if idx >= self.epoch_size:\n",
    "            raise IndexError\n",
    "        return self.X[idx], self.y[idx]\n",
    "    \n",
    "    def reshuffle(self):\n",
    "        zipped = list(zip(self.X, self.y))\n",
    "        shuffle(zipped)\n",
    "        self.X, self.y = zip(*zipped)\n",
    "\n",
    "def get_prediction(logits_on_gpu):\n",
    "    return logits_on_gpu.argmax(axis=1).flatten().detach().cpu().numpy()\n",
    "\n",
    "class ExpMean:\n",
    "    def __init__(self, alpha=.95):\n",
    "        # the greater alpha, the lesser influence for new\n",
    "        self.val = None\n",
    "        self.alpha = alpha\n",
    "    \n",
    "    def upd(self, new_val):\n",
    "        if self.val is None:\n",
    "            self.val = new_val\n",
    "        else:\n",
    "            self.val = self.val * self.alpha + new_val * (1 - self.alpha)\n",
    "    \n",
    "    def __repr__(self):\n",
    "        return str(self.val)\n",
    "\n",
    "def calc_metrics(logits, y_true_cpu, name, metrics, counter, metrics_exp=None):\n",
    "    y_pred = get_prediction(logits)\n",
    "    new_acc = accuracy_score(get_prediction(y_true_cpu), y_pred)\n",
    "    metrics[f'accuracy_{name}'] += new_acc\n",
    "    counter[f'accuracy_{name}'] += 1\n",
    "    \n",
    "    if metrics_exp is not None:\n",
    "        metrics_exp[f'accuracy_{name}'].upd(new_acc)\n",
    "    \n",
    "def train(model, dataloader, optimizer, scaler, loss_fn, scheduler, exp_mean_alpha = .8, proba=None):\n",
    "    # param proba: list of length 2 - probabilities to select only title, only summary.\n",
    "    #    probability to select both is 1 - sum(proba)\n",
    "    # the greater exp_mean_alpha, the lesser influence of new means\n",
    "    if proba is None:\n",
    "        proba = [0.2, 0.2]\n",
    "    proba.append(1 - sum(proba))\n",
    "    proba = np.array(proba)\n",
    "    \n",
    "    metrics = defaultdict(float)\n",
    "    counter = defaultdict(int)\n",
    "    metrics_exp = defaultdict(lambda: ExpMean(exp_mean_alpha))\n",
    "\n",
    "    model.train()\n",
    "    \n",
    "    dataloader.reshuffle()\n",
    "    pbar = tqdm(dataloader)\n",
    "    cur_acc = None\n",
    "    \n",
    "    for X_, y_true in pbar:\n",
    "        # idx = np.random.choice(3, p=proba)\n",
    "        for name, X in zip(['title_only', 'summ_only', 'both'], X_):\n",
    "            X = [x.to(device) for x in X]\n",
    "            y_true_cpu = y_true\n",
    "            y_true = y_true.to(device)\n",
    "\n",
    "            optimizer.zero_grad()\n",
    "            with autocast():\n",
    "                logits = model(*X)\n",
    "        \n",
    "            loss = loss_fn(logits, y_true)\n",
    "            scaler.scale(loss).backward()\n",
    "            scaler.step(optimizer)\n",
    "            scaler.update()\n",
    "            metrics[f'loss_{name}'] += loss.item()\n",
    "            counter[f'loss_{name}'] += 1\n",
    "            with torch.no_grad():\n",
    "                calc_metrics(logits, y_true_cpu, name, metrics, counter, metrics_exp)\n",
    "        scheduler.step()\n",
    "        \n",
    "            \n",
    "        pbar.set_description(\" \".join(f'{metric}: {acc.val:.4f}' for metric, acc in metrics_exp.items()))\n",
    "        \n",
    "    for metric in metrics:\n",
    "        try:\n",
    "            metrics[metric] /= counter[metric]\n",
    "        except ZeroDivisionError:\n",
    "            pass\n",
    "    \n",
    "    torch.cuda.empty_cache()\n",
    "    \n",
    "    return metrics\n",
    "\n",
    "def validate(model, dataloader, loss_fn, **kwargs):\n",
    "    model.eval()\n",
    "\n",
    "    metrics = defaultdict(float)\n",
    "    counter = defaultdict(int)\n",
    "    \n",
    "    dataloader.reshuffle()\n",
    "    pbar = tqdm(dataloader)\n",
    "    for X_, y_true in pbar:\n",
    "        y_true_cpu = y_true\n",
    "        y_true = y_true.to(device)  \n",
    "                                        \n",
    "        with torch.no_grad():\n",
    "            for name, X in zip(['title_only', 'summ_only', 'both'], X_):\n",
    "                X = [x.to(device) for x in X]\n",
    "                logits = model(*X)\n",
    "                loss = loss_fn(logits, y_true)\n",
    "                metrics[f'loss_{name}'] += loss.item()\n",
    "                counter[f'loss_{name}'] += 1\n",
    "                calc_metrics(logits, y_true_cpu, name, metrics, counter)\n",
    "                if name == 'both':\n",
    "                    # proba = logits.detach().cpu().softmax(dim=-1)\n",
    "                    # cat_pred = torch.vstack([proba[:, val].sum(dim=-1) for val in cat_nums.values()]).T.argmax(dim=-1)\n",
    "                    metrics['cat_acc'] += accuracy_score(\n",
    "                        list(map(subcat_to_cat.get, get_prediction(y_true_cpu))),\n",
    "                        list(map(subcat_to_cat.get, get_prediction(logits)))\n",
    "                    )\n",
    "                    counter['cat_acc'] += 1\n",
    "                    pbar.set_description(f\"acc on both: {metrics['accuracy_both'] / counter['accuracy_both']:.3f}\")\n",
    "                \n",
    "    for metric in metrics:\n",
    "        metrics[metric] /= counter[metric]\n",
    "\n",
    "    torch.cuda.empty_cache()\n",
    "    return metrics"
   ]
  },
  {
   "cell_type": "code",
   "execution_count": 70,
   "id": "5532b680-6929-4ff5-9f7f-1e53741616e2",
   "metadata": {},
   "outputs": [
    {
     "data": {
      "text/plain": [
       "([(tensor([[  101,  3116, 12353,  1998, 18678,  2791,  1024,  2312,  1011,  4094,\n",
       "            10903,  1010,  8720,  1997,  3145,  2838,  1010,  1998, 17547,  1999,\n",
       "             2613,  1011,  2088,  6556,  6295,   102],\n",
       "           [  101,  1996, 26553,  4779,  7709,  2007,  4298, 21770, 10624,  6914,\n",
       "            14769, 23284,  2015,   102,     0,     0,     0,     0,     0,     0,\n",
       "                0,     0,     0,     0,     0,     0],\n",
       "           [  101,  2006,  2019,  5331,  1997,  1996, 13017,  4939,  1011, 11545,\n",
       "             2368,  2944,  1024,  1996,  3896,  1997,  1037, 24004, 21850,  2135,\n",
       "             1011,  2241,  3747,  8185,   102,     0],\n",
       "           [  101,  8790,  3973, 12238,  6118, 24110, 23355, 10496,  3665,  1999,\n",
       "            12441, 20393,  1011,  2732,  7660,   102,     0,     0,     0,     0,\n",
       "                0,     0,     0,     0,     0,     0],\n",
       "           [  101,  2128,  9331,  1996, 11203,  2006,  3796, 24925,  2078,  1024,\n",
       "             1037,  5002,  1997, 10750,  7876, 16744,   102,     0,     0,     0,\n",
       "                0,     0,     0,     0,     0,     0],\n",
       "           [  101, 12934,  1060,  1011,  4097,  9420,  1997,  2980,  3806,  2007,\n",
       "             1048,  1011, 21706,  4100,  1011, 23521,  4275,  1997,  9088,  4195,\n",
       "              102,     0,     0,     0,     0,     0],\n",
       "           [  101,  2529,  1011,  8957,  8066,  4651,  2007,  9412, 12646,  3081,\n",
       "             8790,  2929, 10968,  2015,   102,     0,     0,     0,     0,     0,\n",
       "                0,     0,     0,     0,     0,     0],\n",
       "           [  101,  8559,  5446,  1024,  1037, 14924,  4818,  2006,  8559,  9798,\n",
       "             4162,  2000,  1996,  3361,  3006,   102,     0,     0,     0,     0,\n",
       "                0,     0,     0,     0,     0,     0],\n",
       "           [  101,  2235,  2181, 24155,  1997, 16440,  5761,  2478,  8150,  2015,\n",
       "             1997,  8247,  2015,   102,     0,     0,     0,     0,     0,     0,\n",
       "                0,     0,     0,     0,     0,     0],\n",
       "           [  101,  4026, 17547,  1999, 12562,  6125,  2478, 10629, 15756,  6125,\n",
       "              102,     0,     0,     0,     0,     0,     0,     0,     0,     0,\n",
       "                0,     0,     0,     0,     0,     0],\n",
       "           [  101, 14442,  3896,  1997, 26721, 10259,  2344,  1011, 14541,  6847,\n",
       "            27373,   102,     0,     0,     0,     0,     0,     0,     0,     0,\n",
       "                0,     0,     0,     0,     0,     0],\n",
       "           [  101,  2358, 11663, 20875,  5285, 10450, 18605,  2944,  2007,  2846,\n",
       "             1011,  2241, 18140,  1998, 21155,   102,     0,     0,     0,     0,\n",
       "                0,     0,     0,     0,     0,     0],\n",
       "           [  101,  8559,  6121, 21197, 26228,  1050,  1011,  5050,  8010,   102,\n",
       "                0,     0,     0,     0,     0,     0,     0,     0,     0,     0,\n",
       "                0,     0,     0,     0,     0,     0],\n",
       "           [  101,  1037, 11721, 17854,  2937, 28003,  2615,  4522,  2000, 12884,\n",
       "             2389,  2829,  2937,  4367,  2005, 20874,  3361, 16942,   102,     0,\n",
       "                0,     0,     0,     0,     0,     0],\n",
       "           [  101,  3747,  1997,  1996, 24353,  1997,  1996,  3043,  2373,  8674,\n",
       "             2012,  2235,  9539,  2006,  1996,  3795,  2538,  1011,  4642,  4742,\n",
       "             2012, 14448,  6440,   102,     0,     0],\n",
       "           [  101,  1999,  7512,  4892,  4425,  6125,  2013,  4684,  3042,  2951,\n",
       "             2000, 10197,  1996, 24501, 18622, 10127,  1997,  1037,  2120,  4610,\n",
       "              102,     0,     0,     0,     0,     0],\n",
       "           [  101, 12504,  1997,  1996,  5248,  1997,  1996, 16240,  2271, 26458,\n",
       "            16989,  2478,  6721, 22559,   102,     0,     0,     0,     0,     0,\n",
       "                0,     0,     0,     0,     0,     0],\n",
       "           [  101, 13301,  2030,  8364,  1997,  7072,  1029,  1024,  2783,  3350,\n",
       "             2013,  1996,  2522, 17258,  1011,  2539,  6090,  3207,  7712,   102,\n",
       "                0,     0,     0,     0,     0,     0],\n",
       "           [  101, 12038,  3746,  1999,  4502, 18447,  2075,  2011, 18247,  3332,\n",
       "            10938,  2121,  2007,  4101,  3086,  2000, 13229,   102,     0,     0,\n",
       "                0,     0,     0,     0,     0,     0],\n",
       "           [  101,  2951,  1011,  5533, 12504,  1997,  8731,  1011, 12849, 13728,\n",
       "            22844, 12298, 13656,  3930,  4275,  2478,  8790,  5549, 22511,   102,\n",
       "                0,     0,     0,     0,     0,     0],\n",
       "           [  101, 26268,  2075,  3528,  1997,  8013,  1005,  1055,  3784,  8147,\n",
       "             2005, 14684,  6826, 17547,  2007,  3816,  1011,  6531,  8833,  6553,\n",
       "            26237,   102,     0,     0,     0,     0],\n",
       "           [  101,  2224,  1997, 17245,  4972,  2000,  4372, 17897, 11657,  2892,\n",
       "             1011,  9140,  5617,  2302,  3622,  4031,  3252,   102,     0,     0,\n",
       "                0,     0,     0,     0,     0,     0],\n",
       "           [  101,  4083,  2015,  2013,  2951,  8346,  2005, 19335,  2653,  4275,\n",
       "              102,     0,     0,     0,     0,     0,     0,     0,     0,     0,\n",
       "                0,     0,     0,     0,     0,     0],\n",
       "           [  101,  1037,  2155,  1997,  8559,  3854, 22860,  4294,   102,     0,\n",
       "                0,     0,     0,     0,     0,     0,     0,     0,     0,     0,\n",
       "                0,     0,     0,     0,     0,     0],\n",
       "           [  101,  1996,  8559,  3712, 28550,  2239,  2534,  3466,  1999,  1042,\n",
       "            10496,  3001,   102,     0,     0,     0,     0,     0,     0,     0,\n",
       "                0,     0,     0,     0,     0,     0],\n",
       "           [  101,  1037, 14785,  3550,  2093,  1011,  2112,  7153,  2051,  2186,\n",
       "            26237,  2944,  2005, 14267,  2951,   102,     0,     0,     0,     0,\n",
       "                0,     0,     0,     0,     0,     0],\n",
       "           [  101,  3016, 25253, 20288,  9207,  8285,  2890, 17603, 18719,  3726,\n",
       "            11991,  4275,  2007,  4646,  2000,  2529,  9218,  4403,  6903,  3370,\n",
       "              102,     0,     0,     0,     0,     0],\n",
       "           [  101,  5301,  2724,  1011,  2241, 10811, 22910,  1999,  7692,  1011,\n",
       "            27570,  6556,  2110, 24155,   102,     0,     0,     0,     0,     0,\n",
       "                0,     0,     0,     0,     0,     0],\n",
       "           [  101, 14991,  1011, 10395,  4372, 23395,  3672, 10949,  1999,  8761,\n",
       "             2098, 21299,  1011, 16580,  4677,   102,     0,     0,     0,     0,\n",
       "                0,     0,     0,     0,     0,     0],\n",
       "           [  101,  3016, 25253, 24155,  4725,  2005,  5002,  2951,  2007,  5097,\n",
       "             2005,  2740,  4487, 27694,  6447,  2470,   102,     0,     0,     0,\n",
       "                0,     0,     0,     0,     0,     0],\n",
       "           [  101, 23217,  3512,  9786,   102,     0,     0,     0,     0,     0,\n",
       "                0,     0,     0,     0,     0,     0,     0,     0,     0,     0,\n",
       "                0,     0,     0,     0,     0,     0],\n",
       "           [  101,  8790, 22802,  4270,  1999,  2051,  1011,  9671, 16381,  2358,\n",
       "            11663, 20875,  5285, 10450, 18605,  1999,  2812,  4275,   102,     0,\n",
       "                0,     0,     0,     0,     0,     0]]),\n",
       "   tensor([[1, 1, 1, 1, 1, 1, 1, 1, 1, 1, 1, 1, 1, 1, 1, 1, 1, 1, 1, 1, 1, 1, 1, 1,\n",
       "            1, 1],\n",
       "           [1, 1, 1, 1, 1, 1, 1, 1, 1, 1, 1, 1, 1, 1, 0, 0, 0, 0, 0, 0, 0, 0, 0, 0,\n",
       "            0, 0],\n",
       "           [1, 1, 1, 1, 1, 1, 1, 1, 1, 1, 1, 1, 1, 1, 1, 1, 1, 1, 1, 1, 1, 1, 1, 1,\n",
       "            1, 0],\n",
       "           [1, 1, 1, 1, 1, 1, 1, 1, 1, 1, 1, 1, 1, 1, 1, 1, 0, 0, 0, 0, 0, 0, 0, 0,\n",
       "            0, 0],\n",
       "           [1, 1, 1, 1, 1, 1, 1, 1, 1, 1, 1, 1, 1, 1, 1, 1, 1, 0, 0, 0, 0, 0, 0, 0,\n",
       "            0, 0],\n",
       "           [1, 1, 1, 1, 1, 1, 1, 1, 1, 1, 1, 1, 1, 1, 1, 1, 1, 1, 1, 1, 1, 0, 0, 0,\n",
       "            0, 0],\n",
       "           [1, 1, 1, 1, 1, 1, 1, 1, 1, 1, 1, 1, 1, 1, 1, 0, 0, 0, 0, 0, 0, 0, 0, 0,\n",
       "            0, 0],\n",
       "           [1, 1, 1, 1, 1, 1, 1, 1, 1, 1, 1, 1, 1, 1, 1, 1, 0, 0, 0, 0, 0, 0, 0, 0,\n",
       "            0, 0],\n",
       "           [1, 1, 1, 1, 1, 1, 1, 1, 1, 1, 1, 1, 1, 1, 0, 0, 0, 0, 0, 0, 0, 0, 0, 0,\n",
       "            0, 0],\n",
       "           [1, 1, 1, 1, 1, 1, 1, 1, 1, 1, 1, 0, 0, 0, 0, 0, 0, 0, 0, 0, 0, 0, 0, 0,\n",
       "            0, 0],\n",
       "           [1, 1, 1, 1, 1, 1, 1, 1, 1, 1, 1, 1, 0, 0, 0, 0, 0, 0, 0, 0, 0, 0, 0, 0,\n",
       "            0, 0],\n",
       "           [1, 1, 1, 1, 1, 1, 1, 1, 1, 1, 1, 1, 1, 1, 1, 1, 0, 0, 0, 0, 0, 0, 0, 0,\n",
       "            0, 0],\n",
       "           [1, 1, 1, 1, 1, 1, 1, 1, 1, 1, 0, 0, 0, 0, 0, 0, 0, 0, 0, 0, 0, 0, 0, 0,\n",
       "            0, 0],\n",
       "           [1, 1, 1, 1, 1, 1, 1, 1, 1, 1, 1, 1, 1, 1, 1, 1, 1, 1, 1, 0, 0, 0, 0, 0,\n",
       "            0, 0],\n",
       "           [1, 1, 1, 1, 1, 1, 1, 1, 1, 1, 1, 1, 1, 1, 1, 1, 1, 1, 1, 1, 1, 1, 1, 1,\n",
       "            0, 0],\n",
       "           [1, 1, 1, 1, 1, 1, 1, 1, 1, 1, 1, 1, 1, 1, 1, 1, 1, 1, 1, 1, 1, 0, 0, 0,\n",
       "            0, 0],\n",
       "           [1, 1, 1, 1, 1, 1, 1, 1, 1, 1, 1, 1, 1, 1, 1, 0, 0, 0, 0, 0, 0, 0, 0, 0,\n",
       "            0, 0],\n",
       "           [1, 1, 1, 1, 1, 1, 1, 1, 1, 1, 1, 1, 1, 1, 1, 1, 1, 1, 1, 1, 0, 0, 0, 0,\n",
       "            0, 0],\n",
       "           [1, 1, 1, 1, 1, 1, 1, 1, 1, 1, 1, 1, 1, 1, 1, 1, 1, 1, 0, 0, 0, 0, 0, 0,\n",
       "            0, 0],\n",
       "           [1, 1, 1, 1, 1, 1, 1, 1, 1, 1, 1, 1, 1, 1, 1, 1, 1, 1, 1, 1, 0, 0, 0, 0,\n",
       "            0, 0],\n",
       "           [1, 1, 1, 1, 1, 1, 1, 1, 1, 1, 1, 1, 1, 1, 1, 1, 1, 1, 1, 1, 1, 1, 0, 0,\n",
       "            0, 0],\n",
       "           [1, 1, 1, 1, 1, 1, 1, 1, 1, 1, 1, 1, 1, 1, 1, 1, 1, 1, 0, 0, 0, 0, 0, 0,\n",
       "            0, 0],\n",
       "           [1, 1, 1, 1, 1, 1, 1, 1, 1, 1, 1, 0, 0, 0, 0, 0, 0, 0, 0, 0, 0, 0, 0, 0,\n",
       "            0, 0],\n",
       "           [1, 1, 1, 1, 1, 1, 1, 1, 1, 0, 0, 0, 0, 0, 0, 0, 0, 0, 0, 0, 0, 0, 0, 0,\n",
       "            0, 0],\n",
       "           [1, 1, 1, 1, 1, 1, 1, 1, 1, 1, 1, 1, 1, 0, 0, 0, 0, 0, 0, 0, 0, 0, 0, 0,\n",
       "            0, 0],\n",
       "           [1, 1, 1, 1, 1, 1, 1, 1, 1, 1, 1, 1, 1, 1, 1, 1, 0, 0, 0, 0, 0, 0, 0, 0,\n",
       "            0, 0],\n",
       "           [1, 1, 1, 1, 1, 1, 1, 1, 1, 1, 1, 1, 1, 1, 1, 1, 1, 1, 1, 1, 1, 0, 0, 0,\n",
       "            0, 0],\n",
       "           [1, 1, 1, 1, 1, 1, 1, 1, 1, 1, 1, 1, 1, 1, 1, 0, 0, 0, 0, 0, 0, 0, 0, 0,\n",
       "            0, 0],\n",
       "           [1, 1, 1, 1, 1, 1, 1, 1, 1, 1, 1, 1, 1, 1, 1, 1, 0, 0, 0, 0, 0, 0, 0, 0,\n",
       "            0, 0],\n",
       "           [1, 1, 1, 1, 1, 1, 1, 1, 1, 1, 1, 1, 1, 1, 1, 1, 1, 0, 0, 0, 0, 0, 0, 0,\n",
       "            0, 0],\n",
       "           [1, 1, 1, 1, 1, 0, 0, 0, 0, 0, 0, 0, 0, 0, 0, 0, 0, 0, 0, 0, 0, 0, 0, 0,\n",
       "            0, 0],\n",
       "           [1, 1, 1, 1, 1, 1, 1, 1, 1, 1, 1, 1, 1, 1, 1, 1, 1, 1, 1, 0, 0, 0, 0, 0,\n",
       "            0, 0]])),\n",
       "  (tensor([[  101, 16165,  6295,  ...,     0,     0,     0],\n",
       "           [  101,  2087, 18539,  ...,  1999,  2235,   102],\n",
       "           [  101,  1999,  2023,  ...,     0,     0,     0],\n",
       "           ...,\n",
       "           [  101,  4824,  2129,  ...,  2740, 10067,   102],\n",
       "           [  101,  2023,  2817,  ...,     0,     0,     0],\n",
       "           [  101,  3144, 19939,  ...,     0,     0,     0]]),\n",
       "   tensor([[1, 1, 1,  ..., 0, 0, 0],\n",
       "           [1, 1, 1,  ..., 1, 1, 1],\n",
       "           [1, 1, 1,  ..., 0, 0, 0],\n",
       "           ...,\n",
       "           [1, 1, 1,  ..., 1, 1, 1],\n",
       "           [1, 1, 1,  ..., 0, 0, 0],\n",
       "           [1, 1, 1,  ..., 0, 0, 0]])),\n",
       "  (tensor([[  101,  3116, 12353,  ...,     0,     0,     0],\n",
       "           [  101,  1996, 26553,  ...,     0,     0,     0],\n",
       "           [  101,  2006,  2019,  ...,     0,     0,     0],\n",
       "           ...,\n",
       "           [  101,  3016, 25253,  ...,  1010,  5002,   102],\n",
       "           [  101, 23217,  3512,  ...,     0,     0,     0],\n",
       "           [  101,  8790, 22802,  ...,     0,     0,     0]]),\n",
       "   tensor([[1, 1, 1,  ..., 0, 0, 0],\n",
       "           [1, 1, 1,  ..., 0, 0, 0],\n",
       "           [1, 1, 1,  ..., 0, 0, 0],\n",
       "           ...,\n",
       "           [1, 1, 1,  ..., 1, 1, 1],\n",
       "           [1, 1, 1,  ..., 0, 0, 0],\n",
       "           [1, 1, 1,  ..., 0, 0, 0]]))],\n",
       " tensor([[0.0000, 0.0000, 0.0000,  ..., 0.0000, 0.0000, 0.0000],\n",
       "         [0.0000, 0.0000, 0.0000,  ..., 0.0000, 0.7500, 0.0000],\n",
       "         [0.0000, 0.0000, 0.0000,  ..., 0.0000, 0.0000, 0.0000],\n",
       "         ...,\n",
       "         [0.0000, 0.0000, 0.0000,  ..., 0.0000, 0.7500, 0.0000],\n",
       "         [0.0000, 0.0000, 0.0000,  ..., 0.0000, 0.0000, 0.0000],\n",
       "         [0.0000, 0.0000, 0.0000,  ..., 0.0000, 0.0000, 0.0000]],\n",
       "        dtype=torch.float64))"
      ]
     },
     "execution_count": 70,
     "metadata": {},
     "output_type": "execute_result"
    }
   ],
   "source": [
    "val_set[0]"
   ]
  },
  {
   "cell_type": "code",
   "execution_count": 75,
   "id": "95861db5-ad7f-40f5-9806-b3bc67d70f10",
   "metadata": {},
   "outputs": [],
   "source": [
    "model_cpu = model.to('cpu')"
   ]
  },
  {
   "cell_type": "code",
   "execution_count": 67,
   "id": "f0c237ee-8a16-4342-83b5-c9980de51bc6",
   "metadata": {},
   "outputs": [
    {
     "data": {
      "application/vnd.jupyter.widget-view+json": {
       "model_id": "329b29106d6246feb0b80bba5d48e276",
       "version_major": 2,
       "version_minor": 0
      },
      "text/plain": [
       "  0%|          | 0/78 [00:00<?, ?it/s]"
      ]
     },
     "metadata": {},
     "output_type": "display_data"
    },
    {
     "data": {
      "text/plain": [
       "defaultdict(float,\n",
       "            {'loss_title_only': 2.346293278008424,\n",
       "             'accuracy_title_only': 0.41225961538461536,\n",
       "             'loss_summ_only': 1.8933389315031708,\n",
       "             'accuracy_summ_only': 0.5168269230769231,\n",
       "             'loss_both': 1.8730202017681974,\n",
       "             'accuracy_both': 0.5208333333333334,\n",
       "             'cat_acc': 0.7395833333333334})"
      ]
     },
     "execution_count": 67,
     "metadata": {},
     "output_type": "execute_result"
    }
   ],
   "source": [
    "validate(model, val_set, **params)"
   ]
  },
  {
   "cell_type": "code",
   "execution_count": 11,
   "id": "7c1fda46-2b0a-405e-8285-3d3a2caae7b2",
   "metadata": {
    "tags": []
   },
   "outputs": [],
   "source": [
    "import warnings\n",
    "from IPython.display import clear_output\n",
    "from plotly.subplots import make_subplots\n",
    "import plotly.express as px\n",
    "import pandas as pd\n",
    "import numpy as np\n",
    "from math import ceil\n",
    "\n",
    "warnings.filterwarnings('ignore')\n",
    "\n",
    "def plot_series(dfs_arr, titles, height=600, width=1000, plot_cols=3, path=None):\n",
    "    plot_rows = ceil(len(dfs_arr) / plot_cols)\n",
    "    fig = make_subplots(rows=plot_rows, cols=plot_cols, subplot_titles=titles)\n",
    "\n",
    "    # add traces\n",
    "    i, j = 1, 1\n",
    "    for df in dfs_arr:\n",
    "        for trace in px.line(df, x=\"epoch\", y=\"value\", color=\"stage\")[\"data\"]:\n",
    "            fig.append_trace(\n",
    "                trace,\n",
    "                row=i, col=j\n",
    "            )\n",
    "        j += 1\n",
    "        if j > plot_cols:\n",
    "            j = 1\n",
    "            i += 1\n",
    "    fig.update_layout(height=height, width=width, showlegend=True)\n",
    "    fig.show()\n",
    "    if path is not None:\n",
    "        fig.write_image(path)\n",
    "\n",
    "def plot(acc_history, metrics, path=None):\n",
    "    if len(acc_history['train']) > 1:\n",
    "        dfs = []\n",
    "        for metric in metrics:\n",
    "            acc_history = {stage : pd.DataFrame(df) for stage, df in acc_history.items()}\n",
    "            dfs.append(pd.concat(\n",
    "                pd.DataFrame({'value': df[metric], 'epoch': list(df.index + 1), 'stage': stage})\n",
    "                for stage, df in acc_history.items()\n",
    "            ))\n",
    "        plot_series(dfs, metrics, path=path)\n",
    "    else:\n",
    "        print(acc_history)\n",
    "        "
   ]
  },
  {
   "cell_type": "code",
   "execution_count": 12,
   "id": "0373aead-d266-47a6-a773-0f10a84f5dd1",
   "metadata": {},
   "outputs": [
    {
     "name": "stderr",
     "output_type": "stream",
     "text": [
      "Some weights of the model checkpoint at distilbert-base-uncased were not used when initializing DistilBertModel: ['vocab_layer_norm.weight', 'vocab_projector.bias', 'vocab_transform.bias', 'vocab_transform.weight', 'vocab_layer_norm.bias', 'vocab_projector.weight']\n",
      "- This IS expected if you are initializing DistilBertModel from the checkpoint of a model trained on another task or with another architecture (e.g. initializing a BertForSequenceClassification model from a BertForPreTraining model).\n",
      "- This IS NOT expected if you are initializing DistilBertModel from the checkpoint of a model that you expect to be exactly identical (initializing a BertForSequenceClassification model from a BertForSequenceClassification model).\n"
     ]
    }
   ],
   "source": [
    "samples_per_epoch = 400\n",
    "val_samples = len(val_seq[0]) // 2\n",
    "\n",
    "epochs = 20\n",
    "train_set = MyDataset(train_seq, samples_per_epoch)\n",
    "val_set = MyDataset(val_seq, val_samples)\n",
    "model = MyModel()\n",
    "loss_fn = torch.nn.CrossEntropyLoss()\n",
    "model.cuda()\n",
    "\n",
    "optimizer = AdamW(model.parameters(),\n",
    "                  lr=2e-6,\n",
    "                  weight_decay=0.65\n",
    "                )\n",
    "\n",
    "scheduler = get_linear_schedule_with_warmup(optimizer,\n",
    "                                            num_warmup_steps=0,\n",
    "                                            num_training_steps=len(train_set) * epochs)\n",
    "\n",
    "acc_history = {'train': [], 'val': []}\n",
    "params = dict(\n",
    "    optimizer=optimizer,\n",
    "    scaler=GradScaler(),\n",
    "    scheduler=scheduler,\n",
    "    loss_fn=loss_fn,\n",
    "    exp_mean_alpha=0.95\n",
    ")\n",
    "max_acc = 0."
   ]
  },
  {
   "cell_type": "code",
   "execution_count": 14,
   "id": "ef084492-b159-4b14-b26d-3140ae1cf909",
   "metadata": {},
   "outputs": [
    {
     "data": {
      "application/vnd.plotly.v1+json": {
       "config": {
        "plotlyServerURL": "https://plot.ly"
       },
       "data": [
        {
         "hovertemplate": "stage=train<br>epoch=%{x}<br>value=%{y}<extra></extra>",
         "legendgroup": "train",
         "line": {
          "color": "#636efa",
          "dash": "solid"
         },
         "marker": {
          "symbol": "circle"
         },
         "mode": "lines",
         "name": "train",
         "orientation": "v",
         "showlegend": true,
         "type": "scatter",
         "x": [
          1,
          2,
          3,
          4,
          5,
          6,
          7,
          8,
          9,
          10,
          11,
          12,
          13,
          14,
          15,
          16,
          17,
          18
         ],
         "xaxis": "x",
         "y": [
          0.082578125,
          0.264296875,
          0.338046875,
          0.370234375,
          0.39625,
          0.420625,
          0.437109375,
          0.449765625,
          0.457265625,
          0.46359375,
          0.47984375,
          0.4828125,
          0.4828125,
          0.495390625,
          0.50203125,
          0.503359375,
          0.504765625,
          0.507109375
         ],
         "yaxis": "y"
        },
        {
         "hovertemplate": "stage=val<br>epoch=%{x}<br>value=%{y}<extra></extra>",
         "legendgroup": "val",
         "line": {
          "color": "#EF553B",
          "dash": "solid"
         },
         "marker": {
          "symbol": "circle"
         },
         "mode": "lines",
         "name": "val",
         "orientation": "v",
         "showlegend": true,
         "type": "scatter",
         "x": [
          1,
          2,
          3,
          4,
          5,
          6,
          7,
          8,
          9,
          10,
          11,
          12,
          13,
          14,
          15,
          16,
          17,
          18
         ],
         "xaxis": "x",
         "y": [
          0.2721242877492877,
          0.33373397435897434,
          0.380119301994302,
          0.4126602564102564,
          0.42681623931623935,
          0.43883547008547014,
          0.46527777777777773,
          0.4707532051282051,
          0.4935452279202279,
          0.5092147435897436,
          0.49910968660968663,
          0.503917378917379,
          0.5152243589743589,
          0.5113514957264957,
          0.5131321225071225,
          0.530582264957265,
          0.5340544871794872,
          0.520343660968661
         ],
         "yaxis": "y"
        },
        {
         "hovertemplate": "stage=train<br>epoch=%{x}<br>value=%{y}<extra></extra>",
         "legendgroup": "train",
         "line": {
          "color": "#636efa",
          "dash": "solid"
         },
         "marker": {
          "symbol": "circle"
         },
         "mode": "lines",
         "name": "train",
         "orientation": "v",
         "showlegend": true,
         "type": "scatter",
         "x": [
          1,
          2,
          3,
          4,
          5,
          6,
          7,
          8,
          9,
          10,
          11,
          12,
          13,
          14,
          15,
          16,
          17,
          18
         ],
         "xaxis": "x2",
         "y": [
          0.064375,
          0.198828125,
          0.264140625,
          0.286484375,
          0.3059375,
          0.32484375,
          0.3346875,
          0.356328125,
          0.3578125,
          0.365078125,
          0.37359375,
          0.376328125,
          0.383515625,
          0.386953125,
          0.389921875,
          0.3928125,
          0.39671875,
          0.397109375
         ],
         "yaxis": "y2"
        },
        {
         "hovertemplate": "stage=val<br>epoch=%{x}<br>value=%{y}<extra></extra>",
         "legendgroup": "val",
         "line": {
          "color": "#EF553B",
          "dash": "solid"
         },
         "marker": {
          "symbol": "circle"
         },
         "mode": "lines",
         "name": "val",
         "orientation": "v",
         "showlegend": true,
         "type": "scatter",
         "x": [
          1,
          2,
          3,
          4,
          5,
          6,
          7,
          8,
          9,
          10,
          11,
          12,
          13,
          14,
          15,
          16,
          17,
          18
         ],
         "xaxis": "x2",
         "y": [
          0.2003650284900285,
          0.2620192307692308,
          0.29812143874643876,
          0.3145032051282051,
          0.31815349002849,
          0.3413906695156695,
          0.35300925925925924,
          0.3717948717948718,
          0.379852207977208,
          0.3918269230769231,
          0.3850605413105413,
          0.40469195156695154,
          0.41065705128205127,
          0.40010683760683763,
          0.411502849002849,
          0.4165331196581197,
          0.4286858974358974,
          0.41430733618233617
         ],
         "yaxis": "y2"
        },
        {
         "hovertemplate": "stage=train<br>epoch=%{x}<br>value=%{y}<extra></extra>",
         "legendgroup": "train",
         "line": {
          "color": "#636efa",
          "dash": "solid"
         },
         "marker": {
          "symbol": "circle"
         },
         "mode": "lines",
         "name": "train",
         "orientation": "v",
         "showlegend": true,
         "type": "scatter",
         "x": [
          1,
          2,
          3,
          4,
          5,
          6,
          7,
          8,
          9,
          10,
          11,
          12,
          13,
          14,
          15,
          16,
          17,
          18
         ],
         "xaxis": "x3",
         "y": [
          0.08609375,
          0.26,
          0.3359375,
          0.362578125,
          0.38828125,
          0.416171875,
          0.4296875,
          0.44359375,
          0.449453125,
          0.459921875,
          0.471171875,
          0.480703125,
          0.4721875,
          0.486484375,
          0.49078125,
          0.497265625,
          0.500078125,
          0.500625
         ],
         "yaxis": "y3"
        },
        {
         "hovertemplate": "stage=val<br>epoch=%{x}<br>value=%{y}<extra></extra>",
         "legendgroup": "val",
         "line": {
          "color": "#EF553B",
          "dash": "solid"
         },
         "marker": {
          "symbol": "circle"
         },
         "mode": "lines",
         "name": "val",
         "orientation": "v",
         "showlegend": true,
         "type": "scatter",
         "x": [
          1,
          2,
          3,
          4,
          5,
          6,
          7,
          8,
          9,
          10,
          11,
          12,
          13,
          14,
          15,
          16,
          17,
          18
         ],
         "xaxis": "x3",
         "y": [
          0.2641114672364672,
          0.3245192307692308,
          0.3749109686609687,
          0.4082532051282051,
          0.42641559829059833,
          0.4412393162393163,
          0.4600694444444444,
          0.4707532051282051,
          0.48090277777777785,
          0.5004006410256411,
          0.498931623931624,
          0.5009348290598291,
          0.5088141025641025,
          0.5033386752136751,
          0.5125534188034188,
          0.5247952279202279,
          0.5292467948717948,
          0.5193643162393162
         ],
         "yaxis": "y3"
        }
       ],
       "layout": {
        "annotations": [
         {
          "font": {
           "size": 16
          },
          "showarrow": false,
          "text": "accuracy_both",
          "x": 0.14444444444444446,
          "xanchor": "center",
          "xref": "paper",
          "y": 1,
          "yanchor": "bottom",
          "yref": "paper"
         },
         {
          "font": {
           "size": 16
          },
          "showarrow": false,
          "text": "accuracy_title_only",
          "x": 0.5,
          "xanchor": "center",
          "xref": "paper",
          "y": 1,
          "yanchor": "bottom",
          "yref": "paper"
         },
         {
          "font": {
           "size": 16
          },
          "showarrow": false,
          "text": "accuracy_summ_only",
          "x": 0.8555555555555556,
          "xanchor": "center",
          "xref": "paper",
          "y": 1,
          "yanchor": "bottom",
          "yref": "paper"
         }
        ],
        "height": 600,
        "showlegend": true,
        "template": {
         "data": {
          "bar": [
           {
            "error_x": {
             "color": "#2a3f5f"
            },
            "error_y": {
             "color": "#2a3f5f"
            },
            "marker": {
             "line": {
              "color": "#E5ECF6",
              "width": 0.5
             },
             "pattern": {
              "fillmode": "overlay",
              "size": 10,
              "solidity": 0.2
             }
            },
            "type": "bar"
           }
          ],
          "barpolar": [
           {
            "marker": {
             "line": {
              "color": "#E5ECF6",
              "width": 0.5
             },
             "pattern": {
              "fillmode": "overlay",
              "size": 10,
              "solidity": 0.2
             }
            },
            "type": "barpolar"
           }
          ],
          "carpet": [
           {
            "aaxis": {
             "endlinecolor": "#2a3f5f",
             "gridcolor": "white",
             "linecolor": "white",
             "minorgridcolor": "white",
             "startlinecolor": "#2a3f5f"
            },
            "baxis": {
             "endlinecolor": "#2a3f5f",
             "gridcolor": "white",
             "linecolor": "white",
             "minorgridcolor": "white",
             "startlinecolor": "#2a3f5f"
            },
            "type": "carpet"
           }
          ],
          "choropleth": [
           {
            "colorbar": {
             "outlinewidth": 0,
             "ticks": ""
            },
            "type": "choropleth"
           }
          ],
          "contour": [
           {
            "colorbar": {
             "outlinewidth": 0,
             "ticks": ""
            },
            "colorscale": [
             [
              0,
              "#0d0887"
             ],
             [
              0.1111111111111111,
              "#46039f"
             ],
             [
              0.2222222222222222,
              "#7201a8"
             ],
             [
              0.3333333333333333,
              "#9c179e"
             ],
             [
              0.4444444444444444,
              "#bd3786"
             ],
             [
              0.5555555555555556,
              "#d8576b"
             ],
             [
              0.6666666666666666,
              "#ed7953"
             ],
             [
              0.7777777777777778,
              "#fb9f3a"
             ],
             [
              0.8888888888888888,
              "#fdca26"
             ],
             [
              1,
              "#f0f921"
             ]
            ],
            "type": "contour"
           }
          ],
          "contourcarpet": [
           {
            "colorbar": {
             "outlinewidth": 0,
             "ticks": ""
            },
            "type": "contourcarpet"
           }
          ],
          "heatmap": [
           {
            "colorbar": {
             "outlinewidth": 0,
             "ticks": ""
            },
            "colorscale": [
             [
              0,
              "#0d0887"
             ],
             [
              0.1111111111111111,
              "#46039f"
             ],
             [
              0.2222222222222222,
              "#7201a8"
             ],
             [
              0.3333333333333333,
              "#9c179e"
             ],
             [
              0.4444444444444444,
              "#bd3786"
             ],
             [
              0.5555555555555556,
              "#d8576b"
             ],
             [
              0.6666666666666666,
              "#ed7953"
             ],
             [
              0.7777777777777778,
              "#fb9f3a"
             ],
             [
              0.8888888888888888,
              "#fdca26"
             ],
             [
              1,
              "#f0f921"
             ]
            ],
            "type": "heatmap"
           }
          ],
          "heatmapgl": [
           {
            "colorbar": {
             "outlinewidth": 0,
             "ticks": ""
            },
            "colorscale": [
             [
              0,
              "#0d0887"
             ],
             [
              0.1111111111111111,
              "#46039f"
             ],
             [
              0.2222222222222222,
              "#7201a8"
             ],
             [
              0.3333333333333333,
              "#9c179e"
             ],
             [
              0.4444444444444444,
              "#bd3786"
             ],
             [
              0.5555555555555556,
              "#d8576b"
             ],
             [
              0.6666666666666666,
              "#ed7953"
             ],
             [
              0.7777777777777778,
              "#fb9f3a"
             ],
             [
              0.8888888888888888,
              "#fdca26"
             ],
             [
              1,
              "#f0f921"
             ]
            ],
            "type": "heatmapgl"
           }
          ],
          "histogram": [
           {
            "marker": {
             "pattern": {
              "fillmode": "overlay",
              "size": 10,
              "solidity": 0.2
             }
            },
            "type": "histogram"
           }
          ],
          "histogram2d": [
           {
            "colorbar": {
             "outlinewidth": 0,
             "ticks": ""
            },
            "colorscale": [
             [
              0,
              "#0d0887"
             ],
             [
              0.1111111111111111,
              "#46039f"
             ],
             [
              0.2222222222222222,
              "#7201a8"
             ],
             [
              0.3333333333333333,
              "#9c179e"
             ],
             [
              0.4444444444444444,
              "#bd3786"
             ],
             [
              0.5555555555555556,
              "#d8576b"
             ],
             [
              0.6666666666666666,
              "#ed7953"
             ],
             [
              0.7777777777777778,
              "#fb9f3a"
             ],
             [
              0.8888888888888888,
              "#fdca26"
             ],
             [
              1,
              "#f0f921"
             ]
            ],
            "type": "histogram2d"
           }
          ],
          "histogram2dcontour": [
           {
            "colorbar": {
             "outlinewidth": 0,
             "ticks": ""
            },
            "colorscale": [
             [
              0,
              "#0d0887"
             ],
             [
              0.1111111111111111,
              "#46039f"
             ],
             [
              0.2222222222222222,
              "#7201a8"
             ],
             [
              0.3333333333333333,
              "#9c179e"
             ],
             [
              0.4444444444444444,
              "#bd3786"
             ],
             [
              0.5555555555555556,
              "#d8576b"
             ],
             [
              0.6666666666666666,
              "#ed7953"
             ],
             [
              0.7777777777777778,
              "#fb9f3a"
             ],
             [
              0.8888888888888888,
              "#fdca26"
             ],
             [
              1,
              "#f0f921"
             ]
            ],
            "type": "histogram2dcontour"
           }
          ],
          "mesh3d": [
           {
            "colorbar": {
             "outlinewidth": 0,
             "ticks": ""
            },
            "type": "mesh3d"
           }
          ],
          "parcoords": [
           {
            "line": {
             "colorbar": {
              "outlinewidth": 0,
              "ticks": ""
             }
            },
            "type": "parcoords"
           }
          ],
          "pie": [
           {
            "automargin": true,
            "type": "pie"
           }
          ],
          "scatter": [
           {
            "fillpattern": {
             "fillmode": "overlay",
             "size": 10,
             "solidity": 0.2
            },
            "type": "scatter"
           }
          ],
          "scatter3d": [
           {
            "line": {
             "colorbar": {
              "outlinewidth": 0,
              "ticks": ""
             }
            },
            "marker": {
             "colorbar": {
              "outlinewidth": 0,
              "ticks": ""
             }
            },
            "type": "scatter3d"
           }
          ],
          "scattercarpet": [
           {
            "marker": {
             "colorbar": {
              "outlinewidth": 0,
              "ticks": ""
             }
            },
            "type": "scattercarpet"
           }
          ],
          "scattergeo": [
           {
            "marker": {
             "colorbar": {
              "outlinewidth": 0,
              "ticks": ""
             }
            },
            "type": "scattergeo"
           }
          ],
          "scattergl": [
           {
            "marker": {
             "colorbar": {
              "outlinewidth": 0,
              "ticks": ""
             }
            },
            "type": "scattergl"
           }
          ],
          "scattermapbox": [
           {
            "marker": {
             "colorbar": {
              "outlinewidth": 0,
              "ticks": ""
             }
            },
            "type": "scattermapbox"
           }
          ],
          "scatterpolar": [
           {
            "marker": {
             "colorbar": {
              "outlinewidth": 0,
              "ticks": ""
             }
            },
            "type": "scatterpolar"
           }
          ],
          "scatterpolargl": [
           {
            "marker": {
             "colorbar": {
              "outlinewidth": 0,
              "ticks": ""
             }
            },
            "type": "scatterpolargl"
           }
          ],
          "scatterternary": [
           {
            "marker": {
             "colorbar": {
              "outlinewidth": 0,
              "ticks": ""
             }
            },
            "type": "scatterternary"
           }
          ],
          "surface": [
           {
            "colorbar": {
             "outlinewidth": 0,
             "ticks": ""
            },
            "colorscale": [
             [
              0,
              "#0d0887"
             ],
             [
              0.1111111111111111,
              "#46039f"
             ],
             [
              0.2222222222222222,
              "#7201a8"
             ],
             [
              0.3333333333333333,
              "#9c179e"
             ],
             [
              0.4444444444444444,
              "#bd3786"
             ],
             [
              0.5555555555555556,
              "#d8576b"
             ],
             [
              0.6666666666666666,
              "#ed7953"
             ],
             [
              0.7777777777777778,
              "#fb9f3a"
             ],
             [
              0.8888888888888888,
              "#fdca26"
             ],
             [
              1,
              "#f0f921"
             ]
            ],
            "type": "surface"
           }
          ],
          "table": [
           {
            "cells": {
             "fill": {
              "color": "#EBF0F8"
             },
             "line": {
              "color": "white"
             }
            },
            "header": {
             "fill": {
              "color": "#C8D4E3"
             },
             "line": {
              "color": "white"
             }
            },
            "type": "table"
           }
          ]
         },
         "layout": {
          "annotationdefaults": {
           "arrowcolor": "#2a3f5f",
           "arrowhead": 0,
           "arrowwidth": 1
          },
          "autotypenumbers": "strict",
          "coloraxis": {
           "colorbar": {
            "outlinewidth": 0,
            "ticks": ""
           }
          },
          "colorscale": {
           "diverging": [
            [
             0,
             "#8e0152"
            ],
            [
             0.1,
             "#c51b7d"
            ],
            [
             0.2,
             "#de77ae"
            ],
            [
             0.3,
             "#f1b6da"
            ],
            [
             0.4,
             "#fde0ef"
            ],
            [
             0.5,
             "#f7f7f7"
            ],
            [
             0.6,
             "#e6f5d0"
            ],
            [
             0.7,
             "#b8e186"
            ],
            [
             0.8,
             "#7fbc41"
            ],
            [
             0.9,
             "#4d9221"
            ],
            [
             1,
             "#276419"
            ]
           ],
           "sequential": [
            [
             0,
             "#0d0887"
            ],
            [
             0.1111111111111111,
             "#46039f"
            ],
            [
             0.2222222222222222,
             "#7201a8"
            ],
            [
             0.3333333333333333,
             "#9c179e"
            ],
            [
             0.4444444444444444,
             "#bd3786"
            ],
            [
             0.5555555555555556,
             "#d8576b"
            ],
            [
             0.6666666666666666,
             "#ed7953"
            ],
            [
             0.7777777777777778,
             "#fb9f3a"
            ],
            [
             0.8888888888888888,
             "#fdca26"
            ],
            [
             1,
             "#f0f921"
            ]
           ],
           "sequentialminus": [
            [
             0,
             "#0d0887"
            ],
            [
             0.1111111111111111,
             "#46039f"
            ],
            [
             0.2222222222222222,
             "#7201a8"
            ],
            [
             0.3333333333333333,
             "#9c179e"
            ],
            [
             0.4444444444444444,
             "#bd3786"
            ],
            [
             0.5555555555555556,
             "#d8576b"
            ],
            [
             0.6666666666666666,
             "#ed7953"
            ],
            [
             0.7777777777777778,
             "#fb9f3a"
            ],
            [
             0.8888888888888888,
             "#fdca26"
            ],
            [
             1,
             "#f0f921"
            ]
           ]
          },
          "colorway": [
           "#636efa",
           "#EF553B",
           "#00cc96",
           "#ab63fa",
           "#FFA15A",
           "#19d3f3",
           "#FF6692",
           "#B6E880",
           "#FF97FF",
           "#FECB52"
          ],
          "font": {
           "color": "#2a3f5f"
          },
          "geo": {
           "bgcolor": "white",
           "lakecolor": "white",
           "landcolor": "#E5ECF6",
           "showlakes": true,
           "showland": true,
           "subunitcolor": "white"
          },
          "hoverlabel": {
           "align": "left"
          },
          "hovermode": "closest",
          "mapbox": {
           "style": "light"
          },
          "paper_bgcolor": "white",
          "plot_bgcolor": "#E5ECF6",
          "polar": {
           "angularaxis": {
            "gridcolor": "white",
            "linecolor": "white",
            "ticks": ""
           },
           "bgcolor": "#E5ECF6",
           "radialaxis": {
            "gridcolor": "white",
            "linecolor": "white",
            "ticks": ""
           }
          },
          "scene": {
           "xaxis": {
            "backgroundcolor": "#E5ECF6",
            "gridcolor": "white",
            "gridwidth": 2,
            "linecolor": "white",
            "showbackground": true,
            "ticks": "",
            "zerolinecolor": "white"
           },
           "yaxis": {
            "backgroundcolor": "#E5ECF6",
            "gridcolor": "white",
            "gridwidth": 2,
            "linecolor": "white",
            "showbackground": true,
            "ticks": "",
            "zerolinecolor": "white"
           },
           "zaxis": {
            "backgroundcolor": "#E5ECF6",
            "gridcolor": "white",
            "gridwidth": 2,
            "linecolor": "white",
            "showbackground": true,
            "ticks": "",
            "zerolinecolor": "white"
           }
          },
          "shapedefaults": {
           "line": {
            "color": "#2a3f5f"
           }
          },
          "ternary": {
           "aaxis": {
            "gridcolor": "white",
            "linecolor": "white",
            "ticks": ""
           },
           "baxis": {
            "gridcolor": "white",
            "linecolor": "white",
            "ticks": ""
           },
           "bgcolor": "#E5ECF6",
           "caxis": {
            "gridcolor": "white",
            "linecolor": "white",
            "ticks": ""
           }
          },
          "title": {
           "x": 0.05
          },
          "xaxis": {
           "automargin": true,
           "gridcolor": "white",
           "linecolor": "white",
           "ticks": "",
           "title": {
            "standoff": 15
           },
           "zerolinecolor": "white",
           "zerolinewidth": 2
          },
          "yaxis": {
           "automargin": true,
           "gridcolor": "white",
           "linecolor": "white",
           "ticks": "",
           "title": {
            "standoff": 15
           },
           "zerolinecolor": "white",
           "zerolinewidth": 2
          }
         }
        },
        "width": 1000,
        "xaxis": {
         "anchor": "y",
         "autorange": true,
         "domain": [
          0,
          0.2888888888888889
         ],
         "range": [
          1,
          18
         ],
         "type": "linear"
        },
        "xaxis2": {
         "anchor": "y2",
         "autorange": true,
         "domain": [
          0.35555555555555557,
          0.6444444444444445
         ],
         "range": [
          1,
          18
         ],
         "type": "linear"
        },
        "xaxis3": {
         "anchor": "y3",
         "autorange": true,
         "domain": [
          0.7111111111111111,
          1
         ],
         "range": [
          1,
          18
         ],
         "type": "linear"
        },
        "yaxis": {
         "anchor": "x",
         "autorange": true,
         "domain": [
          0,
          1
         ],
         "range": [
          0.057496104878917376,
          0.5591365073005699
         ],
         "type": "linear"
        },
        "yaxis2": {
         "anchor": "x2",
         "autorange": true,
         "domain": [
          0,
          1
         ],
         "range": [
          0.0441355056980057,
          0.4489253917378917
         ],
         "type": "linear"
        },
        "yaxis3": {
         "anchor": "x3",
         "autorange": true,
         "domain": [
          0,
          1
         ],
         "range": [
          0.06147413639601139,
          0.5538664084757834
         ],
         "type": "linear"
        }
       }
      },
      "image/png": "[encoded data removed]",
      "text/html": [
       "<div>                            <div id=\"b0475d4c-59cb-4f85-ba1a-ca501a2d45fa\" class=\"plotly-graph-div\" style=\"height:600px; width:1000px;\"></div>            <script type=\"text/javascript\">                require([\"plotly\"], function(Plotly) {                    window.PLOTLYENV=window.PLOTLYENV || {};                                    if (document.getElementById(\"b0475d4c-59cb-4f85-ba1a-ca501a2d45fa\")) {                    Plotly.newPlot(                        \"b0475d4c-59cb-4f85-ba1a-ca501a2d45fa\",                        [{\"hovertemplate\":\"stage=train<br>epoch=%{x}<br>value=%{y}<extra></extra>\",\"legendgroup\":\"train\",\"line\":{\"color\":\"#636efa\",\"dash\":\"solid\"},\"marker\":{\"symbol\":\"circle\"},\"mode\":\"lines\",\"name\":\"train\",\"orientation\":\"v\",\"showlegend\":true,\"x\":[1,2,3,4,5,6,7,8,9,10,11,12,13,14,15,16,17,18],\"xaxis\":\"x\",\"y\":[0.082578125,0.264296875,0.338046875,0.370234375,0.39625,0.420625,0.437109375,0.449765625,0.457265625,0.46359375,0.47984375,0.4828125,0.4828125,0.495390625,0.50203125,0.503359375,0.504765625,0.507109375],\"yaxis\":\"y\",\"type\":\"scatter\"},{\"hovertemplate\":\"stage=val<br>epoch=%{x}<br>value=%{y}<extra></extra>\",\"legendgroup\":\"val\",\"line\":{\"color\":\"#EF553B\",\"dash\":\"solid\"},\"marker\":{\"symbol\":\"circle\"},\"mode\":\"lines\",\"name\":\"val\",\"orientation\":\"v\",\"showlegend\":true,\"x\":[1,2,3,4,5,6,7,8,9,10,11,12,13,14,15,16,17,18],\"xaxis\":\"x\",\"y\":[0.2721242877492877,0.33373397435897434,0.380119301994302,0.4126602564102564,0.42681623931623935,0.43883547008547014,0.46527777777777773,0.4707532051282051,0.4935452279202279,0.5092147435897436,0.49910968660968663,0.503917378917379,0.5152243589743589,0.5113514957264957,0.5131321225071225,0.530582264957265,0.5340544871794872,0.520343660968661],\"yaxis\":\"y\",\"type\":\"scatter\"},{\"hovertemplate\":\"stage=train<br>epoch=%{x}<br>value=%{y}<extra></extra>\",\"legendgroup\":\"train\",\"line\":{\"color\":\"#636efa\",\"dash\":\"solid\"},\"marker\":{\"symbol\":\"circle\"},\"mode\":\"lines\",\"name\":\"train\",\"orientation\":\"v\",\"showlegend\":true,\"x\":[1,2,3,4,5,6,7,8,9,10,11,12,13,14,15,16,17,18],\"xaxis\":\"x2\",\"y\":[0.064375,0.198828125,0.264140625,0.286484375,0.3059375,0.32484375,0.3346875,0.356328125,0.3578125,0.365078125,0.37359375,0.376328125,0.383515625,0.386953125,0.389921875,0.3928125,0.39671875,0.397109375],\"yaxis\":\"y2\",\"type\":\"scatter\"},{\"hovertemplate\":\"stage=val<br>epoch=%{x}<br>value=%{y}<extra></extra>\",\"legendgroup\":\"val\",\"line\":{\"color\":\"#EF553B\",\"dash\":\"solid\"},\"marker\":{\"symbol\":\"circle\"},\"mode\":\"lines\",\"name\":\"val\",\"orientation\":\"v\",\"showlegend\":true,\"x\":[1,2,3,4,5,6,7,8,9,10,11,12,13,14,15,16,17,18],\"xaxis\":\"x2\",\"y\":[0.2003650284900285,0.2620192307692308,0.29812143874643876,0.3145032051282051,0.31815349002849,0.3413906695156695,0.35300925925925924,0.3717948717948718,0.379852207977208,0.3918269230769231,0.3850605413105413,0.40469195156695154,0.41065705128205127,0.40010683760683763,0.411502849002849,0.4165331196581197,0.4286858974358974,0.41430733618233617],\"yaxis\":\"y2\",\"type\":\"scatter\"},{\"hovertemplate\":\"stage=train<br>epoch=%{x}<br>value=%{y}<extra></extra>\",\"legendgroup\":\"train\",\"line\":{\"color\":\"#636efa\",\"dash\":\"solid\"},\"marker\":{\"symbol\":\"circle\"},\"mode\":\"lines\",\"name\":\"train\",\"orientation\":\"v\",\"showlegend\":true,\"x\":[1,2,3,4,5,6,7,8,9,10,11,12,13,14,15,16,17,18],\"xaxis\":\"x3\",\"y\":[0.08609375,0.26,0.3359375,0.362578125,0.38828125,0.416171875,0.4296875,0.44359375,0.449453125,0.459921875,0.471171875,0.480703125,0.4721875,0.486484375,0.49078125,0.497265625,0.500078125,0.500625],\"yaxis\":\"y3\",\"type\":\"scatter\"},{\"hovertemplate\":\"stage=val<br>epoch=%{x}<br>value=%{y}<extra></extra>\",\"legendgroup\":\"val\",\"line\":{\"color\":\"#EF553B\",\"dash\":\"solid\"},\"marker\":{\"symbol\":\"circle\"},\"mode\":\"lines\",\"name\":\"val\",\"orientation\":\"v\",\"showlegend\":true,\"x\":[1,2,3,4,5,6,7,8,9,10,11,12,13,14,15,16,17,18],\"xaxis\":\"x3\",\"y\":[0.2641114672364672,0.3245192307692308,0.3749109686609687,0.4082532051282051,0.42641559829059833,0.4412393162393163,0.4600694444444444,0.4707532051282051,0.48090277777777785,0.5004006410256411,0.498931623931624,0.5009348290598291,0.5088141025641025,0.5033386752136751,0.5125534188034188,0.5247952279202279,0.5292467948717948,0.5193643162393162],\"yaxis\":\"y3\",\"type\":\"scatter\"}],                        {\"template\":{\"data\":{\"histogram2dcontour\":[{\"type\":\"histogram2dcontour\",\"colorbar\":{\"outlinewidth\":0,\"ticks\":\"\"},\"colorscale\":[[0.0,\"#0d0887\"],[0.1111111111111111,\"#46039f\"],[0.2222222222222222,\"#7201a8\"],[0.3333333333333333,\"#9c179e\"],[0.4444444444444444,\"#bd3786\"],[0.5555555555555556,\"#d8576b\"],[0.6666666666666666,\"#ed7953\"],[0.7777777777777778,\"#fb9f3a\"],[0.8888888888888888,\"#fdca26\"],[1.0,\"#f0f921\"]]}],\"choropleth\":[{\"type\":\"choropleth\",\"colorbar\":{\"outlinewidth\":0,\"ticks\":\"\"}}],\"histogram2d\":[{\"type\":\"histogram2d\",\"colorbar\":{\"outlinewidth\":0,\"ticks\":\"\"},\"colorscale\":[[0.0,\"#0d0887\"],[0.1111111111111111,\"#46039f\"],[0.2222222222222222,\"#7201a8\"],[0.3333333333333333,\"#9c179e\"],[0.4444444444444444,\"#bd3786\"],[0.5555555555555556,\"#d8576b\"],[0.6666666666666666,\"#ed7953\"],[0.7777777777777778,\"#fb9f3a\"],[0.8888888888888888,\"#fdca26\"],[1.0,\"#f0f921\"]]}],\"heatmap\":[{\"type\":\"heatmap\",\"colorbar\":{\"outlinewidth\":0,\"ticks\":\"\"},\"colorscale\":[[0.0,\"#0d0887\"],[0.1111111111111111,\"#46039f\"],[0.2222222222222222,\"#7201a8\"],[0.3333333333333333,\"#9c179e\"],[0.4444444444444444,\"#bd3786\"],[0.5555555555555556,\"#d8576b\"],[0.6666666666666666,\"#ed7953\"],[0.7777777777777778,\"#fb9f3a\"],[0.8888888888888888,\"#fdca26\"],[1.0,\"#f0f921\"]]}],\"heatmapgl\":[{\"type\":\"heatmapgl\",\"colorbar\":{\"outlinewidth\":0,\"ticks\":\"\"},\"colorscale\":[[0.0,\"#0d0887\"],[0.1111111111111111,\"#46039f\"],[0.2222222222222222,\"#7201a8\"],[0.3333333333333333,\"#9c179e\"],[0.4444444444444444,\"#bd3786\"],[0.5555555555555556,\"#d8576b\"],[0.6666666666666666,\"#ed7953\"],[0.7777777777777778,\"#fb9f3a\"],[0.8888888888888888,\"#fdca26\"],[1.0,\"#f0f921\"]]}],\"contourcarpet\":[{\"type\":\"contourcarpet\",\"colorbar\":{\"outlinewidth\":0,\"ticks\":\"\"}}],\"contour\":[{\"type\":\"contour\",\"colorbar\":{\"outlinewidth\":0,\"ticks\":\"\"},\"colorscale\":[[0.0,\"#0d0887\"],[0.1111111111111111,\"#46039f\"],[0.2222222222222222,\"#7201a8\"],[0.3333333333333333,\"#9c179e\"],[0.4444444444444444,\"#bd3786\"],[0.5555555555555556,\"#d8576b\"],[0.6666666666666666,\"#ed7953\"],[0.7777777777777778,\"#fb9f3a\"],[0.8888888888888888,\"#fdca26\"],[1.0,\"#f0f921\"]]}],\"surface\":[{\"type\":\"surface\",\"colorbar\":{\"outlinewidth\":0,\"ticks\":\"\"},\"colorscale\":[[0.0,\"#0d0887\"],[0.1111111111111111,\"#46039f\"],[0.2222222222222222,\"#7201a8\"],[0.3333333333333333,\"#9c179e\"],[0.4444444444444444,\"#bd3786\"],[0.5555555555555556,\"#d8576b\"],[0.6666666666666666,\"#ed7953\"],[0.7777777777777778,\"#fb9f3a\"],[0.8888888888888888,\"#fdca26\"],[1.0,\"#f0f921\"]]}],\"mesh3d\":[{\"type\":\"mesh3d\",\"colorbar\":{\"outlinewidth\":0,\"ticks\":\"\"}}],\"scatter\":[{\"fillpattern\":{\"fillmode\":\"overlay\",\"size\":10,\"solidity\":0.2},\"type\":\"scatter\"}],\"parcoords\":[{\"type\":\"parcoords\",\"line\":{\"colorbar\":{\"outlinewidth\":0,\"ticks\":\"\"}}}],\"scatterpolargl\":[{\"type\":\"scatterpolargl\",\"marker\":{\"colorbar\":{\"outlinewidth\":0,\"ticks\":\"\"}}}],\"bar\":[{\"error_x\":{\"color\":\"#2a3f5f\"},\"error_y\":{\"color\":\"#2a3f5f\"},\"marker\":{\"line\":{\"color\":\"#E5ECF6\",\"width\":0.5},\"pattern\":{\"fillmode\":\"overlay\",\"size\":10,\"solidity\":0.2}},\"type\":\"bar\"}],\"scattergeo\":[{\"type\":\"scattergeo\",\"marker\":{\"colorbar\":{\"outlinewidth\":0,\"ticks\":\"\"}}}],\"scatterpolar\":[{\"type\":\"scatterpolar\",\"marker\":{\"colorbar\":{\"outlinewidth\":0,\"ticks\":\"\"}}}],\"histogram\":[{\"marker\":{\"pattern\":{\"fillmode\":\"overlay\",\"size\":10,\"solidity\":0.2}},\"type\":\"histogram\"}],\"scattergl\":[{\"type\":\"scattergl\",\"marker\":{\"colorbar\":{\"outlinewidth\":0,\"ticks\":\"\"}}}],\"scatter3d\":[{\"type\":\"scatter3d\",\"line\":{\"colorbar\":{\"outlinewidth\":0,\"ticks\":\"\"}},\"marker\":{\"colorbar\":{\"outlinewidth\":0,\"ticks\":\"\"}}}],\"scattermapbox\":[{\"type\":\"scattermapbox\",\"marker\":{\"colorbar\":{\"outlinewidth\":0,\"ticks\":\"\"}}}],\"scatterternary\":[{\"type\":\"scatterternary\",\"marker\":{\"colorbar\":{\"outlinewidth\":0,\"ticks\":\"\"}}}],\"scattercarpet\":[{\"type\":\"scattercarpet\",\"marker\":{\"colorbar\":{\"outlinewidth\":0,\"ticks\":\"\"}}}],\"carpet\":[{\"aaxis\":{\"endlinecolor\":\"#2a3f5f\",\"gridcolor\":\"white\",\"linecolor\":\"white\",\"minorgridcolor\":\"white\",\"startlinecolor\":\"#2a3f5f\"},\"baxis\":{\"endlinecolor\":\"#2a3f5f\",\"gridcolor\":\"white\",\"linecolor\":\"white\",\"minorgridcolor\":\"white\",\"startlinecolor\":\"#2a3f5f\"},\"type\":\"carpet\"}],\"table\":[{\"cells\":{\"fill\":{\"color\":\"#EBF0F8\"},\"line\":{\"color\":\"white\"}},\"header\":{\"fill\":{\"color\":\"#C8D4E3\"},\"line\":{\"color\":\"white\"}},\"type\":\"table\"}],\"barpolar\":[{\"marker\":{\"line\":{\"color\":\"#E5ECF6\",\"width\":0.5},\"pattern\":{\"fillmode\":\"overlay\",\"size\":10,\"solidity\":0.2}},\"type\":\"barpolar\"}],\"pie\":[{\"automargin\":true,\"type\":\"pie\"}]},\"layout\":{\"autotypenumbers\":\"strict\",\"colorway\":[\"#636efa\",\"#EF553B\",\"#00cc96\",\"#ab63fa\",\"#FFA15A\",\"#19d3f3\",\"#FF6692\",\"#B6E880\",\"#FF97FF\",\"#FECB52\"],\"font\":{\"color\":\"#2a3f5f\"},\"hovermode\":\"closest\",\"hoverlabel\":{\"align\":\"left\"},\"paper_bgcolor\":\"white\",\"plot_bgcolor\":\"#E5ECF6\",\"polar\":{\"bgcolor\":\"#E5ECF6\",\"angularaxis\":{\"gridcolor\":\"white\",\"linecolor\":\"white\",\"ticks\":\"\"},\"radialaxis\":{\"gridcolor\":\"white\",\"linecolor\":\"white\",\"ticks\":\"\"}},\"ternary\":{\"bgcolor\":\"#E5ECF6\",\"aaxis\":{\"gridcolor\":\"white\",\"linecolor\":\"white\",\"ticks\":\"\"},\"baxis\":{\"gridcolor\":\"white\",\"linecolor\":\"white\",\"ticks\":\"\"},\"caxis\":{\"gridcolor\":\"white\",\"linecolor\":\"white\",\"ticks\":\"\"}},\"coloraxis\":{\"colorbar\":{\"outlinewidth\":0,\"ticks\":\"\"}},\"colorscale\":{\"sequential\":[[0.0,\"#0d0887\"],[0.1111111111111111,\"#46039f\"],[0.2222222222222222,\"#7201a8\"],[0.3333333333333333,\"#9c179e\"],[0.4444444444444444,\"#bd3786\"],[0.5555555555555556,\"#d8576b\"],[0.6666666666666666,\"#ed7953\"],[0.7777777777777778,\"#fb9f3a\"],[0.8888888888888888,\"#fdca26\"],[1.0,\"#f0f921\"]],\"sequentialminus\":[[0.0,\"#0d0887\"],[0.1111111111111111,\"#46039f\"],[0.2222222222222222,\"#7201a8\"],[0.3333333333333333,\"#9c179e\"],[0.4444444444444444,\"#bd3786\"],[0.5555555555555556,\"#d8576b\"],[0.6666666666666666,\"#ed7953\"],[0.7777777777777778,\"#fb9f3a\"],[0.8888888888888888,\"#fdca26\"],[1.0,\"#f0f921\"]],\"diverging\":[[0,\"#8e0152\"],[0.1,\"#c51b7d\"],[0.2,\"#de77ae\"],[0.3,\"#f1b6da\"],[0.4,\"#fde0ef\"],[0.5,\"#f7f7f7\"],[0.6,\"#e6f5d0\"],[0.7,\"#b8e186\"],[0.8,\"#7fbc41\"],[0.9,\"#4d9221\"],[1,\"#276419\"]]},\"xaxis\":{\"gridcolor\":\"white\",\"linecolor\":\"white\",\"ticks\":\"\",\"title\":{\"standoff\":15},\"zerolinecolor\":\"white\",\"automargin\":true,\"zerolinewidth\":2},\"yaxis\":{\"gridcolor\":\"white\",\"linecolor\":\"white\",\"ticks\":\"\",\"title\":{\"standoff\":15},\"zerolinecolor\":\"white\",\"automargin\":true,\"zerolinewidth\":2},\"scene\":{\"xaxis\":{\"backgroundcolor\":\"#E5ECF6\",\"gridcolor\":\"white\",\"linecolor\":\"white\",\"showbackground\":true,\"ticks\":\"\",\"zerolinecolor\":\"white\",\"gridwidth\":2},\"yaxis\":{\"backgroundcolor\":\"#E5ECF6\",\"gridcolor\":\"white\",\"linecolor\":\"white\",\"showbackground\":true,\"ticks\":\"\",\"zerolinecolor\":\"white\",\"gridwidth\":2},\"zaxis\":{\"backgroundcolor\":\"#E5ECF6\",\"gridcolor\":\"white\",\"linecolor\":\"white\",\"showbackground\":true,\"ticks\":\"\",\"zerolinecolor\":\"white\",\"gridwidth\":2}},\"shapedefaults\":{\"line\":{\"color\":\"#2a3f5f\"}},\"annotationdefaults\":{\"arrowcolor\":\"#2a3f5f\",\"arrowhead\":0,\"arrowwidth\":1},\"geo\":{\"bgcolor\":\"white\",\"landcolor\":\"#E5ECF6\",\"subunitcolor\":\"white\",\"showland\":true,\"showlakes\":true,\"lakecolor\":\"white\"},\"title\":{\"x\":0.05},\"mapbox\":{\"style\":\"light\"}}},\"xaxis\":{\"anchor\":\"y\",\"domain\":[0.0,0.2888888888888889]},\"yaxis\":{\"anchor\":\"x\",\"domain\":[0.0,1.0]},\"xaxis2\":{\"anchor\":\"y2\",\"domain\":[0.35555555555555557,0.6444444444444445]},\"yaxis2\":{\"anchor\":\"x2\",\"domain\":[0.0,1.0]},\"xaxis3\":{\"anchor\":\"y3\",\"domain\":[0.7111111111111111,1.0]},\"yaxis3\":{\"anchor\":\"x3\",\"domain\":[0.0,1.0]},\"annotations\":[{\"font\":{\"size\":16},\"showarrow\":false,\"text\":\"accuracy_both\",\"x\":0.14444444444444446,\"xanchor\":\"center\",\"xref\":\"paper\",\"y\":1.0,\"yanchor\":\"bottom\",\"yref\":\"paper\"},{\"font\":{\"size\":16},\"showarrow\":false,\"text\":\"accuracy_title_only\",\"x\":0.5,\"xanchor\":\"center\",\"xref\":\"paper\",\"y\":1.0,\"yanchor\":\"bottom\",\"yref\":\"paper\"},{\"font\":{\"size\":16},\"showarrow\":false,\"text\":\"accuracy_summ_only\",\"x\":0.8555555555555556,\"xanchor\":\"center\",\"xref\":\"paper\",\"y\":1.0,\"yanchor\":\"bottom\",\"yref\":\"paper\"}],\"height\":600,\"width\":1000,\"showlegend\":true},                        {\"responsive\": true}                    ).then(function(){\n",
       "                            \n",
       "var gd = document.getElementById('b0475d4c-59cb-4f85-ba1a-ca501a2d45fa');\n",
       "var x = new MutationObserver(function (mutations, observer) {{\n",
       "        var display = window.getComputedStyle(gd).display;\n",
       "        if (!display || display === 'none') {{\n",
       "            console.log([gd, 'removed!']);\n",
       "            Plotly.purge(gd);\n",
       "            observer.disconnect();\n",
       "        }}\n",
       "}});\n",
       "\n",
       "// Listen for the removal of the full notebook cells\n",
       "var notebookContainer = gd.closest('#notebook-container');\n",
       "if (notebookContainer) {{\n",
       "    x.observe(notebookContainer, {childList: true});\n",
       "}}\n",
       "\n",
       "// Listen for the clearing of the current output cell\n",
       "var outputEl = gd.closest('.output');\n",
       "if (outputEl) {{\n",
       "    x.observe(outputEl, {childList: true});\n",
       "}}\n",
       "\n",
       "                        })                };                });            </script>        </div>"
      ]
     },
     "metadata": {},
     "output_type": "display_data"
    },
    {
     "data": {
      "application/vnd.jupyter.widget-view+json": {
       "model_id": "011dbed99ac14b88aa6c2fb6d63e89ae",
       "version_major": 2,
       "version_minor": 0
      },
      "text/plain": [
       "  0%|          | 0/400 [00:00<?, ?it/s]"
      ]
     },
     "metadata": {},
     "output_type": "display_data"
    },
    {
     "ename": "KeyboardInterrupt",
     "evalue": "",
     "output_type": "error",
     "traceback": [
      "\u001b[0;31m---------------------------------------------------------------------------\u001b[0m",
      "\u001b[0;31mKeyboardInterrupt\u001b[0m                         Traceback (most recent call last)",
      "\u001b[0;32m/tmp/ipykernel_169521/2381431861.py\u001b[0m in \u001b[0;36m<cell line: 1>\u001b[0;34m()\u001b[0m\n\u001b[1;32m      3\u001b[0m     \u001b[0mplot\u001b[0m\u001b[0;34m(\u001b[0m\u001b[0macc_history\u001b[0m\u001b[0;34m,\u001b[0m \u001b[0;34m[\u001b[0m\u001b[0;34m\"accuracy_both\"\u001b[0m\u001b[0;34m,\u001b[0m \u001b[0;34m\"accuracy_title_only\"\u001b[0m\u001b[0;34m,\u001b[0m \u001b[0;34m\"accuracy_summ_only\"\u001b[0m\u001b[0;34m]\u001b[0m\u001b[0;34m,\u001b[0m \u001b[0;34mf\"plots/model_07.2.png\"\u001b[0m\u001b[0;34m)\u001b[0m\u001b[0;34m\u001b[0m\u001b[0;34m\u001b[0m\u001b[0m\n\u001b[1;32m      4\u001b[0m \u001b[0;34m\u001b[0m\u001b[0m\n\u001b[0;32m----> 5\u001b[0;31m     \u001b[0macc_history\u001b[0m\u001b[0;34m[\u001b[0m\u001b[0;34m'train'\u001b[0m\u001b[0;34m]\u001b[0m\u001b[0;34m.\u001b[0m\u001b[0mappend\u001b[0m\u001b[0;34m(\u001b[0m\u001b[0mtrain\u001b[0m\u001b[0;34m(\u001b[0m\u001b[0mmodel\u001b[0m\u001b[0;34m,\u001b[0m \u001b[0mtrain_set\u001b[0m\u001b[0;34m,\u001b[0m \u001b[0;34m**\u001b[0m\u001b[0mparams\u001b[0m\u001b[0;34m)\u001b[0m\u001b[0;34m)\u001b[0m\u001b[0;34m\u001b[0m\u001b[0;34m\u001b[0m\u001b[0m\n\u001b[0m\u001b[1;32m      6\u001b[0m     \u001b[0macc_history\u001b[0m\u001b[0;34m[\u001b[0m\u001b[0;34m'val'\u001b[0m\u001b[0;34m]\u001b[0m\u001b[0;34m.\u001b[0m\u001b[0mappend\u001b[0m\u001b[0;34m(\u001b[0m\u001b[0mvalidate\u001b[0m\u001b[0;34m(\u001b[0m\u001b[0mmodel\u001b[0m\u001b[0;34m,\u001b[0m \u001b[0mval_set\u001b[0m\u001b[0;34m,\u001b[0m \u001b[0;34m**\u001b[0m\u001b[0mparams\u001b[0m\u001b[0;34m)\u001b[0m\u001b[0;34m)\u001b[0m\u001b[0;34m\u001b[0m\u001b[0;34m\u001b[0m\u001b[0m\n\u001b[1;32m      7\u001b[0m     \u001b[0;32mif\u001b[0m \u001b[0macc_history\u001b[0m\u001b[0;34m[\u001b[0m\u001b[0;34m'val'\u001b[0m\u001b[0;34m]\u001b[0m\u001b[0;34m[\u001b[0m\u001b[0;34m-\u001b[0m\u001b[0;36m1\u001b[0m\u001b[0;34m]\u001b[0m\u001b[0;34m[\u001b[0m\u001b[0;34m'accuracy_total'\u001b[0m\u001b[0;34m]\u001b[0m \u001b[0;34m>\u001b[0m \u001b[0mmax_acc\u001b[0m\u001b[0;34m:\u001b[0m\u001b[0;34m\u001b[0m\u001b[0;34m\u001b[0m\u001b[0m\n",
      "\u001b[0;32m/tmp/ipykernel_169521/60482317.py\u001b[0m in \u001b[0;36mtrain\u001b[0;34m(model, dataloader, optimizer, scaler, loss_fn, scheduler, exp_mean_alpha, proba)\u001b[0m\n\u001b[1;32m     81\u001b[0m \u001b[0;34m\u001b[0m\u001b[0m\n\u001b[1;32m     82\u001b[0m             \u001b[0mloss\u001b[0m \u001b[0;34m=\u001b[0m \u001b[0mloss_fn\u001b[0m\u001b[0;34m(\u001b[0m\u001b[0mlogits\u001b[0m\u001b[0;34m,\u001b[0m \u001b[0my_true\u001b[0m\u001b[0;34m)\u001b[0m\u001b[0;34m\u001b[0m\u001b[0;34m\u001b[0m\u001b[0m\n\u001b[0;32m---> 83\u001b[0;31m             \u001b[0mscaler\u001b[0m\u001b[0;34m.\u001b[0m\u001b[0mscale\u001b[0m\u001b[0;34m(\u001b[0m\u001b[0mloss\u001b[0m\u001b[0;34m)\u001b[0m\u001b[0;34m.\u001b[0m\u001b[0mbackward\u001b[0m\u001b[0;34m(\u001b[0m\u001b[0;34m)\u001b[0m\u001b[0;34m\u001b[0m\u001b[0;34m\u001b[0m\u001b[0m\n\u001b[0m\u001b[1;32m     84\u001b[0m             \u001b[0mscaler\u001b[0m\u001b[0;34m.\u001b[0m\u001b[0mstep\u001b[0m\u001b[0;34m(\u001b[0m\u001b[0moptimizer\u001b[0m\u001b[0;34m)\u001b[0m\u001b[0;34m\u001b[0m\u001b[0;34m\u001b[0m\u001b[0m\n\u001b[1;32m     85\u001b[0m             \u001b[0mscaler\u001b[0m\u001b[0;34m.\u001b[0m\u001b[0mupdate\u001b[0m\u001b[0;34m(\u001b[0m\u001b[0;34m)\u001b[0m\u001b[0;34m\u001b[0m\u001b[0;34m\u001b[0m\u001b[0m\n",
      "\u001b[0;32m~/anaconda3/envs/ML2/lib/python3.10/site-packages/torch/_tensor.py\u001b[0m in \u001b[0;36mbackward\u001b[0;34m(self, gradient, retain_graph, create_graph, inputs)\u001b[0m\n\u001b[1;32m    486\u001b[0m                 \u001b[0minputs\u001b[0m\u001b[0;34m=\u001b[0m\u001b[0minputs\u001b[0m\u001b[0;34m,\u001b[0m\u001b[0;34m\u001b[0m\u001b[0;34m\u001b[0m\u001b[0m\n\u001b[1;32m    487\u001b[0m             )\n\u001b[0;32m--> 488\u001b[0;31m         torch.autograd.backward(\n\u001b[0m\u001b[1;32m    489\u001b[0m             \u001b[0mself\u001b[0m\u001b[0;34m,\u001b[0m \u001b[0mgradient\u001b[0m\u001b[0;34m,\u001b[0m \u001b[0mretain_graph\u001b[0m\u001b[0;34m,\u001b[0m \u001b[0mcreate_graph\u001b[0m\u001b[0;34m,\u001b[0m \u001b[0minputs\u001b[0m\u001b[0;34m=\u001b[0m\u001b[0minputs\u001b[0m\u001b[0;34m\u001b[0m\u001b[0;34m\u001b[0m\u001b[0m\n\u001b[1;32m    490\u001b[0m         )\n",
      "\u001b[0;32m~/anaconda3/envs/ML2/lib/python3.10/site-packages/torch/autograd/__init__.py\u001b[0m in \u001b[0;36mbackward\u001b[0;34m(tensors, grad_tensors, retain_graph, create_graph, grad_variables, inputs)\u001b[0m\n\u001b[1;32m    195\u001b[0m     \u001b[0;31m# some Python versions print out the first line of a multi-line function\u001b[0m\u001b[0;34m\u001b[0m\u001b[0;34m\u001b[0m\u001b[0m\n\u001b[1;32m    196\u001b[0m     \u001b[0;31m# calls in the traceback and some print out the last line\u001b[0m\u001b[0;34m\u001b[0m\u001b[0;34m\u001b[0m\u001b[0m\n\u001b[0;32m--> 197\u001b[0;31m     Variable._execution_engine.run_backward(  # Calls into the C++ engine to run the backward pass\n\u001b[0m\u001b[1;32m    198\u001b[0m         \u001b[0mtensors\u001b[0m\u001b[0;34m,\u001b[0m \u001b[0mgrad_tensors_\u001b[0m\u001b[0;34m,\u001b[0m \u001b[0mretain_graph\u001b[0m\u001b[0;34m,\u001b[0m \u001b[0mcreate_graph\u001b[0m\u001b[0;34m,\u001b[0m \u001b[0minputs\u001b[0m\u001b[0;34m,\u001b[0m\u001b[0;34m\u001b[0m\u001b[0;34m\u001b[0m\u001b[0m\n\u001b[1;32m    199\u001b[0m         allow_unreachable=True, accumulate_grad=True)  # Calls into the C++ engine to run the backward pass\n",
      "\u001b[0;31mKeyboardInterrupt\u001b[0m: "
     ]
    }
   ],
   "source": [
    "for _ in range(epochs):\n",
    "    clear_output(True)\n",
    "    plot(acc_history, [\"accuracy_both\", \"accuracy_title_only\", \"accuracy_summ_only\"], f\"plots/model_07.2.png\")\n",
    "\n",
    "    acc_history['train'].append(train(model, train_set, **params))\n",
    "    acc_history['val'].append(validate(model, val_set, **params))\n",
    "    if acc_history['val'][-1]['accuracy_total'] > max_acc:\n",
    "        max_acc = acc_history['val'][-1]['accuracy_total']\n",
    "        model.save(f'./models/07.2')"
   ]
  },
  {
   "cell_type": "code",
   "execution_count": 50,
   "id": "53009761-4074-4688-ad8a-e67c0a93e20d",
   "metadata": {},
   "outputs": [],
   "source": [
    "def validate(model, dataloader):\n",
    "    model.eval()\n",
    "\n",
    "    acc = 0\n",
    "    pbar = tqdm(dataloader)\n",
    "    y_pred = []\n",
    "    y_true_list = []\n",
    "    for X_, y_true in pbar:\n",
    "        y_true_cpu = y_true\n",
    "        y_true = y_true.to(device)\n",
    "                                        \n",
    "        with torch.no_grad():\n",
    "            X = X_[-1]\n",
    "            X = [x.to(device) for x in X]\n",
    "            logits = model(*X)\n",
    "            proba_ = logits.softmax(dim=-1)\n",
    "            \n",
    "            for proba in proba_:\n",
    "                prob_sum = defaultdict(float)\n",
    "                for i, prob in enumerate(proba):\n",
    "                    prob_sum[get_cat(num_to_sub_cat[i])] += prob.item()\n",
    "                y_pred.append(cat_to_num[max(prob_sum, key=prob_sum.get)])\n",
    "            y_true_list.append(\n",
    "                np.array([cat_to_num[get_cat(num_to_sub_cat[t])] for t in get_prediction(y_true)]))\n",
    "    return y_pred, y_true_list"
   ]
  },
  {
   "cell_type": "code",
   "execution_count": 15,
   "id": "5dca5268-3997-4fe1-87a2-2d8f5b72ff4a",
   "metadata": {},
   "outputs": [],
   "source": [
    "import pickle\n",
    "from collections import defaultdict\n",
    "\n",
    "with open('./data/cat_data.pickle', 'rb') as f:\n",
    "    cat_data = pickle.load(f)\n",
    "    cats, sub_cats = cat_data[\"cat\"], cat_data[\"subcat\"]\n",
    "    \n",
    "cats = list(cats)\n",
    "subcat_to_cat = {}\n",
    "cat_nums = defaultdict(list)\n",
    "for cat_num, sub_cat in enumerate(sub_cats):\n",
    "    cat_idx = cats.index(get_cat(sub_cat))\n",
    "    cat_nums[cat_idx].append(cat_num)\n",
    "    subcat_to_cat[cat_num] = cat_idx"
   ]
  },
  {
   "cell_type": "code",
   "execution_count": null,
   "id": "e50b0406-678e-469e-869c-a4c3c1593db1",
   "metadata": {},
   "outputs": [],
   "source": [
    "def validate(model, dataloader, loss_fn, **kwargs):\n",
    "    model.eval()\n",
    "\n",
    "    metrics = defaultdict(float)\n",
    "    counter = defaultdict(int)\n",
    "    \n",
    "    dataloader.reshuffle()\n",
    "    pbar = tqdm(dataloader)\n",
    "    for X_, y_true in pbar:\n",
    "        y_true_cpu = y_true\n",
    "        y_true = y_true.to(device)  \n",
    "                                        \n",
    "        with torch.no_grad():\n",
    "            for name, X in zip(['title_only', 'summ_only', 'both'], X_):\n",
    "                X = [x.to(device) for x in X]\n",
    "                logits = model(*X)\n",
    "                loss = loss_fn(logits, y_true)\n",
    "                metrics[f'loss_{name}'] += loss.item()\n",
    "                counter[f'loss_{name}'] += 1\n",
    "                calc_metrics(logits, y_true_cpu, name, metrics, counter)\n",
    "                if name == 'both':\n",
    "                    pbar.set_description(f\"acc on both: {metrics['accuracy_both'] / counter['accuracy_both']:.3f}\")\n",
    "                    logits = logtits.detach().cpu()\n",
    "                    cat_pred = torch.vstack(logits[:, val].sum(dim=-1) for val in cat_nums.values()).T.argmax(dim=-1)\n",
    "                    metrics['cat_acc'] += accuracy_score(\n",
    "                        list(map(subcat_to_cat.get, get_prediction(y_true_cpu))),\n",
    "                        cat_pred\n",
    "                    )\n",
    "                    counter['cat_acc'] += 1\n",
    "                \n",
    "    for metric in metrics:\n",
    "        metrics[metric] /= counter[metric]\n",
    "\n",
    "    torch.cuda.empty_cache()\n",
    "    return metrics"
   ]
  },
  {
   "cell_type": "code",
   "execution_count": null,
   "id": "dde12def-e70e-42cd-a1c2-f1dc904339de",
   "metadata": {},
   "outputs": [],
   "source": []
  },
  {
   "cell_type": "code",
   "execution_count": 26,
   "id": "39367814-d4e8-48a0-9d57-49df7a76efef",
   "metadata": {},
   "outputs": [],
   "source": []
  },
  {
   "cell_type": "code",
   "execution_count": 51,
   "id": "6d1e74ab-36b8-4766-afbc-5959b34a613b",
   "metadata": {},
   "outputs": [],
   "source": [
    "val_set = MyDataset(val_seq)"
   ]
  },
  {
   "cell_type": "code",
   "execution_count": 52,
   "id": "8501176a-3d6f-40f1-9c02-68318ce35711",
   "metadata": {},
   "outputs": [
    {
     "data": {
      "application/vnd.jupyter.widget-view+json": {
       "model_id": "",
       "version_major": 2,
       "version_minor": 0
      },
      "text/plain": [
       "  0%|          | 0/157 [00:00<?, ?it/s]"
      ]
     },
     "metadata": {},
     "output_type": "display_data"
    }
   ],
   "source": [
    "t, tt = validate(model, val_set)"
   ]
  },
  {
   "cell_type": "code",
   "execution_count": 57,
   "id": "f55e5377-754e-4adf-9872-6dd9429f18b5",
   "metadata": {},
   "outputs": [
    {
     "data": {
      "text/plain": [
       "0.7334533093381324"
      ]
     },
     "execution_count": 57,
     "metadata": {},
     "output_type": "execute_result"
    }
   ],
   "source": [
    "accuracy_score(t, np.concatenate(tt))"
   ]
  }
 ],
 "metadata": {
  "kernelspec": {
   "display_name": "Python 3 (ipykernel)",
   "language": "python",
   "name": "python3"
  },
  "language_info": {
   "codemirror_mode": {
    "name": "ipython",
    "version": 3
   },
   "file_extension": ".py",
   "mimetype": "text/x-python",
   "name": "python",
   "nbconvert_exporter": "python",
   "pygments_lexer": "ipython3",
   "version": "3.10.11"
  }
 },
 "nbformat": 4,
 "nbformat_minor": 5
}
